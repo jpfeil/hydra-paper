{
 "cells": [
  {
   "cell_type": "code",
   "execution_count": null,
   "metadata": {},
   "outputs": [],
   "source": [
    "library(dplyr)\n",
    "library(survival)\n",
    "library(survminer)"
   ]
  },
  {
   "cell_type": "code",
   "execution_count": null,
   "metadata": {},
   "outputs": [],
   "source": [
    "pth <- '../data/mycn-na-tme-signal-subtract-cluster2-survival.tsv'\n",
    "\n",
    "surv <- read.table(pth,\n",
    "                  sep='\\t',\n",
    "                  header=T)\n",
    "\n",
    "surv <- dplyr::as_tibble(surv)"
   ]
  },
  {
   "cell_type": "code",
   "execution_count": null,
   "metadata": {},
   "outputs": [],
   "source": [
    "fit <- survfit(Surv(OS, vital) ~ immune, data=surv)\n",
    "g <- ggsurvplot(fit, conf.int=F, pval=T, risk.table=TRUE)\n",
    "ggsave( \"../img/cluster-2-sub-cluster-immune-OS-survival.png\", \n",
    "       print(g), \n",
    "       dpi = 1000 )\n",
    "g"
   ]
  },
  {
   "cell_type": "code",
   "execution_count": null,
   "metadata": {},
   "outputs": [],
   "source": [
    "fit <- survfit(Surv(EFS, event) ~ immune, data=surv)\n",
    "g <- ggsurvplot(fit, conf.int=F, pval=T, risk.table=TRUE)\n",
    "ggsave(\"../img/cluster-2-sub-cluster-immune-EFS-survival.png\", \n",
    "       print(g), \n",
    "       dpi = 1000)\n",
    "g"
   ]
  },
  {
   "cell_type": "code",
   "execution_count": null,
   "metadata": {},
   "outputs": [],
   "source": []
  },
  {
   "cell_type": "code",
   "execution_count": null,
   "metadata": {},
   "outputs": [],
   "source": []
  },
  {
   "cell_type": "code",
   "execution_count": null,
   "metadata": {},
   "outputs": [],
   "source": []
  }
 ],
 "metadata": {
  "kernelspec": {
   "display_name": "R",
   "language": "R",
   "name": "ir"
  },
  "language_info": {
   "codemirror_mode": "r",
   "file_extension": ".r",
   "mimetype": "text/x-r-source",
   "name": "R",
   "pygments_lexer": "r",
   "version": "3.4.4"
  }
 },
 "nbformat": 4,
 "nbformat_minor": 2
}
