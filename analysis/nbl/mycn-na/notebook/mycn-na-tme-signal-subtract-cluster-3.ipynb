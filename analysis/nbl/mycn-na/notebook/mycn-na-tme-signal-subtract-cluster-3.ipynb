{
 "cells": [
  {
   "cell_type": "code",
   "execution_count": null,
   "metadata": {},
   "outputs": [],
   "source": [
    "import pandas as pd\n",
    "import itertools\n",
    "import numpy as np\n",
    "import seaborn as sns\n",
    "import matplotlib.pyplot as plt\n",
    "import os\n",
    "import bnpy\n",
    "import warnings\n",
    "from scipy import stats\n",
    "import random\n",
    "\n",
    "from scipy.stats import kruskal, f_oneway\n",
    "import collections\n",
    "import scikit_posthocs as sp\n",
    "\n",
    "warnings.filterwarnings('ignore')"
   ]
  },
  {
   "cell_type": "code",
   "execution_count": null,
   "metadata": {},
   "outputs": [],
   "source": [
    "pth = '../data/expression/target-high-risk-nbl-mycn-na-exp-2018-11-12.tsv'\n",
    "\n",
    "exp = pd.read_csv(pth, sep='\\t', index_col=0) "
   ]
  },
  {
   "cell_type": "code",
   "execution_count": null,
   "metadata": {},
   "outputs": [],
   "source": [
    "pth = '../data/archive/mycn-na-nbl-0.2-assign-2019-03-02.tsv'\n",
    "\n",
    "assign = pd.read_csv(pth, sep='\\t', index_col=0)"
   ]
  },
  {
   "cell_type": "code",
   "execution_count": null,
   "metadata": {},
   "outputs": [],
   "source": [
    "_dir = '../data/gsea/'\n",
    "\n",
    "sub_cohort_unique = collections.defaultdict(list)\n",
    "sub_clust_unique = collections.defaultdict(list)\n",
    "\n",
    "interest = ['HALLMARK_E2F_TARGETS%MSIGDB_C2%HALLMARK_E2F_TARGETS',\n",
    "            'CELL CYCLE CHECKPOINTS%REACTOME%R-HSA-69620.1',\n",
    "            'CONDENSED NUCLEAR CHROMOSOME%GOCC%GO:0000794',\n",
    "            'RRNA PROCESSING IN THE NUCLEUS AND CYTOSOL%REACTOME%R-HSA-8868773.2']\n",
    "\n",
    "cluster1_metastatic = []\n",
    "for cluster, rows in assign.groupby('1'):\n",
    "    samps = rows.index.values\n",
    "    for samp in samps:\n",
    "    \n",
    "        pth = os.path.join(_dir, 'sub_cohort', str(cluster), samp)        \n",
    "        f1 = pd.read_csv(pth, index_col=0)\n",
    "        f1 = f1[(f1['padj'] < 0.05) & (f1['ES'] > 0.0)]\n",
    "        \n",
    "        pth = os.path.join(_dir, 'sub_clust', str(cluster), samp)\n",
    "        f2 = pd.read_csv(pth, index_col=0)\n",
    "        f2 = f2[(f2['padj'] < 0.05) & (f2['ES'] > 0.0)]\n",
    "        \n",
    "        if cluster == 3:\n",
    "            print samp\n",
    "            print f1.sort_values('NES', ascending=False)['NES'].head(10)\n",
    "            print '\\n'\n",
    "            print f2.sort_values('NES', ascending=False)['NES'].head(10)\n",
    "            print '\\n\\n'\n",
    "            \n",
    "            if len(f2.index.intersection(interest)) > 0:\n",
    "                cluster1_metastatic.append(samp)\n",
    "            \n",
    "        \n",
    "        sub_cohort_unique[cluster].extend(list(set(f1.index.values) - set(f2.index.values)))\n",
    "        sub_clust_unique[cluster].extend(list(set(f2.index.values) - set(f1.index.values)))"
   ]
  },
  {
   "cell_type": "code",
   "execution_count": null,
   "metadata": {},
   "outputs": [],
   "source": [
    "for cluster, counts in sub_cohort_unique.items():\n",
    "    print cluster, len(assign[assign['1'] == cluster])\n",
    "    \n",
    "    counter = collections.Counter(counts)\n",
    "    \n",
    "    for gs, n in counter.most_common(10):\n",
    "        print gs, n\n",
    "    \n",
    "    print '\\n\\n'"
   ]
  },
  {
   "cell_type": "code",
   "execution_count": null,
   "metadata": {},
   "outputs": [],
   "source": [
    "top5 = []\n",
    "for cluster, counts in sub_clust_unique.items():\n",
    "    print cluster, len(assign[assign['1'] == cluster])\n",
    "    \n",
    "    counter = collections.Counter(counts)\n",
    "    \n",
    "    for gs, n in counter.most_common(5):\n",
    "        print gs, n\n",
    "        if cluster == 3:\n",
    "            top5.append(gs)\n",
    "    \n",
    "    print '\\n\\n'"
   ]
  },
  {
   "cell_type": "code",
   "execution_count": null,
   "metadata": {},
   "outputs": [],
   "source": [
    "top5"
   ]
  },
  {
   "cell_type": "code",
   "execution_count": null,
   "metadata": {},
   "outputs": [],
   "source": [
    "def get_event(event):\n",
    "    if pd.isnull(event):\n",
    "        print(\"NULL\")\n",
    "        return np.nan\n",
    "    \n",
    "    events = ['Relapse',\n",
    "              'Death', \n",
    "              'Progression',\n",
    "              'Event',\n",
    "              'Second Malignant Neoplasm']\n",
    "    \n",
    "    if event == 'Censored':\n",
    "        return 0\n",
    "    \n",
    "    elif event in events:\n",
    "        return 1 \n",
    "    \n",
    "    else:\n",
    "        raise ValueError(event)\n",
    "        \n",
    "def get_vital(vital):\n",
    "    if pd.isnull(vital):\n",
    "        print(\"NULL\")\n",
    "        return np.nan\n",
    "    \n",
    "    \n",
    "    if vital == 'Alive':\n",
    "        return 0\n",
    "    \n",
    "    elif vital == 'Dead':\n",
    "        return 1\n",
    "    \n",
    "    else:\n",
    "        raise ValueError(vital)\n",
    "\n",
    "pth = '../data/meta/TARGET_NBL_ClinicalData_Discovery_20170525.xlsx'\n",
    "clinical = pd.read_excel(pth, index_col=0)\n",
    "\n",
    "surv = pd.DataFrame(index=assign[assign['1'] == 2].index, \n",
    "                    columns=['OS', 'vital', 'EFS', 'event', 'cell.cycle'])\n",
    "\n",
    "for sample in assign[assign['1'] == 3].index:\n",
    "    root = '-'.join(sample.split('-')[:3])\n",
    "    if root not in clinical.index:\n",
    "        print \"Missing: \", sample\n",
    "        continue\n",
    "    \n",
    "    OS = clinical.loc[root, 'Overall Survival Time in Days'].item()\n",
    "    vital = get_vital(clinical.loc[root, 'Vital Status'])\n",
    "    \n",
    "    EFS = clinical.loc[root, 'Event Free Survival Time in Days'].item()\n",
    "    event = get_event(clinical.loc[root, 'First Event'])\n",
    "    \n",
    "    \n",
    "    immune = 1 if sample in cluster1_metastatic else 0\n",
    "    surv.loc[sample, :] = [OS, vital, EFS, event, immune]"
   ]
  },
  {
   "cell_type": "code",
   "execution_count": null,
   "metadata": {},
   "outputs": [],
   "source": [
    "import uuid\n",
    "\n",
    "# Can't figure out how to pass this dataframe\n",
    "survpth = '../data/mycn-na-tme-signal-subtract-cluster3-survival.tsv'\n",
    "surv.to_csv(survpth, sep='\\t')"
   ]
  },
  {
   "cell_type": "code",
   "execution_count": null,
   "metadata": {},
   "outputs": [],
   "source": [
    "%%R -i survpth\n",
    "\n",
    "require(dpylr)\n",
    "require(survival)\n",
    "require(survminer)\n",
    "\n",
    "surv <- read.table(survpth,\n",
    "                  sep='\\t',\n",
    "                  header=T)\n",
    "\n",
    "surv <- dplyr::as_tibble(surv)"
   ]
  },
  {
   "cell_type": "code",
   "execution_count": null,
   "metadata": {},
   "outputs": [],
   "source": [
    "%%R\n",
    "\n",
    "fit <- survfit(Surv(OS, vital) ~ cell.cycle, data=surv)\n",
    "g <- ggsurvplot(fit, conf.int=F, pval=T, risk.table=T)\n",
    "ggsave( \"/home/jpfeil/MEGAsync/Dropbox/hydra-paper/MYCNna/cluster-3-sub-cluster-cell-cycle-OS-survival.png\", \n",
    "       print(g), \n",
    "       dpi = 1000 )\n",
    "g"
   ]
  },
  {
   "cell_type": "code",
   "execution_count": null,
   "metadata": {},
   "outputs": [],
   "source": [
    "%%R\n",
    "\n",
    "fit <- survfit(Surv(EFS, event) ~ cell.cycle, data=surv)\n",
    "ggsurvplot(fit, conf.int=F, pval=T, risk.table=TRUE)\n",
    "ggsave( \"/home/jpfeil/MEGAsync/Dropbox/hydra-paper/MYCNna/cluster-3-sub-cluster-cell-cycle-EFS-survival.png\", \n",
    "       print(g), \n",
    "       dpi = 1000 )\n",
    "g"
   ]
  },
  {
   "cell_type": "code",
   "execution_count": null,
   "metadata": {},
   "outputs": [],
   "source": []
  }
 ],
 "metadata": {
  "kernelspec": {
   "display_name": "Python 2",
   "language": "python",
   "name": "python2"
  },
  "language_info": {
   "codemirror_mode": {
    "name": "ipython",
    "version": 2
   },
   "file_extension": ".py",
   "mimetype": "text/x-python",
   "name": "python",
   "nbconvert_exporter": "python",
   "pygments_lexer": "ipython2",
   "version": "2.7.16"
  }
 },
 "nbformat": 4,
 "nbformat_minor": 2
}
