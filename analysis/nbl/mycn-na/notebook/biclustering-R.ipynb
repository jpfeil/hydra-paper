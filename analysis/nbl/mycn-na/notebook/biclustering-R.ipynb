{
 "cells": [
  {
   "cell_type": "code",
   "execution_count": 38,
   "metadata": {},
   "outputs": [],
   "source": [
    "library(eisa)\n",
    "library(org.Hs.eg.db)"
   ]
  },
  {
   "cell_type": "code",
   "execution_count": 64,
   "metadata": {},
   "outputs": [
    {
     "name": "stderr",
     "output_type": "stream",
     "text": [
      "Installing package into ‘/usr/local/lib/R/site-library’\n",
      "(as ‘lib’ is unspecified)\n",
      "Warning message:\n",
      "“package ‘affycoretools’ is not available (for R version 3.4.4)”"
     ]
    }
   ],
   "source": [
    "install.packages('affycoretools')"
   ]
  },
  {
   "cell_type": "code",
   "execution_count": 39,
   "metadata": {},
   "outputs": [],
   "source": [
    "exp <- read.table(\"../data/expression/target-high-risk-nbl-mycn-na-exp-2018-11-12.tsv\",\n",
    "                   sep='\\t',\n",
    "                   header=T,\n",
    "                   row.names=1)"
   ]
  },
  {
   "cell_type": "code",
   "execution_count": 47,
   "metadata": {},
   "outputs": [
    {
     "data": {
      "text/plain": [
       "ExpressionSet (storageMode: lockedEnvironment)\n",
       "assayData: 12625 features, 128 samples \n",
       "  element names: exprs \n",
       "protocolData: none\n",
       "phenoData\n",
       "  sampleNames: 01005 01010 ... LAL4 (128 total)\n",
       "  varLabels: cod diagnosis ... date last seen (21 total)\n",
       "  varMetadata: labelDescription\n",
       "featureData: none\n",
       "experimentData: use 'experimentData(object)'\n",
       "  pubMedIds: 14684422 16243790 \n",
       "Annotation: hgu95av2 "
      ]
     },
     "metadata": {},
     "output_type": "display_data"
    }
   ],
   "source": [
    "library(ALL)\n",
    "data(ALL)\n",
    "\n",
    "ALL"
   ]
  },
  {
   "cell_type": "code",
   "execution_count": 41,
   "metadata": {},
   "outputs": [
    {
     "name": "stderr",
     "output_type": "stream",
     "text": [
      "'select()' returned 1:many mapping between keys and columns\n"
     ]
    }
   ],
   "source": [
    "# https://www.biostars.org/p/193281/\n",
    "geneSymbols = rownames(exp)\n",
    "annotations = select(org.Hs.eg.db, geneSymbols, \"ENTREZID\", \"SYMBOL\")\n",
    "annotations = annotations[!is.na(annotations$ENTREZID),]\n",
    "\n",
    "annotationsVec = c(annotations$ENTREZID)\n",
    "names(annotationsVec) = annotations$SYMBOL\n",
    "annotationsVec = as.list(annotationsVec)\n",
    "\n",
    "exp = exp[rownames(exp) %in% annotations$SYMBOL,]"
   ]
  },
  {
   "cell_type": "code",
   "execution_count": 48,
   "metadata": {},
   "outputs": [],
   "source": [
    "eset <- ExpressionSet(assayData=as.matrix(exp),\n",
    "                      annotation='org.Hs.eg')"
   ]
  },
  {
   "cell_type": "code",
   "execution_count": 49,
   "metadata": {},
   "outputs": [],
   "source": [
    "thr.gene <- 2.7\n",
    "thr.cond <- 1.4\n",
    "\n",
    "set.seed(1)"
   ]
  },
  {
   "cell_type": "code",
   "execution_count": 51,
   "metadata": {},
   "outputs": [],
   "source": [
    "modules <- ISA(eset, \n",
    "               thr.gene=thr.gene, \n",
    "               uniqueEntrez=F,\n",
    "               thr.cond=thr.cond)"
   ]
  },
  {
   "cell_type": "code",
   "execution_count": 52,
   "metadata": {},
   "outputs": [
    {
     "data": {
      "text/plain": [
       "An ISAModules instance.\n",
       "  Number of modules: 2 \n",
       "  Number of features: 14179 \n",
       "  Number of samples: 70 \n",
       "  Gene threshold(s): 2.7 \n",
       "  Conditions threshold(s): 1.4 "
      ]
     },
     "metadata": {},
     "output_type": "display_data"
    }
   ],
   "source": [
    "modules"
   ]
  },
  {
   "cell_type": "code",
   "execution_count": 54,
   "metadata": {},
   "outputs": [
    {
     "data": {
      "text/html": [
       "<ol class=list-inline>\n",
       "\t<li>'A1BG'</li>\n",
       "\t<li>'A1BG-AS1'</li>\n",
       "\t<li>'A2M'</li>\n",
       "\t<li>'A2M-AS1'</li>\n",
       "\t<li>'A4GALT'</li>\n",
       "</ol>\n"
      ],
      "text/latex": [
       "\\begin{enumerate*}\n",
       "\\item 'A1BG'\n",
       "\\item 'A1BG-AS1'\n",
       "\\item 'A2M'\n",
       "\\item 'A2M-AS1'\n",
       "\\item 'A4GALT'\n",
       "\\end{enumerate*}\n"
      ],
      "text/markdown": [
       "1. 'A1BG'\n",
       "2. 'A1BG-AS1'\n",
       "3. 'A2M'\n",
       "4. 'A2M-AS1'\n",
       "5. 'A4GALT'\n",
       "\n",
       "\n"
      ],
      "text/plain": [
       "[1] \"A1BG\"     \"A1BG-AS1\" \"A2M\"      \"A2M-AS1\"  \"A4GALT\"  "
      ]
     },
     "metadata": {},
     "output_type": "display_data"
    }
   ],
   "source": [
    "featureNames(modules)[1:5]"
   ]
  },
  {
   "cell_type": "code",
   "execution_count": 55,
   "metadata": {},
   "outputs": [
    {
     "data": {
      "text/html": [
       "<ol class=list-inline>\n",
       "\t<li>'TARGET.30.PAITCI.01'</li>\n",
       "\t<li>'TARGET.30.PAITEG.01'</li>\n",
       "\t<li>'TARGET.30.PAIVHE.01'</li>\n",
       "\t<li>'TARGET.30.PALBFW.01'</li>\n",
       "\t<li>'TARGET.30.PALCBW.01'</li>\n",
       "\t<li>'TARGET.30.PALETP.01'</li>\n",
       "\t<li>'TARGET.30.PALIIN.01'</li>\n",
       "\t<li>'TARGET.30.PALNVP.01'</li>\n",
       "\t<li>'TARGET.30.PALTEG.01'</li>\n",
       "\t<li>'TARGET.30.PALUYS.01'</li>\n",
       "\t<li>'TARGET.30.PALWVJ.01'</li>\n",
       "\t<li>'TARGET.30.PALXTB.01'</li>\n",
       "\t<li>'TARGET.30.PAMYCE.01'</li>\n",
       "\t<li>'TARGET.30.PANBJH.01'</li>\n",
       "\t<li>'TARGET.30.PANBSP.01'</li>\n",
       "\t<li>'TARGET.30.PANKFE.01'</li>\n",
       "\t<li>'TARGET.30.PANNMS.01'</li>\n",
       "\t<li>'TARGET.30.PANRHJ.01'</li>\n",
       "\t<li>'TARGET.30.PANRRW.01'</li>\n",
       "\t<li>'TARGET.30.PANRVJ.01'</li>\n",
       "\t<li>'TARGET.30.PANUIF.01'</li>\n",
       "\t<li>'TARGET.30.PANWRR.01'</li>\n",
       "\t<li>'TARGET.30.PANYGR.01'</li>\n",
       "\t<li>'TARGET.30.PANZPV.01'</li>\n",
       "\t<li>'TARGET.30.PANZVU.01'</li>\n",
       "\t<li>'TARGET.30.PAPBGH.01'</li>\n",
       "\t<li>'TARGET.30.PAPBZI.01'</li>\n",
       "\t<li>'TARGET.30.PAPEAV.01'</li>\n",
       "\t<li>'TARGET.30.PAPHPE.01'</li>\n",
       "\t<li>'TARGET.30.PAPKXS.01'</li>\n",
       "\t<li>'TARGET.30.PAPLSD.01'</li>\n",
       "\t<li>'TARGET.30.PAPUAR.01'</li>\n",
       "\t<li>'TARGET.30.PAPUEB.01'</li>\n",
       "\t<li>'TARGET.30.PAPUWY.01'</li>\n",
       "\t<li>'TARGET.30.PAPVFD.01'</li>\n",
       "\t<li>'TARGET.30.PAPVXS.01'</li>\n",
       "\t<li>'TARGET.30.PARACS.01'</li>\n",
       "\t<li>'TARGET.30.PARBGP.01'</li>\n",
       "\t<li>'TARGET.30.PARDIW.01'</li>\n",
       "\t<li>'TARGET.30.PARFWB.01'</li>\n",
       "\t<li>'TARGET.30.PARGKK.01'</li>\n",
       "\t<li>'TARGET.30.PARHAM.01'</li>\n",
       "\t<li>'TARGET.30.PARHAM.02'</li>\n",
       "\t<li>'TARGET.30.PARKGJ.01'</li>\n",
       "\t<li>'TARGET.30.PARSBI.01'</li>\n",
       "\t<li>'TARGET.30.PARYNK.01'</li>\n",
       "\t<li>'TARGET.30.PARZIP.01'</li>\n",
       "\t<li>'TARGET.30.PASFGG.01'</li>\n",
       "\t<li>'TARGET.30.PASMNT.01'</li>\n",
       "\t<li>'TARGET.30.PASNEF.01'</li>\n",
       "\t<li>'TARGET.30.PASPER.01'</li>\n",
       "\t<li>'TARGET.30.PASRFS.01'</li>\n",
       "\t<li>'TARGET.30.PASSRS.01'</li>\n",
       "\t<li>'TARGET.30.PASTCN.01'</li>\n",
       "\t<li>'TARGET.30.PASTKC.01'</li>\n",
       "\t<li>'TARGET.30.PASUCB.01'</li>\n",
       "\t<li>'TARGET.30.PASUYG.01'</li>\n",
       "\t<li>'TARGET.30.PASWIJ.01'</li>\n",
       "\t<li>'TARGET.30.PASXHE.01'</li>\n",
       "\t<li>'TARGET.30.PASXRJ.01'</li>\n",
       "\t<li>'TARGET.30.PASYPX.01'</li>\n",
       "\t<li>'TARGET.30.PATCFL.01'</li>\n",
       "\t<li>'TARGET.30.PATDXC.01'</li>\n",
       "\t<li>'TARGET.30.PATFCY.01'</li>\n",
       "\t<li>'TARGET.30.PATGLU.01'</li>\n",
       "\t<li>'TARGET.30.PATHVK.01'</li>\n",
       "\t<li>'TARGET.30.PATINJ.01'</li>\n",
       "\t<li>'TARGET.30.PATNKP.02'</li>\n",
       "\t<li>'TARGET.30.PATYIL.01'</li>\n",
       "\t<li>'TARGET.30.PATYIL.02'</li>\n",
       "</ol>\n"
      ],
      "text/latex": [
       "\\begin{enumerate*}\n",
       "\\item 'TARGET.30.PAITCI.01'\n",
       "\\item 'TARGET.30.PAITEG.01'\n",
       "\\item 'TARGET.30.PAIVHE.01'\n",
       "\\item 'TARGET.30.PALBFW.01'\n",
       "\\item 'TARGET.30.PALCBW.01'\n",
       "\\item 'TARGET.30.PALETP.01'\n",
       "\\item 'TARGET.30.PALIIN.01'\n",
       "\\item 'TARGET.30.PALNVP.01'\n",
       "\\item 'TARGET.30.PALTEG.01'\n",
       "\\item 'TARGET.30.PALUYS.01'\n",
       "\\item 'TARGET.30.PALWVJ.01'\n",
       "\\item 'TARGET.30.PALXTB.01'\n",
       "\\item 'TARGET.30.PAMYCE.01'\n",
       "\\item 'TARGET.30.PANBJH.01'\n",
       "\\item 'TARGET.30.PANBSP.01'\n",
       "\\item 'TARGET.30.PANKFE.01'\n",
       "\\item 'TARGET.30.PANNMS.01'\n",
       "\\item 'TARGET.30.PANRHJ.01'\n",
       "\\item 'TARGET.30.PANRRW.01'\n",
       "\\item 'TARGET.30.PANRVJ.01'\n",
       "\\item 'TARGET.30.PANUIF.01'\n",
       "\\item 'TARGET.30.PANWRR.01'\n",
       "\\item 'TARGET.30.PANYGR.01'\n",
       "\\item 'TARGET.30.PANZPV.01'\n",
       "\\item 'TARGET.30.PANZVU.01'\n",
       "\\item 'TARGET.30.PAPBGH.01'\n",
       "\\item 'TARGET.30.PAPBZI.01'\n",
       "\\item 'TARGET.30.PAPEAV.01'\n",
       "\\item 'TARGET.30.PAPHPE.01'\n",
       "\\item 'TARGET.30.PAPKXS.01'\n",
       "\\item 'TARGET.30.PAPLSD.01'\n",
       "\\item 'TARGET.30.PAPUAR.01'\n",
       "\\item 'TARGET.30.PAPUEB.01'\n",
       "\\item 'TARGET.30.PAPUWY.01'\n",
       "\\item 'TARGET.30.PAPVFD.01'\n",
       "\\item 'TARGET.30.PAPVXS.01'\n",
       "\\item 'TARGET.30.PARACS.01'\n",
       "\\item 'TARGET.30.PARBGP.01'\n",
       "\\item 'TARGET.30.PARDIW.01'\n",
       "\\item 'TARGET.30.PARFWB.01'\n",
       "\\item 'TARGET.30.PARGKK.01'\n",
       "\\item 'TARGET.30.PARHAM.01'\n",
       "\\item 'TARGET.30.PARHAM.02'\n",
       "\\item 'TARGET.30.PARKGJ.01'\n",
       "\\item 'TARGET.30.PARSBI.01'\n",
       "\\item 'TARGET.30.PARYNK.01'\n",
       "\\item 'TARGET.30.PARZIP.01'\n",
       "\\item 'TARGET.30.PASFGG.01'\n",
       "\\item 'TARGET.30.PASMNT.01'\n",
       "\\item 'TARGET.30.PASNEF.01'\n",
       "\\item 'TARGET.30.PASPER.01'\n",
       "\\item 'TARGET.30.PASRFS.01'\n",
       "\\item 'TARGET.30.PASSRS.01'\n",
       "\\item 'TARGET.30.PASTCN.01'\n",
       "\\item 'TARGET.30.PASTKC.01'\n",
       "\\item 'TARGET.30.PASUCB.01'\n",
       "\\item 'TARGET.30.PASUYG.01'\n",
       "\\item 'TARGET.30.PASWIJ.01'\n",
       "\\item 'TARGET.30.PASXHE.01'\n",
       "\\item 'TARGET.30.PASXRJ.01'\n",
       "\\item 'TARGET.30.PASYPX.01'\n",
       "\\item 'TARGET.30.PATCFL.01'\n",
       "\\item 'TARGET.30.PATDXC.01'\n",
       "\\item 'TARGET.30.PATFCY.01'\n",
       "\\item 'TARGET.30.PATGLU.01'\n",
       "\\item 'TARGET.30.PATHVK.01'\n",
       "\\item 'TARGET.30.PATINJ.01'\n",
       "\\item 'TARGET.30.PATNKP.02'\n",
       "\\item 'TARGET.30.PATYIL.01'\n",
       "\\item 'TARGET.30.PATYIL.02'\n",
       "\\end{enumerate*}\n"
      ],
      "text/markdown": [
       "1. 'TARGET.30.PAITCI.01'\n",
       "2. 'TARGET.30.PAITEG.01'\n",
       "3. 'TARGET.30.PAIVHE.01'\n",
       "4. 'TARGET.30.PALBFW.01'\n",
       "5. 'TARGET.30.PALCBW.01'\n",
       "6. 'TARGET.30.PALETP.01'\n",
       "7. 'TARGET.30.PALIIN.01'\n",
       "8. 'TARGET.30.PALNVP.01'\n",
       "9. 'TARGET.30.PALTEG.01'\n",
       "10. 'TARGET.30.PALUYS.01'\n",
       "11. 'TARGET.30.PALWVJ.01'\n",
       "12. 'TARGET.30.PALXTB.01'\n",
       "13. 'TARGET.30.PAMYCE.01'\n",
       "14. 'TARGET.30.PANBJH.01'\n",
       "15. 'TARGET.30.PANBSP.01'\n",
       "16. 'TARGET.30.PANKFE.01'\n",
       "17. 'TARGET.30.PANNMS.01'\n",
       "18. 'TARGET.30.PANRHJ.01'\n",
       "19. 'TARGET.30.PANRRW.01'\n",
       "20. 'TARGET.30.PANRVJ.01'\n",
       "21. 'TARGET.30.PANUIF.01'\n",
       "22. 'TARGET.30.PANWRR.01'\n",
       "23. 'TARGET.30.PANYGR.01'\n",
       "24. 'TARGET.30.PANZPV.01'\n",
       "25. 'TARGET.30.PANZVU.01'\n",
       "26. 'TARGET.30.PAPBGH.01'\n",
       "27. 'TARGET.30.PAPBZI.01'\n",
       "28. 'TARGET.30.PAPEAV.01'\n",
       "29. 'TARGET.30.PAPHPE.01'\n",
       "30. 'TARGET.30.PAPKXS.01'\n",
       "31. 'TARGET.30.PAPLSD.01'\n",
       "32. 'TARGET.30.PAPUAR.01'\n",
       "33. 'TARGET.30.PAPUEB.01'\n",
       "34. 'TARGET.30.PAPUWY.01'\n",
       "35. 'TARGET.30.PAPVFD.01'\n",
       "36. 'TARGET.30.PAPVXS.01'\n",
       "37. 'TARGET.30.PARACS.01'\n",
       "38. 'TARGET.30.PARBGP.01'\n",
       "39. 'TARGET.30.PARDIW.01'\n",
       "40. 'TARGET.30.PARFWB.01'\n",
       "41. 'TARGET.30.PARGKK.01'\n",
       "42. 'TARGET.30.PARHAM.01'\n",
       "43. 'TARGET.30.PARHAM.02'\n",
       "44. 'TARGET.30.PARKGJ.01'\n",
       "45. 'TARGET.30.PARSBI.01'\n",
       "46. 'TARGET.30.PARYNK.01'\n",
       "47. 'TARGET.30.PARZIP.01'\n",
       "48. 'TARGET.30.PASFGG.01'\n",
       "49. 'TARGET.30.PASMNT.01'\n",
       "50. 'TARGET.30.PASNEF.01'\n",
       "51. 'TARGET.30.PASPER.01'\n",
       "52. 'TARGET.30.PASRFS.01'\n",
       "53. 'TARGET.30.PASSRS.01'\n",
       "54. 'TARGET.30.PASTCN.01'\n",
       "55. 'TARGET.30.PASTKC.01'\n",
       "56. 'TARGET.30.PASUCB.01'\n",
       "57. 'TARGET.30.PASUYG.01'\n",
       "58. 'TARGET.30.PASWIJ.01'\n",
       "59. 'TARGET.30.PASXHE.01'\n",
       "60. 'TARGET.30.PASXRJ.01'\n",
       "61. 'TARGET.30.PASYPX.01'\n",
       "62. 'TARGET.30.PATCFL.01'\n",
       "63. 'TARGET.30.PATDXC.01'\n",
       "64. 'TARGET.30.PATFCY.01'\n",
       "65. 'TARGET.30.PATGLU.01'\n",
       "66. 'TARGET.30.PATHVK.01'\n",
       "67. 'TARGET.30.PATINJ.01'\n",
       "68. 'TARGET.30.PATNKP.02'\n",
       "69. 'TARGET.30.PATYIL.01'\n",
       "70. 'TARGET.30.PATYIL.02'\n",
       "\n",
       "\n"
      ],
      "text/plain": [
       " [1] \"TARGET.30.PAITCI.01\" \"TARGET.30.PAITEG.01\" \"TARGET.30.PAIVHE.01\"\n",
       " [4] \"TARGET.30.PALBFW.01\" \"TARGET.30.PALCBW.01\" \"TARGET.30.PALETP.01\"\n",
       " [7] \"TARGET.30.PALIIN.01\" \"TARGET.30.PALNVP.01\" \"TARGET.30.PALTEG.01\"\n",
       "[10] \"TARGET.30.PALUYS.01\" \"TARGET.30.PALWVJ.01\" \"TARGET.30.PALXTB.01\"\n",
       "[13] \"TARGET.30.PAMYCE.01\" \"TARGET.30.PANBJH.01\" \"TARGET.30.PANBSP.01\"\n",
       "[16] \"TARGET.30.PANKFE.01\" \"TARGET.30.PANNMS.01\" \"TARGET.30.PANRHJ.01\"\n",
       "[19] \"TARGET.30.PANRRW.01\" \"TARGET.30.PANRVJ.01\" \"TARGET.30.PANUIF.01\"\n",
       "[22] \"TARGET.30.PANWRR.01\" \"TARGET.30.PANYGR.01\" \"TARGET.30.PANZPV.01\"\n",
       "[25] \"TARGET.30.PANZVU.01\" \"TARGET.30.PAPBGH.01\" \"TARGET.30.PAPBZI.01\"\n",
       "[28] \"TARGET.30.PAPEAV.01\" \"TARGET.30.PAPHPE.01\" \"TARGET.30.PAPKXS.01\"\n",
       "[31] \"TARGET.30.PAPLSD.01\" \"TARGET.30.PAPUAR.01\" \"TARGET.30.PAPUEB.01\"\n",
       "[34] \"TARGET.30.PAPUWY.01\" \"TARGET.30.PAPVFD.01\" \"TARGET.30.PAPVXS.01\"\n",
       "[37] \"TARGET.30.PARACS.01\" \"TARGET.30.PARBGP.01\" \"TARGET.30.PARDIW.01\"\n",
       "[40] \"TARGET.30.PARFWB.01\" \"TARGET.30.PARGKK.01\" \"TARGET.30.PARHAM.01\"\n",
       "[43] \"TARGET.30.PARHAM.02\" \"TARGET.30.PARKGJ.01\" \"TARGET.30.PARSBI.01\"\n",
       "[46] \"TARGET.30.PARYNK.01\" \"TARGET.30.PARZIP.01\" \"TARGET.30.PASFGG.01\"\n",
       "[49] \"TARGET.30.PASMNT.01\" \"TARGET.30.PASNEF.01\" \"TARGET.30.PASPER.01\"\n",
       "[52] \"TARGET.30.PASRFS.01\" \"TARGET.30.PASSRS.01\" \"TARGET.30.PASTCN.01\"\n",
       "[55] \"TARGET.30.PASTKC.01\" \"TARGET.30.PASUCB.01\" \"TARGET.30.PASUYG.01\"\n",
       "[58] \"TARGET.30.PASWIJ.01\" \"TARGET.30.PASXHE.01\" \"TARGET.30.PASXRJ.01\"\n",
       "[61] \"TARGET.30.PASYPX.01\" \"TARGET.30.PATCFL.01\" \"TARGET.30.PATDXC.01\"\n",
       "[64] \"TARGET.30.PATFCY.01\" \"TARGET.30.PATGLU.01\" \"TARGET.30.PATHVK.01\"\n",
       "[67] \"TARGET.30.PATINJ.01\" \"TARGET.30.PATNKP.02\" \"TARGET.30.PATYIL.01\"\n",
       "[70] \"TARGET.30.PATYIL.02\""
      ]
     },
     "metadata": {},
     "output_type": "display_data"
    }
   ],
   "source": [
    "sampleNames(modules)"
   ]
  },
  {
   "cell_type": "code",
   "execution_count": 57,
   "metadata": {},
   "outputs": [],
   "source": [
    "help(ISAGO)"
   ]
  },
  {
   "cell_type": "code",
   "execution_count": 58,
   "metadata": {},
   "outputs": [],
   "source": [
    "org.Hs.egENTREZID = new.env(hash=TRUE, parent=emptyenv())\n",
    "   for (k in keys(org.Hs.egENSEMBL)) org.Hs.egENTREZID[[k]] = k"
   ]
  },
  {
   "cell_type": "code",
   "execution_count": 63,
   "metadata": {},
   "outputs": [
    {
     "ename": "ERROR",
     "evalue": "Error: value for ‘ABCC4’ not found\n",
     "output_type": "error",
     "traceback": [
      "Error: value for ‘ABCC4’ not found\nTraceback:\n",
      "1. ISAGO(modules, ann = \"org.Hs.eg\")",
      "2. lapply(selectedEntrezIds, function(x) unlist(mget(x, ENTREZ)))",
      "3. FUN(X[[i]], ...)",
      "4. unlist(mget(x, ENTREZ))",
      "5. mget(x, ENTREZ)",
      "6. mget(x, ENTREZ)",
      "7. (function (x) \n . stop(gettextf(\"value for %s not found\", sQuote(x)), call. = FALSE))(\"ABCC4\")",
      "8. stop(gettextf(\"value for %s not found\", sQuote(x)), call. = FALSE)"
     ]
    }
   ],
   "source": [
    "GO <- ISAGO(modules, ann='org.Hs.eg')"
   ]
  },
  {
   "cell_type": "code",
   "execution_count": null,
   "metadata": {},
   "outputs": [],
   "source": []
  }
 ],
 "metadata": {
  "kernelspec": {
   "display_name": "R",
   "language": "R",
   "name": "ir"
  },
  "language_info": {
   "codemirror_mode": "r",
   "file_extension": ".r",
   "mimetype": "text/x-r-source",
   "name": "R",
   "pygments_lexer": "r",
   "version": "3.4.4"
  }
 },
 "nbformat": 4,
 "nbformat_minor": 2
}
