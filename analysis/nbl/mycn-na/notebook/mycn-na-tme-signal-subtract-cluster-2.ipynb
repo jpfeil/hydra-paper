{
 "cells": [
  {
   "cell_type": "code",
   "execution_count": null,
   "metadata": {},
   "outputs": [],
   "source": [
    "%matplotlib inline\n",
    "import pandas as pd\n",
    "import itertools\n",
    "import numpy as np\n",
    "import seaborn as sns\n",
    "import matplotlib.pyplot as plt\n",
    "import os\n",
    "import bnpy\n",
    "import warnings\n",
    "from scipy import stats\n",
    "import random\n",
    "\n",
    "from scipy.stats import kruskal, f_oneway\n",
    "import collections\n",
    "import scikit_posthocs as sp\n",
    "\n",
    "warnings.filterwarnings('ignore')"
   ]
  },
  {
   "cell_type": "code",
   "execution_count": null,
   "metadata": {},
   "outputs": [],
   "source": [
    "pth = '../data/expression/target-high-risk-nbl-mycn-na-exp-2018-11-12.tsv'\n",
    "\n",
    "exp = pd.read_csv(pth, sep='\\t', index_col=0) "
   ]
  },
  {
   "cell_type": "code",
   "execution_count": null,
   "metadata": {},
   "outputs": [],
   "source": [
    "pth = '../data/archive/mycn-na-nbl-0.2-assign-2019-03-02.tsv'\n",
    "assign = pd.read_csv(pth, sep='\\t', index_col=0)"
   ]
  },
  {
   "cell_type": "code",
   "execution_count": null,
   "metadata": {},
   "outputs": [],
   "source": [
    "assign"
   ]
  },
  {
   "cell_type": "code",
   "execution_count": null,
   "metadata": {},
   "outputs": [],
   "source": [
    "_dir = '../data/gsea/'\n",
    "\n",
    "sub_cohort = collections.defaultdict(list)\n",
    "sub_cohort_unique = collections.defaultdict(list)\n",
    "sub_clust_unique = collections.defaultdict(list)\n",
    "\n",
    "interest = ['HUMORAL IMMUNE RESPONSE MEDIATED BY CIRCULATING IMMUNOGLOBULIN%GOBP%GO:0002455',\n",
    " 'COMPLEMENT ACTIVATION, CLASSICAL PATHWAY%GOBP%GO:0006958',\n",
    " 'IMMUNOGLOBULIN COMPLEX%GOCC%GO:0019814',\n",
    " 'LEUKOCYTE DEGRANULATION%GOBP%GO:0043299',\n",
    " 'MYELOID LEUKOCYTE MEDIATED IMMUNITY%GOBP%GO:0002444',\n",
    " 'IMMUNOGLOBULIN RECEPTOR BINDING%GOMF%GO:0034987',\n",
    " 'GRANULOCYTE ACTIVATION%GOBP%GO:0036230',\n",
    " 'INFLAMMATORY RESPONSE%GOBP%GO:0006954',\n",
    " 'CELL ACTIVATION INVOLVED IN IMMUNE RESPONSE%GOBP%GO:0002263',\n",
    " 'NEUTROPHIL ACTIVATION%GOBP%GO:0042119']\n",
    "\n",
    "cluster2_immune = []\n",
    "for cluster, rows in assign.groupby('1'):\n",
    "    samps = rows.index.values\n",
    "    for samp in samps:\n",
    "        pth = os.path.join(_dir, 'sub_cohort', str(cluster), samp)        \n",
    "        f1 = pd.read_csv(pth, index_col=0)\n",
    "        f1 = f1[(f1['padj'] < 0.05) & (f1['ES'] > 0.0)]\n",
    "        \n",
    "        pth = os.path.join(_dir, 'sub_clust', str(cluster), samp)\n",
    "        f2 = pd.read_csv(pth, index_col=0)\n",
    "        f2 = f2[(f2['padj'] < 0.05) & (f2['ES'] > 0.0)]\n",
    "        \n",
    "        if cluster == 2:\n",
    "            print samp\n",
    "            print f1.sort_values('NES', ascending=False)['NES'].head(10)\n",
    "            print '\\n'\n",
    "            print f2.sort_values('NES', ascending=False)['NES'].head(50)\n",
    "            print '\\n\\n'\n",
    "            \n",
    "            if len(f2.index.intersection(interest)) > 0:\n",
    "                cluster2_immune.append(samp)\n",
    "        \n",
    "        sub_cohort_unique[cluster].extend(list(set(f1.index.values) - set(f2.index.values)))\n",
    "        sub_clust_unique[cluster].extend(list(set(f2.index.values) - set(f1.index.values)))"
   ]
  },
  {
   "cell_type": "code",
   "execution_count": null,
   "metadata": {},
   "outputs": [],
   "source": [
    "len(cluster2_immune)"
   ]
  },
  {
   "cell_type": "code",
   "execution_count": null,
   "metadata": {},
   "outputs": [],
   "source": [
    "for cluster, counts in sub_cohort_unique.items():\n",
    "    print cluster, len(assign[assign['1'] == cluster])\n",
    "    \n",
    "    counter = collections.Counter(counts)\n",
    "    \n",
    "    for gs, n in counter.most_common(10):\n",
    "        print gs, n\n",
    "    \n",
    "    print '\\n\\n'"
   ]
  },
  {
   "cell_type": "code",
   "execution_count": null,
   "metadata": {},
   "outputs": [],
   "source": [
    "top5 = []\n",
    "for cluster, counts in sub_clust_unique.items():\n",
    "    print cluster, len(assign[assign['1'] == cluster])\n",
    "    \n",
    "    counter = collections.Counter(counts)\n",
    "    \n",
    "    for gs, n in counter.most_common(10):\n",
    "        print gs, n\n",
    "        if cluster == 2:\n",
    "            top5.append(gs)\n",
    "    \n",
    "    print '\\n\\n'"
   ]
  },
  {
   "cell_type": "code",
   "execution_count": null,
   "metadata": {},
   "outputs": [],
   "source": [
    "top5"
   ]
  },
  {
   "cell_type": "code",
   "execution_count": null,
   "metadata": {},
   "outputs": [],
   "source": [
    "def get_event(event):\n",
    "    if pd.isnull(event):\n",
    "        print(\"NULL\")\n",
    "        return np.nan\n",
    "    \n",
    "    events = ['Relapse',\n",
    "              'Death', \n",
    "              'Progression',\n",
    "              'Event',\n",
    "              'Second Malignant Neoplasm']\n",
    "    \n",
    "    if event == 'Censored':\n",
    "        return 0\n",
    "    \n",
    "    elif event in events:\n",
    "        return 1 \n",
    "    \n",
    "    else:\n",
    "        raise ValueError(event)\n",
    "        \n",
    "def get_vital(vital):\n",
    "    if pd.isnull(vital):\n",
    "        print(\"NULL\")\n",
    "        return np.nan\n",
    "    \n",
    "    \n",
    "    if vital == 'Alive':\n",
    "        return 0\n",
    "    \n",
    "    elif vital == 'Dead':\n",
    "        return 1\n",
    "    \n",
    "    else:\n",
    "        raise ValueError(vital)\n",
    "\n",
    "pth = '../data/meta/TARGET_NBL_ClinicalData_Discovery_20170525.xlsx'\n",
    "clinical = pd.read_excel(pth, index_col=0)\n",
    "\n",
    "surv = pd.DataFrame(index=assign[assign['1'] == 2].index, \n",
    "                    columns=['OS', 'vital', 'EFS', 'event', 'immune'])\n",
    "\n",
    "for sample in assign[assign['1'] == 2].index:\n",
    "    root = '-'.join(sample.split('-')[:3])\n",
    "    if root not in clinical.index:\n",
    "        print \"Missing: \", sample\n",
    "        continue\n",
    "    \n",
    "    OS = clinical.loc[root, 'Overall Survival Time in Days'].item()\n",
    "    vital = get_vital(clinical.loc[root, 'Vital Status'])\n",
    "    \n",
    "    EFS = clinical.loc[root, 'Event Free Survival Time in Days'].item()\n",
    "    event = get_event(clinical.loc[root, 'First Event'])\n",
    "    \n",
    "    \n",
    "    immune = 1 if sample in cluster2_immune else 0\n",
    "    surv.loc[sample, :] = [OS, vital, EFS, event, immune]"
   ]
  },
  {
   "cell_type": "code",
   "execution_count": null,
   "metadata": {},
   "outputs": [],
   "source": [
    "import uuid\n",
    "\n",
    "# Can't figure out how to pass this dataframe\n",
    "survpth = '../data/mycn-na-tme-signal-subtract-cluster2-survival.tsv'\n",
    "surv.to_csv(survpth, sep='\\t')"
   ]
  },
  {
   "cell_type": "code",
   "execution_count": null,
   "metadata": {},
   "outputs": [],
   "source": [
    "cluster2_immune"
   ]
  },
  {
   "cell_type": "code",
   "execution_count": null,
   "metadata": {},
   "outputs": [],
   "source": [
    "og_list = ['TARGET-30-PALNVP-01',\n",
    " 'TARGET-30-PALUYS-01',\n",
    " 'TARGET-30-PALXTB-01',\n",
    " 'TARGET-30-PANUIF-01',\n",
    " 'TARGET-30-PAPEAV-01',\n",
    " 'TARGET-30-PAPLSD-01',\n",
    " 'TARGET-30-PARGKK-01',\n",
    " 'TARGET-30-PARHAM-02',\n",
    " 'TARGET-30-PASPER-01',\n",
    " 'TARGET-30-PASUYG-01',\n",
    " 'TARGET-30-PATCFL-01',\n",
    " 'TARGET-30-PATYIL-02']"
   ]
  },
  {
   "cell_type": "code",
   "execution_count": null,
   "metadata": {},
   "outputs": [],
   "source": [
    "set(og_list) - set(cluster2_immune) "
   ]
  },
  {
   "cell_type": "code",
   "execution_count": null,
   "metadata": {},
   "outputs": [],
   "source": []
  }
 ],
 "metadata": {
  "kernelspec": {
   "display_name": "Python 2",
   "language": "python",
   "name": "python2"
  },
  "language_info": {
   "codemirror_mode": {
    "name": "ipython",
    "version": 2
   },
   "file_extension": ".py",
   "mimetype": "text/x-python",
   "name": "python",
   "nbconvert_exporter": "python",
   "pygments_lexer": "ipython2",
   "version": "2.7.16"
  }
 },
 "nbformat": 4,
 "nbformat_minor": 2
}
