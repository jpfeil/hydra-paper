{
 "cells": [
  {
   "cell_type": "code",
   "execution_count": null,
   "metadata": {},
   "outputs": [],
   "source": [
    "%matplotlib inline\n",
    "import pandas as pd\n",
    "import itertools\n",
    "import numpy as np\n",
    "import seaborn as sns\n",
    "import matplotlib.pyplot as plt\n",
    "import os\n",
    "import bnpy\n",
    "import warnings\n",
    "from scipy import stats\n",
    "import random\n",
    "\n",
    "from scipy.stats import kruskal, f_oneway\n",
    "import collections\n",
    "import scikit_posthocs as sp\n",
    "\n",
    "warnings.filterwarnings('ignore')"
   ]
  },
  {
   "cell_type": "code",
   "execution_count": null,
   "metadata": {},
   "outputs": [],
   "source": [
    "pth = '../data/expression/target-high-risk-nbl-mycn-na-exp-2018-11-12.tsv'\n",
    "\n",
    "exp = pd.read_csv(pth, sep='\\t', index_col=0) "
   ]
  },
  {
   "cell_type": "code",
   "execution_count": null,
   "metadata": {},
   "outputs": [],
   "source": [
    "pth = '../data/archive/mycn-na-nbl-0.2-assign-2019-03-02.tsv'\n",
    "\n",
    "assign = pd.read_csv(pth, sep='\\t', index_col=0)"
   ]
  },
  {
   "cell_type": "code",
   "execution_count": null,
   "metadata": {},
   "outputs": [],
   "source": [
    "exp.reindex(assign[assign['1'] == 1].index.values, axis=1).to_csv('target-high-risk-nbl-mycn-na-exp-2018-11-12-cluster0.tsv',\n",
    "                                                                  sep='\\t')"
   ]
  },
  {
   "cell_type": "code",
   "execution_count": null,
   "metadata": {},
   "outputs": [],
   "source": [
    "def n1(key, zscore):\n",
    "    import uuid\n",
    "    import subprocess\n",
    "    import numpy as np\n",
    "    \n",
    "    _dir = '/tmp/%s' % str(uuid.uuid4())\n",
    "\n",
    "    os.mkdir(_dir)\n",
    "\n",
    "    cmd = [\"Rscript\",\n",
    "           \"/opt/hydra/bin/fgsea.R\",\n",
    "           \"/opt/hydra/data/Human_GO_AllPathways_no_GO_iea_October_01_2018_symbol.gmt\",\n",
    "           os.path.join(_dir, \"%s.rnk\" % key),\n",
    "           os.path.join(_dir, \"%s.fgsea\" % key)]\n",
    "\n",
    "    zscore = zscore.sort_values(ascending=False)\n",
    "    \n",
    "    zscore.to_csv(os.path.join(_dir, \"%s.rnk\" % key),\n",
    "                 header=None,\n",
    "                 sep='\\t')\n",
    "\n",
    "    subprocess.check_call(cmd)\n",
    "    \n",
    "    return pd.read_csv(os.path.join(_dir, \"%s.fgsea\" % key), index_col=0)"
   ]
  },
  {
   "cell_type": "code",
   "execution_count": null,
   "metadata": {},
   "outputs": [],
   "source": [
    "RUN = False\n",
    "\n",
    "if RUN: \n",
    "    _dir = '../data/gsea/'\n",
    "    for cluster, rows in assign.groupby('1'):\n",
    "        samps = rows.index.values\n",
    "        back = [x for x in exp.columns if x not in samps]\n",
    "    \n",
    "        for samp in samps:\n",
    "            zscore = (exp[samp] - exp[back].mean(axis=1)) / (exp[back].std(axis=1) + 0.05)\n",
    "            res = n1(samp, zscore)\n",
    "        \n",
    "            pth = os.path.join(_dir, 'sub_cohort', str(cluster), samp)\n",
    "            res.to_csv(pth)\n",
    "        \n",
    "            cback = [x for x in samps if x != samp]\n",
    "            zscore = (exp[samp] - exp[cback].mean(axis=1)) / (exp[cback].std(axis=1) + 0.05)\n",
    "            res2 = n1(samp, zscore)\n",
    "        \n",
    "            pth = os.path.join(_dir, 'sub_clust', str(cluster), samp)\n",
    "            res2.to_csv(pth)\n",
    "            \n",
    "else:\n",
    "    print(\"Run already\")"
   ]
  },
  {
   "cell_type": "code",
   "execution_count": null,
   "metadata": {
    "scrolled": true
   },
   "outputs": [],
   "source": [
    "_dir = '../data/gsea/'\n",
    "\n",
    "sub_cohort = collections.defaultdict(list)\n",
    "sub_cohort_unique = collections.defaultdict(list)\n",
    "sub_clust_unique = collections.defaultdict(list)\n",
    "\n",
    "sigs = set()\n",
    "\n",
    "interest = [\"REGULATION OF VASCULATURE DEVELOPMENT%GOBP%GO:1901342\", \n",
    "            \"POSITIVE REGULATION OF LOCOMOTION%GOBP%GO:0040017\",\n",
    "            \"PLATELET DEGRANULATION%GOBP%GO:0002576\",\n",
    "            \"RESPONSE TO ELEVATED PLATELET CYTOSOLIC CA2+%REACTOME DATABASE ID RELEASE 66%76005\",\n",
    "            \"POSITIVE REGULATION OF VASCULATURE DEVELOPMENT%GOBP%GO:1904018\"]\n",
    "\n",
    "cluster1_metastatic = []\n",
    "for cluster, rows in assign.groupby('1'):\n",
    "    samps = rows.index.values\n",
    "    for samp in samps:\n",
    "        pth = os.path.join(_dir, 'sub_cohort', str(cluster), samp)        \n",
    "        f1 = pd.read_csv(pth, index_col=0)\n",
    "        f1 = f1[(f1['padj'] < 0.05) & (f1['ES'] > 0.0)]\n",
    "        sigs.update(f1.index.values)\n",
    "        \n",
    "        pth = os.path.join(_dir, 'sub_clust', str(cluster), samp)\n",
    "        f2 = pd.read_csv(pth, index_col=0)\n",
    "        f2 = f2[(f2['padj'] < 0.05) & (f2['ES'] > 0.0)]\n",
    "        sigs.update(f2.index.values)\n",
    "        \n",
    "        if cluster == 1:\n",
    "            print samp\n",
    "            print f1.sort_values('NES', ascending=False)['NES'].head(50)\n",
    "            print '\\n'\n",
    "            print f2.sort_values('NES', ascending=False)['NES'].head(50)\n",
    "            print '\\n\\n'\n",
    "            \n",
    "            if len(f2.index.intersection(interest)) > 0:\n",
    "                cluster1_metastatic.append(samp)\n",
    "        \n",
    "        sub_cohort[cluster].extend(list(f1.index.values))\n",
    "        sub_cohort_unique[cluster].extend(list(set(f1.index.values) - set(f2.index.values)))\n",
    "        sub_clust_unique[cluster].extend(list(set(f2.index.values) - set(f1.index.values)))"
   ]
  },
  {
   "cell_type": "code",
   "execution_count": null,
   "metadata": {},
   "outputs": [],
   "source": [
    "len(sigs)"
   ]
  },
  {
   "cell_type": "code",
   "execution_count": null,
   "metadata": {},
   "outputs": [],
   "source": [
    "for cluster, counts in sub_cohort_unique.items():\n",
    "    print cluster, len(assign[assign['1'] == cluster])\n",
    "    \n",
    "    counter = collections.Counter(counts)\n",
    "    \n",
    "    for gs, n in counter.most_common(50):\n",
    "        print gs, n\n",
    "    \n",
    "    print '\\n\\n'"
   ]
  },
  {
   "cell_type": "code",
   "execution_count": null,
   "metadata": {},
   "outputs": [],
   "source": [
    "met = ['POSITIVE REGULATION OF LOCOMOTION%GOBP%GO:0040017',\n",
    "       'POSITIVE REGULATION OF CELL MIGRATION%GOBP%GO:0030335',\n",
    "       'POSITIVE REGULATION OF VASCULATURE DEVELOPMENT%GOBP%GO:1904018',\n",
    "       'REGULATION OF ENDOTHELIAL CELL MIGRATION%GOBP%GO:0010594',\n",
    "       'POSITIVE REGULATION OF CELLULAR COMPONENT MOVEMENT%GOBP%GO:0051272',\n",
    "       'POSITIVE REGULATION OF CELL MOTILITY%GOBP%GO:2000147',\n",
    "       'FOCAL ADHESION%GOCC%GO:0005925']"
   ]
  },
  {
   "cell_type": "code",
   "execution_count": null,
   "metadata": {},
   "outputs": [],
   "source": [
    "top5 = []\n",
    "\n",
    "gs_plot = pd.DataFrame(columns=['cluster', 'gs', 'percent'])\n",
    "for cluster, counts in sub_clust_unique.items():\n",
    "    N = len(assign[assign['1'] == cluster])\n",
    "    \n",
    "    print cluster, N\n",
    "    \n",
    "    counter = collections.Counter(counts)\n",
    "    \n",
    "    for gs, n in counter.most_common(10):\n",
    "        print gs, n\n",
    "        if cluster == 1:\n",
    "            top5.append(gs)\n",
    "        \n",
    "    print '\\n\\n'"
   ]
  },
  {
   "cell_type": "code",
   "execution_count": null,
   "metadata": {},
   "outputs": [],
   "source": [
    "top5"
   ]
  },
  {
   "cell_type": "code",
   "execution_count": null,
   "metadata": {},
   "outputs": [],
   "source": [
    "def get_event(event):\n",
    "    if pd.isnull(event):\n",
    "        print(\"NULL\")\n",
    "        return np.nan\n",
    "    \n",
    "    events = ['Relapse',\n",
    "              'Death', \n",
    "              'Progression',\n",
    "              'Event',\n",
    "              'Second Malignant Neoplasm']\n",
    "    \n",
    "    if event == 'Censored':\n",
    "        return 0\n",
    "    \n",
    "    elif event in events:\n",
    "        return 1 \n",
    "    \n",
    "    else:\n",
    "        raise ValueError(event)\n",
    "        \n",
    "def get_vital(vital):\n",
    "    if pd.isnull(vital):\n",
    "        print(\"NULL\")\n",
    "        return np.nan\n",
    "    \n",
    "    \n",
    "    if vital == 'Alive':\n",
    "        return 0\n",
    "    \n",
    "    elif vital == 'Dead':\n",
    "        return 1\n",
    "    \n",
    "    else:\n",
    "        raise ValueError(vital)\n",
    "\n",
    "pth = '../data/meta/TARGET_NBL_ClinicalData_Discovery_20170525.xlsx'\n",
    "clinical = pd.read_excel(pth, index_col=0)\n",
    "\n",
    "surv = pd.DataFrame(index=assign[assign['1'] == 2].index, \n",
    "                    columns=['OS', 'vital', 'EFS', 'event', 'immune'])\n",
    "\n",
    "for sample in assign[assign['1'] == 1].index:\n",
    "    root = '-'.join(sample.split('-')[:3])\n",
    "    if root not in clinical.index:\n",
    "        print \"Missing: \", sample\n",
    "        continue\n",
    "    \n",
    "    OS = clinical.loc[root, 'Overall Survival Time in Days'].item()\n",
    "    vital = get_vital(clinical.loc[root, 'Vital Status'])\n",
    "    \n",
    "    EFS = clinical.loc[root, 'Event Free Survival Time in Days'].item()\n",
    "    event = get_event(clinical.loc[root, 'First Event'])\n",
    "    \n",
    "    \n",
    "    immune = 1 if sample in cluster1_metastatic else 0\n",
    "    surv.loc[sample, :] = [OS, vital, EFS, event, immune]"
   ]
  },
  {
   "cell_type": "code",
   "execution_count": null,
   "metadata": {},
   "outputs": [],
   "source": [
    "import uuid\n",
    "\n",
    "# Can't figure out how to pass this dataframe\n",
    "survpth = '../data/mycn-na-tme-signal-subtract-cluster1-survival.tsv'\n",
    "surv.to_csv(survpth, sep='\\t')"
   ]
  },
  {
   "cell_type": "markdown",
   "metadata": {},
   "source": [
    "%%R -i survpth\n",
    "\n",
    "require(dpylr)\n",
    "require(survival)\n",
    "require(survminer)\n",
    "\n",
    "surv <- read.table(survpth,\n",
    "                  sep='\\t',\n",
    "                  header=T)\n",
    "\n",
    "surv <- dplyr::as_tibble(surv)"
   ]
  },
  {
   "cell_type": "markdown",
   "metadata": {},
   "source": [
    "%%R\n",
    "\n",
    "fit <- survfit(Surv(OS, vital) ~ immune, data=surv)\n",
    "ggsurvplot(fit, conf.int=F, pval=T, risk.table=TRUE)"
   ]
  },
  {
   "cell_type": "markdown",
   "metadata": {},
   "source": [
    "%%R\n",
    "\n",
    "fit <- survfit(Surv(EFS, event) ~ immune, data=surv)\n",
    "ggsurvplot(fit, conf.int=F, pval=T, risk.table=TRUE)"
   ]
  }
 ],
 "metadata": {
  "kernelspec": {
   "display_name": "Python 2",
   "language": "python",
   "name": "python2"
  },
  "language_info": {
   "codemirror_mode": {
    "name": "ipython",
    "version": 2
   },
   "file_extension": ".py",
   "mimetype": "text/x-python",
   "name": "python",
   "nbconvert_exporter": "python",
   "pygments_lexer": "ipython2",
   "version": "2.7.16"
  }
 },
 "nbformat": 4,
 "nbformat_minor": 2
}
