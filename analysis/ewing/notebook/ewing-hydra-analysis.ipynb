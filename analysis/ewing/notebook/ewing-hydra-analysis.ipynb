{
 "cells": [
  {
   "cell_type": "code",
   "execution_count": null,
   "metadata": {},
   "outputs": [],
   "source": [
    "%matplotlib inline\n",
    "import collections\n",
    "import sys\n",
    "import subprocess\n",
    "import pandas as pd\n",
    "import os\n",
    "import numpy as np\n",
    "import uuid\n",
    "import tempfile\n",
    "import bnpy\n",
    "import scikit_posthocs as sp\n",
    "import itertools\n",
    "import seaborn as sns\n",
    "import matplotlib.pyplot as plt\n",
    "\n",
    "\n",
    "from scipy.stats import kruskal, f_oneway\n",
    "from scipy.stats import ttest_ind\n",
    "\n",
    "sys.path.append('/opt/hydra/')\n",
    "src = os.environ[\"HYDRA_SRC\"]\n",
    "\n",
    "import library.analysis as hy\n",
    "from library.fit import subprocess_fit"
   ]
  },
  {
   "cell_type": "code",
   "execution_count": null,
   "metadata": {},
   "outputs": [],
   "source": [
    "exp_path = '../data/treehouse-ewing-log2TPM1-V9.tsv'\n",
    "mm_genes = '../data/ewing-output/MultiModalGenes'"
   ]
  },
  {
   "cell_type": "code",
   "execution_count": null,
   "metadata": {},
   "outputs": [],
   "source": [
    "exp = pd.read_csv(exp_path, sep='\\t', index_col=0)"
   ]
  },
  {
   "cell_type": "code",
   "execution_count": null,
   "metadata": {},
   "outputs": [],
   "source": [
    "# Scan min probability thresholds\n",
    "run_scan = False\n",
    "if run_scan:\n",
    "    scan = hy.ScanEnrichmentAnalysis(mm_genes, \n",
    "                                     exp_path, \n",
    "                                     'GO', \n",
    "                                     min_prob_range=np.linspace(0.3, 0.4, 15), \n",
    "                                     CPU=7,\n",
    "                                     K=5).scan()"
   ]
  },
  {
   "cell_type": "code",
   "execution_count": null,
   "metadata": {},
   "outputs": [],
   "source": [
    "# Apply EnrichmentAnalysis\n",
    "res = hy.EnrichmentAnalysis(exp_path=exp_path,\n",
    "                            mm_path=mm_genes,\n",
    "                            min_prob_filter=0.364286,\n",
    "                            gmt_path='GO')"
   ]
  },
  {
   "cell_type": "code",
   "execution_count": null,
   "metadata": {},
   "outputs": [],
   "source": [
    "genes = res.get_enriched_term_genes()\n",
    "len(genes)"
   ]
  },
  {
   "cell_type": "code",
   "execution_count": null,
   "metadata": {},
   "outputs": [],
   "source": [
    "# Apply multivariate DP-GMM model\n",
    "clus = hy.MultivariateMixtureModel(data=exp.reindex(genes),\n",
    "                                   center=True,\n",
    "                                   gamma=5.0,\n",
    "                                   variance=2.0,\n",
    "                                   K=5, \n",
    "                                   verbose=True)"
   ]
  },
  {
   "cell_type": "code",
   "execution_count": null,
   "metadata": {},
   "outputs": [],
   "source": [
    "# Get cluster assignments\n",
    "assignments = clus.get_assignments(exp.reindex(genes))\n",
    "\n",
    "assign = pd.DataFrame(index=exp.columns,\n",
    "                      columns=[1])\n",
    "\n",
    "for sample, assignment in zip(exp.columns, assignments):\n",
    "    assign.loc[sample, 1] = assignment + 1"
   ]
  },
  {
   "cell_type": "code",
   "execution_count": null,
   "metadata": {
    "scrolled": true
   },
   "outputs": [],
   "source": [
    "# Plot expression heatmap\n",
    "col_order = assign.sort_values(1).index.values\n",
    "cmap = sns.color_palette(\"Set2\", max(assign[1].values))\n",
    "col_colors = [cmap[x - 1] for x in assign.sort_values(1)[1].values]\n",
    "\n",
    "g = sns.clustermap(exp.reindex(genes).reindex(col_order, axis=1),\n",
    "                   col_cluster=False,\n",
    "                   col_colors=col_colors,\n",
    "                   z_score=0,\n",
    "                   method='ward',\n",
    "                   center=0,\n",
    "                   cmap=sns.diverging_palette(240, 10, n=7),\n",
    "                   figsize=(10, 10))\n",
    "\n",
    "ax = g.ax_heatmap"
   ]
  },
  {
   "cell_type": "code",
   "execution_count": null,
   "metadata": {},
   "outputs": [],
   "source": [
    "def format_pathway(x):\n",
    "    \"\"\"\n",
    "    Create a more readable pathway name\n",
    "    \"\"\"\n",
    "    fields = x.split('%')\n",
    "    return '%s (%s)' % (fields[0], fields[1])"
   ]
  },
  {
   "cell_type": "code",
   "execution_count": null,
   "metadata": {},
   "outputs": [],
   "source": [
    "# Apply GSEA to each cluster\n",
    "fgsea = clus.get_cluster_features(exp, \n",
    "                                  gmt='/opt/hydra/gene-sets/Human_GOBP_AllPathways_no_GO_iea_December_01_2018_symbol.gmt')"
   ]
  },
  {
   "cell_type": "code",
   "execution_count": null,
   "metadata": {},
   "outputs": [],
   "source": [
    "# Save the enriched gene sets for each cluster\n",
    "fgsea_df = None\n",
    "for key, values in fgsea.items():\n",
    "    if fgsea_df is None:\n",
    "        header = pd.MultiIndex.from_product([list(fgsea.keys()), \n",
    "                                             ['padj', 'NES']],\n",
    "                                           names=['cluster', 'feature'])\n",
    "        \n",
    "        fgsea_df = pd.DataFrame(index=values.index.values, columns=header)\n",
    "        \n",
    "    #print 'Key: ', key,\n",
    "    t = values.reset_index().reindex(['pathway', 'padj', 'NES'], axis=1)\n",
    "    t['pathway'] = t['pathway'].apply(format_pathway) \n",
    "    #print(t[(t['NES'] > 0) & (t['padj'] < 0.05)].sort_values('NES', ascending=False).head(10))\n",
    "    \n",
    "    fgsea_df[(key, 'padj')] = values.loc[fgsea_df.index, 'padj'].values\n",
    "    fgsea_df[(key, 'NES')] = values.loc[fgsea_df.index, 'NES'].values"
   ]
  },
  {
   "cell_type": "code",
   "execution_count": null,
   "metadata": {},
   "outputs": [],
   "source": [
    "# Save enriched pathways for downstream analysis\n",
    "pth = '../data/TH-Ewing-Pathways-Enrichment.tsv'\n",
    "fgsea_df.to_csv(pth, sep='\\t')"
   ]
  },
  {
   "cell_type": "code",
   "execution_count": null,
   "metadata": {},
   "outputs": [],
   "source": [
    "pth = '../img/TH-Ewing-top-10-pathways-cluster-%d.tex'\n",
    "for key, values in fgsea.items():\n",
    "    with pd.option_context('display.precision', 2):\n",
    "        t = values.reset_index().reindex(['pathway', 'padj', 'NES'], axis=1)\n",
    "        t['pathway'] = t['pathway'].apply(format_pathway)\n",
    "        with open(pth % key, 'w') as f:\n",
    "            #print(t[(t['NES'] > 0) & (t['padj'] < 0.05)].sort_values('NES', ascending=False).head(10).to_latex(index=False))\n",
    "            t[(t['NES'] > 0) & (t['padj'] < 0.05)].sort_values('NES', ascending=False).head(10).to_latex(f, index=False)"
   ]
  },
  {
   "cell_type": "code",
   "execution_count": null,
   "metadata": {},
   "outputs": [],
   "source": [
    "# Investigate \n",
    "\n",
    "sns.distplot(exp.loc['JAK1', :])"
   ]
  },
  {
   "cell_type": "code",
   "execution_count": null,
   "metadata": {},
   "outputs": [],
   "source": [
    "jak1 = pd.DataFrame(index=['JAK1'],\n",
    "                    columns=exp.columns)\n",
    "\n",
    "jak1.loc['JAK1', :] = exp.loc['JAK1', :].values"
   ]
  },
  {
   "cell_type": "code",
   "execution_count": null,
   "metadata": {},
   "outputs": [],
   "source": [
    "import uuid\n",
    "import bnpy\n",
    "\n",
    "data = exp.loc['JAK1', :].values\n",
    "data = data - np.mean(data)\n",
    "data = data.reshape(len(data), 1)\n",
    "\n",
    "xdata = bnpy.data.XData(data)\n",
    "\n",
    "gamma = 5.0\n",
    "sF = 1.0\n",
    "K = 25\n",
    "\n",
    "jak1_model, _ = bnpy.run(\n",
    "    xdata, 'DPMixtureModel', 'Gauss', 'memoVB',\n",
    "    output_path=('/tmp/%s/' % uuid.uuid4() +\n",
    "        'trymoves-K=%d-gamma=%s-ECovMat=%s*eye-moves=merge,shuffle/' % (\n",
    "            K, gamma, sF)),\n",
    "    nLap=1000, nTask=1, nBatch=1,\n",
    "    gamma0=gamma, sF=sF, ECovMat='eye',\n",
    "    K=K, initname='randexamplesbydist',\n",
    "    moves='birth,merge,delete,shuffle',\n",
    "    b_startLap=10,\n",
    "    m_startLap=10,\n",
    "    d_startLap=20)"
   ]
  },
  {
   "cell_type": "code",
   "execution_count": null,
   "metadata": {},
   "outputs": [],
   "source": [
    "def get_assignments(model, data):\n",
    "    \"\"\"\n",
    "    Takes model and data and classifies samples\n",
    "\n",
    "    Will label samples with NaN if they do not\n",
    "    fit in any of the model components\n",
    "\n",
    "    :param model:\n",
    "    :param data:\n",
    "    :return:\n",
    "    \"\"\"\n",
    "    unclass = 1 - np.sum(model.allocModel.get_active_comp_probs())\n",
    "    # Get the sample assignments\n",
    "    LP = model.calc_local_params(data)\n",
    "    asnmts = []\n",
    "    for row in range(LP['resp'].shape[0]):\n",
    "        _max = np.max(LP['resp'][row, :])\n",
    "        if _max < unclass:\n",
    "            asnmts.append(np.nan)\n",
    "\n",
    "        else:\n",
    "            _arg = np.argmax(LP['resp'][row, :])\n",
    "            asnmts.append(_arg)\n",
    "\n",
    "    return asnmts"
   ]
  },
  {
   "cell_type": "code",
   "execution_count": null,
   "metadata": {},
   "outputs": [],
   "source": [
    "jak1_assignments = get_assignments(jak1_model, xdata)"
   ]
  },
  {
   "cell_type": "code",
   "execution_count": null,
   "metadata": {},
   "outputs": [],
   "source": [
    "jak1_assign = pd.DataFrame(index=exp.columns,\n",
    "                           columns=[0])\n",
    "\n",
    "for sample, assignment in zip(exp.columns, jak1_assignments):\n",
    "    jak1_assign.loc[sample, 0] = assignment"
   ]
  },
  {
   "cell_type": "code",
   "execution_count": null,
   "metadata": {},
   "outputs": [],
   "source": [
    "pth = '../data/xCell_treehouse-ewing-log2TPM1-V9_xCell_1952062819.txt'\n",
    "xcell = pd.read_csv(pth, sep='\\t', index_col=0)\n",
    "xcell.columns = [x.replace('.', '-') for x in xcell.columns]"
   ]
  },
  {
   "cell_type": "code",
   "execution_count": null,
   "metadata": {},
   "outputs": [],
   "source": [
    "data = pd.DataFrame(columns=['sample', 'cluster', 'source', 'feature', 'value'])\n",
    "for sample in jak1_assign.index.values:\n",
    "        \n",
    "    assignment = jak1_assign.loc[sample, 0]\n",
    "    \n",
    "    if pd.isnull(assignment):\n",
    "        continue\n",
    "    \n",
    "    for cell, value in xcell[sample].iteritems():\n",
    "        data.loc[len(data), :] = [sample, assignment, 'xCell', cell, value]\n",
    "        \n",
    "skip = ['P-value', 'Pearson Correlation', 'RMSE']\n",
    "\n",
    "data = data[~data['feature'].isin(skip)]\n",
    "        \n",
    "data['value'] = pd.to_numeric(data['value'])"
   ]
  },
  {
   "cell_type": "code",
   "execution_count": null,
   "metadata": {},
   "outputs": [],
   "source": [
    "import collections\n",
    "from scipy.stats import kruskal\n",
    "import scikit_posthocs as sp\n",
    "import itertools\n",
    "\n",
    "sigs = collections.defaultdict(list)\n",
    "\n",
    "p_values = pd.DataFrame(columns=['source', \n",
    "                                 'feature', \n",
    "                                 'A', \n",
    "                                 'B', \n",
    "                                 'holm p-value'])\n",
    "\n",
    "for source, rows in data.groupby('source'):\n",
    "    #print(source)\n",
    "    #print()\n",
    "    nfeatures = len(rows['feature'].unique())\n",
    "    alpha = 1 - (1 - 0.05) ** (1.0 / nfeatures)\n",
    "    #print(alpha)\n",
    "    for feature in rows['feature'].unique():\n",
    "        print(feature)\n",
    "        groups3 = []\n",
    "        for i, rows in data[data['feature'] == feature].groupby('cluster'):\n",
    "            groups3.append(list(rows['value'].values))\n",
    "            print i, rows['value'].mean()\n",
    "    \n",
    "        try:\n",
    "            stat, pvalue = kruskal(*groups3)\n",
    "            print(feature, pvalue, pvalue < alpha)\n",
    "        \n",
    "        except:\n",
    "            print 'failed'\n",
    "            continue\n",
    "    \n",
    "        if pvalue < alpha:\n",
    "            sigs[source].append(feature)\n",
    "            \n",
    "            try:\n",
    "                res = sp.posthoc_mannwhitney(groups3, \n",
    "                                             p_adjust='holm')\n",
    "                \n",
    "            except ValueError:\n",
    "                continue\n",
    "            \n",
    "            for i, j in itertools.combinations(range(len(groups3)),\n",
    "                                               2):\n",
    "                \n",
    "                if i == j:\n",
    "                    continue \n",
    "                    \n",
    "                p_values.loc[len(p_values), :] = [source,\n",
    "                                                  feature,\n",
    "                                                  i, \n",
    "                                                  j,\n",
    "                                                  res.iloc[i, j]]"
   ]
  },
  {
   "cell_type": "code",
   "execution_count": null,
   "metadata": {},
   "outputs": [],
   "source": [
    "print jak1_model.obsModel.get_mean_for_comp(0)\n",
    "print jak1_model.obsModel.get_mean_for_comp(1)\n",
    "print jak1_model.obsModel.get_mean_for_comp(2)"
   ]
  },
  {
   "cell_type": "code",
   "execution_count": null,
   "metadata": {},
   "outputs": [],
   "source": [
    "data.loc[data['cluster'] == 0, 'reorder'] = 2\n",
    "data.loc[data['cluster'] == 1, 'reorder'] = 1\n",
    "data.loc[data['cluster'] == 2, 'reorder'] = 0\n",
    "data['reorder'] = data['reorder'].astype(int)"
   ]
  },
  {
   "cell_type": "code",
   "execution_count": null,
   "metadata": {},
   "outputs": [],
   "source": [
    "import matplotlib.pyplot as plt\n",
    "import seaborn as sns\n",
    "\n",
    "mask = (data['source'] == 'xCell') & (data['feature'].isin(sigs['xCell']))\n",
    "\n",
    "t = data[mask]\n",
    "\n",
    "g = sns.catplot(x='cluster', \n",
    "                y='value', \n",
    "                col='feature',\n",
    "                kind='box',\n",
    "                col_wrap=3,\n",
    "                sharex=False,\n",
    "                sharey=False,\n",
    "                data=t)\n",
    "\n",
    "for i in range(len(g.axes)):\n",
    "    g.axes[i].set_xlabel('Hydra Cluster')\n",
    "    g.axes[i].set_ylabel('xCell Enrichment Score')\n",
    "    \n",
    "plt.subplots_adjust(hspace=0.3, wspace=0.4)"
   ]
  },
  {
   "cell_type": "code",
   "execution_count": null,
   "metadata": {},
   "outputs": [],
   "source": [
    "sns.set(font_scale=1.5, style='white')\n",
    "\n",
    "interest = [\"Mast cells\"]\n",
    "\n",
    "mask = (data['source'] == 'xCell') & (data['feature'].isin(interest))\n",
    "\n",
    "t = data[mask]\n",
    "\n",
    "g = sns.catplot(x='reorder', \n",
    "                y='value', \n",
    "                col='feature',\n",
    "                kind='box',\n",
    "                col_wrap=3,\n",
    "                col_order=interest,\n",
    "                color='white',\n",
    "                sharex=False,\n",
    "                sharey=False,\n",
    "                data=t)\n",
    "\n",
    "# CD8+\n",
    "sns.swarmplot(x='reorder',\n",
    "              y='value',\n",
    "              color='k',\n",
    "              size=5,\n",
    "              data=t[t['feature'] == 'Mast cells'],\n",
    "              ax=g.axes[0])\n",
    "\n",
    "for i in range(len(g.axes)):\n",
    "    g.axes[i].set_xlabel('JAK1 Cluster')\n",
    "    g.axes[i].set_ylabel('xCell Score')\n",
    "    \n",
    "plt.subplots_adjust(hspace=0.3, wspace=0.4)\n",
    "\n",
    "pth = '../img/xCell-mast-cell-plot.png'\n",
    "plt.savefig(pth, format='png', bbox_inches='tight')\n",
    "\n",
    "pth = '../img/xCell-mast-cell-plot.svg'\n",
    "plt.savefig(pth, format='svg', bbox_inches='tight')"
   ]
  },
  {
   "cell_type": "code",
   "execution_count": null,
   "metadata": {},
   "outputs": [],
   "source": [
    "fig, axes = plt.subplots(2, 1, \n",
    "                         figsize=(6, 7),\n",
    "                         sharex=True)\n",
    "\n",
    "bins = np.linspace(2, 12, 20)\n",
    "sns.distplot(exp.loc['JAK1', :],\n",
    "            kde=False,\n",
    "            bins=bins,\n",
    "            ax=axes[0])\n",
    "\n",
    "sns.distplot(exp.loc['JAK1', jak1_assign[jak1_assign[0] == 0].index],\n",
    "             bins=bins,\n",
    "             kde=False,\n",
    "             ax=axes[1],\n",
    "             hist_kws={'alpha': 0.9})\n",
    "sns.distplot(exp.loc['JAK1', jak1_assign[jak1_assign[0] == 1].index],\n",
    "             bins=bins,\n",
    "             kde=False,\n",
    "             ax=axes[1],\n",
    "             hist_kws={'alpha': 0.9})\n",
    "sns.distplot(exp.loc['JAK1', jak1_assign[jak1_assign[0] == 2].index],\n",
    "             bins=bins,\n",
    "             kde=False,\n",
    "             ax=axes[1],\n",
    "             hist_kws={'alpha': 0.9})\n",
    "\n",
    "\n",
    "axes[0].set_ylabel('Count')\n",
    "axes[1].set_ylabel('Count')\n",
    "\n",
    "axes[0].set_xlabel('JAK1 Expression log2(TPM + 1)')\n",
    "axes[1].set_xlabel('JAK1 Expression log2(TPM + 1)')\n",
    "\n",
    "sns.despine()\n",
    "\n",
    "pth = '../img/jak1-expression-plot.png'\n",
    "plt.savefig(pth, format='png', bbox_inches='tight')\n",
    "\n",
    "pth = '../img/jak1-expression-plot.svg'\n",
    "plt.savefig(pth, format='svg', bbox_inches='tight')"
   ]
  }
 ],
 "metadata": {
  "kernelspec": {
   "display_name": "Python 2",
   "language": "python",
   "name": "python2"
  },
  "language_info": {
   "codemirror_mode": {
    "name": "ipython",
    "version": 2
   },
   "file_extension": ".py",
   "mimetype": "text/x-python",
   "name": "python",
   "nbconvert_exporter": "python",
   "pygments_lexer": "ipython2",
   "version": "2.7.17"
  }
 },
 "nbformat": 4,
 "nbformat_minor": 2
}
