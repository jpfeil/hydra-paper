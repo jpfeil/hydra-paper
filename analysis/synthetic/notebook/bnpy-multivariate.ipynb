{
 "cells": [
  {
   "cell_type": "code",
   "execution_count": null,
   "metadata": {},
   "outputs": [],
   "source": [
    "import pandas as pd\n",
    "import matplotlib.pyplot as plt\n",
    "import numpy as np\n",
    "import collections\n",
    "import seaborn as sns\n",
    "\n",
    "from matplotlib import pylab\n",
    "\n",
    "import bnpy\n",
    "\n",
    "FIG_SIZE = (3, 3)\n",
    "pylab.rcParams['figure.figsize'] = FIG_SIZE"
   ]
  },
  {
   "cell_type": "code",
   "execution_count": null,
   "metadata": {},
   "outputs": [],
   "source": [
    "from matplotlib import pylab"
   ]
  },
  {
   "cell_type": "code",
   "execution_count": null,
   "metadata": {},
   "outputs": [],
   "source": [
    "m1 = np.array((1, 2))\n",
    "cov1 = [[1, 0], [0, 1]]\n",
    "component1 = np.random.multivariate_normal(m1, cov1, 100)\n",
    "\n",
    "m2 = np.array((-2, -1))\n",
    "cov2 = [[1, 0], [0, 1]]\n",
    "component2 = np.random.multivariate_normal(m2, cov2, 100)\n",
    "\n",
    "m3 = np.array((-2, 5))\n",
    "cov3 = [[2, 1], [3, 4]]\n",
    "component3 = np.random.multivariate_normal(m3, cov3, 100)\n",
    "\n",
    "colors = ['#f8c313',\n",
    "          '#bf0143',\n",
    "          '#027f80']\n",
    "\n",
    "plt.scatter(component1[:, 0], component1[:, 1], color=colors[0])\n",
    "plt.scatter(component2[:, 0], component2[:, 1], color=colors[1])\n",
    "plt.scatter(component3[:, 0], component3[:, 1], color=colors[2])\n",
    "\n",
    "data = np.vstack((component1, component2, component3))\n",
    "\n",
    "samp_colors = []\n",
    "for i, d in enumerate([component1, component2, component3]):\n",
    "    for _ in range(d.shape[0]):\n",
    "        samp_colors.append(colors[i])\n",
    "        \n",
    "samp_colors = np.array(samp_colors)"
   ]
  },
  {
   "cell_type": "code",
   "execution_count": null,
   "metadata": {},
   "outputs": [],
   "source": [
    "import matplotlib"
   ]
  },
  {
   "cell_type": "code",
   "execution_count": null,
   "metadata": {},
   "outputs": [],
   "source": [
    "matplotlib.colors.to_rgba('#f8c313')"
   ]
  },
  {
   "cell_type": "code",
   "execution_count": null,
   "metadata": {},
   "outputs": [],
   "source": [
    "np.where(samp_colors[:-1] != samp_colors[1:])"
   ]
  },
  {
   "cell_type": "code",
   "execution_count": null,
   "metadata": {},
   "outputs": [],
   "source": [
    "len(data)"
   ]
  },
  {
   "cell_type": "code",
   "execution_count": null,
   "metadata": {},
   "outputs": [],
   "source": [
    "sampColors = {(0, 100): colors[0],\n",
    "              (100, 200): colors[1],\n",
    "              (200, 300): colors[2]}"
   ]
  },
  {
   "cell_type": "code",
   "execution_count": null,
   "metadata": {},
   "outputs": [],
   "source": [
    "samp_colors = []\n",
    "for _ in range(0, 100):\n",
    "    samp_colors.append(matplotlib.colors.to_rgba(colors[0]))\n",
    "    \n",
    "for _ in range(100, 200):\n",
    "    samp_colors.append(matplotlib.colors.to_rgba(colors[1]))\n",
    "    \n",
    "for _ in range(200, 300):\n",
    "    samp_colors.append(matplotlib.colors.to_rgba(colors[2]))"
   ]
  },
  {
   "cell_type": "code",
   "execution_count": null,
   "metadata": {},
   "outputs": [],
   "source": [
    "sampColors"
   ]
  },
  {
   "cell_type": "code",
   "execution_count": null,
   "metadata": {},
   "outputs": [],
   "source": [
    "dataset = bnpy.data.XData(data)"
   ]
  },
  {
   "cell_type": "code",
   "execution_count": null,
   "metadata": {},
   "outputs": [],
   "source": [
    "merge_kwargs = dict(\n",
    "    m_startLap=10,\n",
    "    m_pair_ranking_procedure='total_size',\n",
    "    m_pair_ranking_direction='descending',\n",
    "    )\n",
    "\n",
    "delete_kwargs = dict(\n",
    "    d_startLap=10,\n",
    "    d_nRefineSteps=50,\n",
    "    )"
   ]
  },
  {
   "cell_type": "code",
   "execution_count": null,
   "metadata": {},
   "outputs": [],
   "source": [
    "help(bnpy.viz.PlotComps.plotCompsFromHModel)"
   ]
  },
  {
   "cell_type": "code",
   "execution_count": null,
   "metadata": {},
   "outputs": [],
   "source": [
    "def show_clusters_over_time(\n",
    "        task_output_path=None,\n",
    "        query_laps=[0, 1, 2, 10, 20, None],\n",
    "        nrows=2,\n",
    "        samp_colors=(0.3, 0.3, 0.3)):\n",
    "    '''\n",
    "    '''\n",
    "    colors=['gray', 'gray', 'gray', 'gray', 'gray']\n",
    "    ncols = int(np.ceil(len(query_laps) // float(nrows)))\n",
    "    fig_handle, ax_handle_list = pylab.subplots(\n",
    "        figsize=(FIG_SIZE[0] * ncols, FIG_SIZE[1] * nrows),\n",
    "        nrows=nrows, ncols=ncols, sharex=True, sharey=True)\n",
    "    for plot_id, lap_val in enumerate(query_laps):\n",
    "        cur_model, lap_val = bnpy.load_model_at_lap(task_output_path, lap_val)\n",
    "        cur_ax_handle = ax_handle_list.flatten()[plot_id]\n",
    "        bnpy.viz.PlotComps.plotCompsFromHModel(\n",
    "            cur_model, \n",
    "            dataset=dataset, \n",
    "            ax_handle=cur_ax_handle,\n",
    "            Colors=colors,\n",
    "            samp_colors=samp_colors)\n",
    "        cur_ax_handle.set_xlim([-4.5, 4.5])\n",
    "        cur_ax_handle.set_xlabel(\"lap: %d\" % lap_val)\n",
    "    pylab.tight_layout()\n",
    "    plt.savefig(\"img/cluster-ocver-time.svg\", format='svg', bbox_inches='tight')"
   ]
  },
  {
   "cell_type": "code",
   "execution_count": null,
   "metadata": {},
   "outputs": [],
   "source": [
    "b_trained_model, b_info_dict = bnpy.run(\n",
    "    dataset, 'DPMixtureModel', 'Gauss', 'memoVB',\n",
    "    output_path=('/tmp/StandardNormalK1/' +\n",
    "        'trymoves-K=%d-gamma=%s-ECovMat=%s*eye-moves=birth,merge,shuffle/' % (\n",
    "            5, 5.0, 1.0)),\n",
    "    nLap=100, nTask=1, nBatch=1,\n",
    "    gamma0=5.0, sF=1.0, ECovMat='eye',\n",
    "    K=5, initname='randexamplesbydist',\n",
    "    moves='birth,merge,shuffle')"
   ]
  },
  {
   "cell_type": "code",
   "execution_count": null,
   "metadata": {},
   "outputs": [],
   "source": [
    "show_clusters_over_time(b_info_dict['task_output_path'], samp_colors=sampColors)"
   ]
  },
  {
   "cell_type": "code",
   "execution_count": null,
   "metadata": {},
   "outputs": [],
   "source": []
  }
 ],
 "metadata": {
  "kernelspec": {
   "display_name": "Python 2",
   "language": "python",
   "name": "python2"
  },
  "language_info": {
   "codemirror_mode": {
    "name": "ipython",
    "version": 2
   },
   "file_extension": ".py",
   "mimetype": "text/x-python",
   "name": "python",
   "nbconvert_exporter": "python",
   "pygments_lexer": "ipython2",
   "version": "2.7.16"
  }
 },
 "nbformat": 4,
 "nbformat_minor": 2
}
