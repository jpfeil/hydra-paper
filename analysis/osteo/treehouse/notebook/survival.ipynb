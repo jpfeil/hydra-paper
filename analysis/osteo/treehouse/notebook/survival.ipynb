{
 "cells": [
  {
   "cell_type": "code",
   "execution_count": null,
   "metadata": {},
   "outputs": [],
   "source": [
    "library(survival)\n",
    "library(survminer)\n",
    "library(tidyverse)\n",
    "library(dplyr)"
   ]
  },
  {
   "cell_type": "code",
   "execution_count": null,
   "metadata": {},
   "outputs": [],
   "source": [
    "pth <- '../data/TARGET-osteo-TH-assignment-survival.tsv'\n",
    "\n",
    "surv <- read.table(pth,\n",
    "                  sep='\\t',\n",
    "                  header=T)\n",
    "\n",
    "surv <- surv[which(surv$cluster < 2), ]\n",
    "\n",
    "surv <- dplyr::as_tibble(surv)"
   ]
  },
  {
   "cell_type": "code",
   "execution_count": null,
   "metadata": {},
   "outputs": [],
   "source": [
    "fit <- survfit(Surv(OS, vital) ~ cluster, data=surv)\n",
    "g <- ggsurvplot(fit, conf.int=F, pval=T, risk.table=TRUE)\n",
    "ggsave( \"../img/TARGET-osteo-cluster-OS-survival.png\", \n",
    "       print(g), \n",
    "       dpi = 1000 )\n",
    "g"
   ]
  },
  {
   "cell_type": "code",
   "execution_count": null,
   "metadata": {},
   "outputs": [],
   "source": [
    "fit <- survfit(Surv(EFS, event) ~ cluster, data=surv)\n",
    "g <- ggsurvplot(fit, conf.int=F, pval=T, risk.table=TRUE)\n",
    "ggsave( \"../img/TARGET-osteo-cluster-OS-survival.png\", \n",
    "       print(g), \n",
    "       dpi = 1000 )\n",
    "g"
   ]
  }
 ],
 "metadata": {
  "kernelspec": {
   "display_name": "R",
   "language": "R",
   "name": "ir"
  },
  "language_info": {
   "codemirror_mode": "r",
   "file_extension": ".r",
   "mimetype": "text/x-r-source",
   "name": "R",
   "pygments_lexer": "r",
   "version": "3.4.4"
  }
 },
 "nbformat": 4,
 "nbformat_minor": 2
}
