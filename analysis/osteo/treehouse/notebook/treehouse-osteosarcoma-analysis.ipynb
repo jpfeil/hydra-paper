{
 "cells": [
  {
   "cell_type": "code",
   "execution_count": null,
   "metadata": {},
   "outputs": [],
   "source": [
    "%matplotlib inline\n",
    "import collections\n",
    "import sys\n",
    "import subprocess\n",
    "import pandas as pd\n",
    "import os\n",
    "import numpy as np\n",
    "import uuid\n",
    "import tempfile\n",
    "import bnpy\n",
    "import scikit_posthocs as sp\n",
    "import itertools\n",
    "import seaborn as sns\n",
    "import matplotlib.pyplot as plt\n",
    "\n",
    "\n",
    "from scipy.stats import kruskal, f_oneway\n",
    "from scipy.stats import ttest_ind\n",
    "\n",
    "sys.path.append('/opt/hydra/')\n",
    "\n",
    "src = os.environ[\"HYDRA_SRC\"]\n",
    "\n",
    "import library.analysis as hy\n",
    "import library.fit as ft"
   ]
  },
  {
   "cell_type": "code",
   "execution_count": null,
   "metadata": {},
   "outputs": [],
   "source": [
    "mm_genes = '../data/TH-OSTEO-MINUS-TARGET/MultiModalGenes/'\n",
    "exp_path = '../data/TH-OSTEO-MINUS-TARGET.tsv'"
   ]
  },
  {
   "cell_type": "code",
   "execution_count": null,
   "metadata": {},
   "outputs": [],
   "source": [
    "exp = pd.read_csv(exp_path, sep='\\t', index_col=0)"
   ]
  },
  {
   "cell_type": "code",
   "execution_count": null,
   "metadata": {},
   "outputs": [],
   "source": [
    "exp.shape"
   ]
  },
  {
   "cell_type": "code",
   "execution_count": null,
   "metadata": {},
   "outputs": [],
   "source": [
    "if False:\n",
    "\n",
    "    scan = hy.ScanEnrichmentAnalysis(mm_genes, \n",
    "                                     exp_path, \n",
    "                                     'GO', \n",
    "                                     min_prob_range=np.linspace(0.1, 0.3, 25), \n",
    "                                     CPU=7,\n",
    "                                     K=5).scan()\n",
    "    \n",
    "    scan"
   ]
  },
  {
   "cell_type": "code",
   "execution_count": null,
   "metadata": {},
   "outputs": [],
   "source": [
    "res = hy.EnrichmentAnalysis(exp_path=exp_path,\n",
    "                            mm_path=mm_genes,\n",
    "                            min_prob_filter=0.266667,\n",
    "                            gmt_path='GO')"
   ]
  },
  {
   "cell_type": "code",
   "execution_count": null,
   "metadata": {},
   "outputs": [],
   "source": [
    "res.get_enriched_terms()"
   ]
  },
  {
   "cell_type": "code",
   "execution_count": null,
   "metadata": {},
   "outputs": [],
   "source": [
    "genes = res.get_enriched_term_genes()\n",
    "\n",
    "len(genes)"
   ]
  },
  {
   "cell_type": "code",
   "execution_count": null,
   "metadata": {},
   "outputs": [],
   "source": [
    "clus = hy.MultivariateMixtureModel(data=exp.reindex(genes),\n",
    "                                   center=True,\n",
    "                                   gamma=5.0,\n",
    "                                   variance=2.0,\n",
    "                                   K=5, \n",
    "                                   verbose=True)"
   ]
  },
  {
   "cell_type": "code",
   "execution_count": null,
   "metadata": {},
   "outputs": [],
   "source": [
    "exp.reindex(clus.clusters[0], axis=1).to_csv('../data/TREE-osteo-Cluster-0.tsv', sep='\\t')"
   ]
  },
  {
   "cell_type": "code",
   "execution_count": null,
   "metadata": {},
   "outputs": [],
   "source": [
    "assignments = clus.get_assignments(exp.reindex(genes))\n",
    "\n",
    "assign = pd.DataFrame(index=exp.columns,\n",
    "                      columns=[1])\n",
    "\n",
    "for sample, assignment in zip(exp.columns, assignments):\n",
    "    assign.loc[sample, 1] = assignment + 1"
   ]
  },
  {
   "cell_type": "code",
   "execution_count": null,
   "metadata": {},
   "outputs": [],
   "source": [
    "hclust = hy.HClust(data=exp.reindex(genes))"
   ]
  },
  {
   "cell_type": "code",
   "execution_count": null,
   "metadata": {},
   "outputs": [],
   "source": [
    "hclust.plot_row_linkage(17)\n",
    "row_groups = hclust.get_row_groups(17)"
   ]
  },
  {
   "cell_type": "code",
   "execution_count": null,
   "metadata": {},
   "outputs": [],
   "source": [
    "sns.color_palette(\"Set2\", max(assign[1].values))"
   ]
  },
  {
   "cell_type": "code",
   "execution_count": null,
   "metadata": {},
   "outputs": [],
   "source": [
    "assign.sort_values(1)[1].values"
   ]
  },
  {
   "cell_type": "code",
   "execution_count": null,
   "metadata": {},
   "outputs": [],
   "source": [
    "col_order = assign.sort_values(1).index.values\n",
    "cmap = sns.color_palette(\"Set2\", max(assign[1].values))\n",
    "col_colors = [cmap[x - 1] for x in assign.sort_values(1)[1].values]\n",
    "\n",
    "g = sns.clustermap(exp.reindex(genes).reindex(col_order, axis=1),\n",
    "                   col_cluster=False,\n",
    "                   col_colors=col_colors,\n",
    "                   z_score=0,\n",
    "                   method='ward',\n",
    "                   center=0,\n",
    "                   cmap=sns.diverging_palette(240, 10, n=7),\n",
    "                   figsize=(10, 10))\n",
    "\n",
    "ax = g.ax_heatmap\n",
    "\n",
    "ax.set_xticklabels([])\n",
    "ax.set_xticks([])\n",
    "ax.set_yticklabels([])\n",
    "ax.set_yticks([])\n",
    "\n",
    "pth = '../img/expression-heatmap.svg'\n",
    "plt.savefig(pth, format='svg', bbox_inches='tight')\n",
    "\n",
    "pth = '../img/expression-heatmap.png'\n",
    "plt.savefig(pth, format='png', bbox_inches='tight')"
   ]
  },
  {
   "cell_type": "code",
   "execution_count": null,
   "metadata": {},
   "outputs": [],
   "source": [
    "fgsea = clus.get_cluster_features(exp, \n",
    "                                  gmt='/opt/hydra/gene-sets/Human_GOBP_AllPathways_no_GO_iea_December_01_2018_symbol.gmt')"
   ]
  },
  {
   "cell_type": "code",
   "execution_count": null,
   "metadata": {},
   "outputs": [],
   "source": [
    "fgsea[]"
   ]
  },
  {
   "cell_type": "code",
   "execution_count": null,
   "metadata": {},
   "outputs": [],
   "source": [
    "def format_pathway(x):\n",
    "    fields = x.split('%')\n",
    "    return '%s (%s)' % (fields[0], fields[1])\n",
    "\n",
    "pth = '../img/TREE-top-10-pathways-cluster-%d.tex'\n",
    "for key, values in fgsea.items():\n",
    "    with pd.option_context('display.precision', 2):\n",
    "        t = values.reset_index().reindex(['pathway', 'padj', 'NES'], axis=1)\n",
    "        t['pathway'] = t['pathway'].apply(format_pathway)\n",
    "        with open(pth % key, 'w') as f:\n",
    "            print(t[(t['NES'] > 0) & (t['padj'] < 0.05)].sort_values('NES', ascending=False).head(10).to_latex(index=False))\n",
    "            t[(t['NES'] > 0) & (t['padj'] < 0.05)].sort_values('NES', ascending=False).head(10).to_latex(f, index=False)"
   ]
  },
  {
   "cell_type": "code",
   "execution_count": null,
   "metadata": {},
   "outputs": [],
   "source": [
    "fgsea_df = None\n",
    "for key, values in fgsea.items():\n",
    "    if fgsea_df is None:\n",
    "        header = pd.MultiIndex.from_product([list(fgsea.keys()), \n",
    "                                             ['padj', 'NES']],\n",
    "                                           names=['cluster', 'feature'])\n",
    "        \n",
    "        fgsea_df = pd.DataFrame(index=values.index.values, columns=header)\n",
    "        \n",
    "    print 'Key: ', key,\n",
    "    t = values.reset_index().reindex(['pathway', 'padj', 'NES'], axis=1)\n",
    "    t['pathway'] = t['pathway'].apply(format_pathway) \n",
    "    print(t[(t['NES'] > 0) & (t['padj'] < 0.05)].sort_values('NES', ascending=False).head(10))\n",
    "    \n",
    "    fgsea_df[(key, 'padj')] = values.loc[fgsea_df.index, 'padj'].values\n",
    "    fgsea_df[(key, 'NES')] = values.loc[fgsea_df.index, 'NES'].values"
   ]
  },
  {
   "cell_type": "code",
   "execution_count": null,
   "metadata": {},
   "outputs": [],
   "source": [
    "pth = '../data/TH-Osteo-Pathways-Enrichment.tsv'\n",
    "fgsea_df.to_csv(pth, sep='\\t')"
   ]
  },
  {
   "cell_type": "code",
   "execution_count": null,
   "metadata": {},
   "outputs": [],
   "source": [
    "if False:\n",
    "    for sample in exp.columns:\n",
    "        r = clus.sub_cluster_gsea(exp[sample],\n",
    "                                  gmt='/opt/hydra/gene-sets/Human_GOBP_AllPathways_no_GO_iea_December_01_2018_symbol.gmt')\n",
    "    \n",
    "        sigs = r[1][(r[1]['ES'] > 0) & (r[1]['padj'] < 0.05) & (r[1]['size'] > 1)].sort_values('padj')\n",
    "    \n",
    "        if len(sigs) > 0:\n",
    "            print(sample, r[0])\n",
    "            print(sigs)"
   ]
  },
  {
   "cell_type": "code",
   "execution_count": null,
   "metadata": {},
   "outputs": [],
   "source": [
    "def get_event(event):\n",
    "    if pd.isnull(event):\n",
    "        print(\"NULL\")\n",
    "        return np.nan\n",
    "    \n",
    "    events = ['Relapse',\n",
    "              'Death', \n",
    "              'Progression',\n",
    "              'Event',\n",
    "              'Second Malignant Neoplasm',\n",
    "              'SMN']\n",
    "    \n",
    "    if event in ['Censored', 'No event', 'None']:\n",
    "        return 0\n",
    "    \n",
    "    elif event in events:\n",
    "        return 1 \n",
    "    \n",
    "    else:\n",
    "        raise ValueError(event)\n",
    "        \n",
    "def get_vital(vital):\n",
    "    if pd.isnull(vital):\n",
    "        #print(\"NULL\")\n",
    "        return np.nan\n",
    "    \n",
    "    \n",
    "    if vital == 'Alive':\n",
    "        return 0\n",
    "    \n",
    "    elif vital == 'Dead':\n",
    "        return 1\n",
    "    \n",
    "    else:\n",
    "        raise ValueError(vital)\n",
    "\n",
    "pth = '../../without-muscle/data/TARGET_OS_ClinicalData_Discovery_20181009.xlsx'\n",
    "clinical = pd.read_excel(pth, index_col=0)\n",
    "\n",
    "surv = pd.DataFrame(index=test.columns, \n",
    "                    columns=['OS', 'vital', 'EFS', 'event'])\n",
    "\n",
    "for sample in test.columns:\n",
    "    root = '-'.join(sample.split('-')[:3])\n",
    "    if root not in clinical.index:\n",
    "        print \"Missing: \", sample\n",
    "        continue\n",
    "    \n",
    "    OS = clinical.loc[root, 'Overall Survival Time in Days'].item()\n",
    "    vital = get_vital(clinical.loc[root, 'Vital Status'])\n",
    "    \n",
    "    EFS = clinical.loc[root, 'Event Free Survival Time in Days'].item()\n",
    "    #print(repr(clinical.loc[root, 'First Event']))\n",
    "    event = get_event(clinical.loc[root, 'First Event'])\n",
    "    \n",
    "    surv.loc[sample, :] = [OS, vital, EFS, event]\n",
    "    \n",
    "\n",
    "for sample in test.columns:\n",
    "    surv.loc[sample, 'cluster'] = int(test_assign.loc[sample, 'cluster'])\n",
    "    \n",
    "#surv = surv[surv['cluster'].isin([2.0, 3.0])]\n",
    "\n",
    "surv = surv.dropna()\n",
    "    \n",
    "surv.to_csv('../data/TARGET-osteo-TH-assignment-survival.tsv', sep='\\t')\n",
    "\n",
    "surv"
   ]
  }
 ],
 "metadata": {
  "kernelspec": {
   "display_name": "Python 2",
   "language": "python",
   "name": "python2"
  },
  "language_info": {
   "codemirror_mode": {
    "name": "ipython",
    "version": 2
   },
   "file_extension": ".py",
   "mimetype": "text/x-python",
   "name": "python",
   "nbconvert_exporter": "python",
   "pygments_lexer": "ipython2",
   "version": "2.7.16"
  }
 },
 "nbformat": 4,
 "nbformat_minor": 2
}
