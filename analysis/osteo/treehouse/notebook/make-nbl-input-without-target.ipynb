{
 "cells": [
  {
   "cell_type": "code",
   "execution_count": 1,
   "metadata": {},
   "outputs": [],
   "source": [
    "import pandas as pd"
   ]
  },
  {
   "cell_type": "code",
   "execution_count": 2,
   "metadata": {},
   "outputs": [],
   "source": [
    "meta = pd.read_csv('/home/jpfeil/work/references/clinical_v10_polya_2019-07-29.tsv',\n",
    "                   sep='\\t')"
   ]
  },
  {
   "cell_type": "code",
   "execution_count": 3,
   "metadata": {},
   "outputs": [],
   "source": [
    "mask = (meta['disease'] == 'neuroblastoma') & (~meta['th_sampleid'].str.startswith('TARGET'))\n",
    "samples = meta.loc[mask, 'th_sampleid'].values"
   ]
  },
  {
   "cell_type": "code",
   "execution_count": 6,
   "metadata": {},
   "outputs": [
    {
     "data": {
      "text/plain": [
       "array(['TH27_1356_S01', 'TH27_1403_S01', 'TH03_0015_S01', 'TH03_0015_S02',\n",
       "       'TH06_0284_S01', 'TH03_0287_S01', 'TH03_0288_S01', 'TH06_0622_S01',\n",
       "       'TH06_0628_S01', 'TH06_0649_S01', 'TH27_0690_S01', 'TH27_0692_S01',\n",
       "       'TH03_0008_S01', 'THR31_0866_S01', 'THR31_0881_S01',\n",
       "       'THR31_0882_S01', 'THR31_0883_S01', 'THR31_0914_S01'], dtype=object)"
      ]
     },
     "execution_count": 6,
     "metadata": {},
     "output_type": "execute_result"
    }
   ],
   "source": [
    "samples"
   ]
  },
  {
   "cell_type": "code",
   "execution_count": 7,
   "metadata": {},
   "outputs": [],
   "source": [
    "exp = pd.read_hdf('/home/jpfeil/work/references/TumorCompendium_v10_PolyA_hugo_log2tpm_58581genes_2019-07-25.hd5')"
   ]
  },
  {
   "cell_type": "code",
   "execution_count": 10,
   "metadata": {},
   "outputs": [],
   "source": [
    "df = exp.reindex(samples, axis=1)"
   ]
  },
  {
   "cell_type": "code",
   "execution_count": 12,
   "metadata": {},
   "outputs": [],
   "source": [
    "df[df.mean(axis=1) > 1].to_csv(\"TH-OSTEO-MINUS-TARGET.tsv\",\n",
    "                               sep='\\t')"
   ]
  },
  {
   "cell_type": "code",
   "execution_count": null,
   "metadata": {},
   "outputs": [],
   "source": []
  }
 ],
 "metadata": {
  "kernelspec": {
   "display_name": "Python 3",
   "language": "python",
   "name": "python3"
  },
  "language_info": {
   "codemirror_mode": {
    "name": "ipython",
    "version": 3
   },
   "file_extension": ".py",
   "mimetype": "text/x-python",
   "name": "python",
   "nbconvert_exporter": "python",
   "pygments_lexer": "ipython3",
   "version": "3.7.3"
  }
 },
 "nbformat": 4,
 "nbformat_minor": 2
}
