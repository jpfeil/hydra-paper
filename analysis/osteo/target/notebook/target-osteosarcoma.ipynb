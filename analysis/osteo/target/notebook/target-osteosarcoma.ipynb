{
 "cells": [
  {
   "cell_type": "code",
   "execution_count": null,
   "metadata": {},
   "outputs": [],
   "source": [
    "import collections\n",
    "import sys\n",
    "import subprocess\n",
    "import pandas as pd\n",
    "import os\n",
    "import numpy as np\n",
    "import uuid\n",
    "import tempfile\n",
    "import bnpy\n",
    "import scikit_posthocs as sp\n",
    "import itertools\n",
    "\n",
    "from scipy.stats import kruskal, f_oneway\n",
    "from scipy.stats import ttest_ind\n",
    "\n",
    "sys.path.append('/opt/hydra/')\n",
    "\n",
    "src = os.environ[\"HYDRA_SRC\"]\n",
    "\n",
    "import library.analysis as hy"
   ]
  },
  {
   "cell_type": "code",
   "execution_count": null,
   "metadata": {},
   "outputs": [],
   "source": [
    "# This cmd was used to identify multimodal genes \n",
    "cmd = [\"docker\" ,\n",
    "       \"run\",\n",
    "       \"-v\", \"$PWD:/data\",\n",
    "       \"jpfeil/hydra@sha256:123bee0aa2b3e63084c773a13a16d247076462af910a104cd5776ba5e6d4b29d\",\n",
    "       \"filter\",\n",
    "       \"-e\", \"data/TARGET-osteosarcoma-2019-02-02.tsv\",\n",
    "       \"--output-dir\", \"output\",\n",
    "       \"--CPU\", \"13\"]"
   ]
  },
  {
   "cell_type": "code",
   "execution_count": null,
   "metadata": {},
   "outputs": [],
   "source": [
    "mm_genes = '../data/output/MultiModalGenes/'\n",
    "exp_path = '../data/TARGET-osteosarcoma-2019-02-02.tsv'"
   ]
  },
  {
   "cell_type": "code",
   "execution_count": null,
   "metadata": {},
   "outputs": [],
   "source": [
    "exp = pd.read_csv(exp_path, sep='\\t', index_col=0)"
   ]
  },
  {
   "cell_type": "code",
   "execution_count": null,
   "metadata": {},
   "outputs": [],
   "source": [
    "res = hy.EnrichmentAnalysis(exp_path=exp_path,\n",
    "                            mm_path=mm_genes,\n",
    "                            min_prob_filter=0.1,\n",
    "                            min_effect_filter=1.0,\n",
    "                            gmt_path='GO')"
   ]
  },
  {
   "cell_type": "code",
   "execution_count": null,
   "metadata": {},
   "outputs": [],
   "source": [
    "res.get_enriched_terms()"
   ]
  },
  {
   "cell_type": "code",
   "execution_count": null,
   "metadata": {},
   "outputs": [],
   "source": [
    "genes = res.get_enriched_term_genes(regex='muscle')\n",
    "\n",
    "len(genes)"
   ]
  },
  {
   "cell_type": "code",
   "execution_count": null,
   "metadata": {},
   "outputs": [],
   "source": [
    "clus = hy.MultivariateMixtureModel(data=exp.reindex(genes),\n",
    "                                   center=True,\n",
    "                                   gamma=5.0,\n",
    "                                   variance=2.0,\n",
    "                                   K=2, \n",
    "                                   verbose=True)"
   ]
  },
  {
   "cell_type": "code",
   "execution_count": null,
   "metadata": {},
   "outputs": [],
   "source": [
    "assignments = clus.get_assignments(exp.reindex(genes))\n",
    "\n",
    "assign = pd.DataFrame(index=exp.columns,\n",
    "                      columns=[1])\n",
    "\n",
    "for sample, assignment in zip(exp.columns, assignments):\n",
    "    assign.loc[sample, 1] = assignment + 1"
   ]
  },
  {
   "cell_type": "code",
   "execution_count": null,
   "metadata": {},
   "outputs": [],
   "source": [
    "hclust = hy.HClust(data=exp.reindex(genes))"
   ]
  },
  {
   "cell_type": "code",
   "execution_count": null,
   "metadata": {},
   "outputs": [],
   "source": [
    "hclust.plot_row_linkage(17)\n",
    "row_groups = hclust.get_row_groups(17)"
   ]
  },
  {
   "cell_type": "code",
   "execution_count": null,
   "metadata": {},
   "outputs": [],
   "source": [
    "import seaborn as sns\n",
    "import matplotlib.pyplot as plt\n",
    "\n",
    "#col_order = assign.sort_values(1).index.values\n",
    "\n",
    "g = sns.clustermap(exp.reindex(genes).dropna(),\n",
    "                   z_score=0,\n",
    "                   method='ward',\n",
    "                   center=0,\n",
    "                   cmap=sns.diverging_palette(240, 10, n=7),\n",
    "                   figsize=(10, 10))\n",
    "\n",
    "ax = g.ax_heatmap\n",
    "\n",
    "ax.set_xticklabels([])\n",
    "ax.set_xticks([])\n",
    "ax.set_yticklabels([])\n",
    "ax.set_yticks([])\n",
    "\n",
    "pth = '../img/expression-heatmap.svg'\n",
    "plt.savefig(pth, format='svg', bbox_inches='tight')"
   ]
  },
  {
   "cell_type": "code",
   "execution_count": null,
   "metadata": {},
   "outputs": [],
   "source": [
    "help(hy.n1)"
   ]
  },
  {
   "cell_type": "code",
   "execution_count": null,
   "metadata": {},
   "outputs": [],
   "source": [
    "fgseas = {}\n",
    "for cluster, rows in assign.groupby(1):\n",
    "    ins = rows.index.values\n",
    "    outs = [x for x in exp.columns if x not in ins]\n",
    "    \n",
    "    r = ttest_ind(exp[ins].values,\n",
    "                  exp[outs].values,\n",
    "                  axis=1).statistic\n",
    "                    \n",
    "    tstats = pd.DataFrame(index=exp.index, \n",
    "                          data=r).dropna()\n",
    "                          \n",
    "    tstats = tstats.sort_values(0, ascending=False)\n",
    "    \n",
    "    fgseas[cluster] = hy.n1(tstats)"
   ]
  },
  {
   "cell_type": "code",
   "execution_count": null,
   "metadata": {},
   "outputs": [],
   "source": [
    "t = fgseas[2]\n",
    "\n",
    "t[(t['padj'] < 0.05) & (t['ES'] > 0)].sort_values('NES', ascending=False)"
   ]
  },
  {
   "cell_type": "code",
   "execution_count": null,
   "metadata": {},
   "outputs": [],
   "source": [
    "pth = '../data/xCell_TARGET-osteosarcoma-2019-02-02_xCell_1553020819.txt'\n",
    "xcell = pd.read_csv(pth, sep='\\t', index_col=0)\n",
    "xcell.columns = [x.replace('.', '-') for x in xcell.columns]"
   ]
  },
  {
   "cell_type": "code",
   "execution_count": null,
   "metadata": {},
   "outputs": [],
   "source": [
    "igroups = dict((group, []) for group in assign[1].unique())\n",
    "data = pd.DataFrame(columns=['sample', \n",
    "                             'cluster', \n",
    "                             'source', \n",
    "                             'feature', \n",
    "                             'value'])\n",
    "\n",
    "for sample in assign.index.values:\n",
    "  \n",
    "    assignment = assign.loc[sample, 1]\n",
    "    \n",
    "    if pd.isnull(assignment):\n",
    "        continue\n",
    "    \n",
    "    igroups[assignment].append(sample)\n",
    "        \n",
    "    for cell, value in xcell[sample].iteritems():\n",
    "        data.loc[len(data), :] = [sample, assignment, 'xCell', cell, value]\n",
    "        \n",
    "skip = ['P-value', 'Pearson Correlation', 'RMSE']\n",
    "\n",
    "data = data[~data['feature'].isin(skip)]\n",
    "        \n",
    "data['value'] = pd.to_numeric(data['value'])"
   ]
  },
  {
   "cell_type": "code",
   "execution_count": null,
   "metadata": {},
   "outputs": [],
   "source": [
    "data"
   ]
  },
  {
   "cell_type": "code",
   "execution_count": null,
   "metadata": {},
   "outputs": [],
   "source": [
    "from scipy.stats import kruskal, f_oneway\n",
    "import collections\n",
    "import scikit_posthocs as sp\n",
    "import itertools\n",
    "\n",
    "sigs = collections.defaultdict(list)\n",
    "\n",
    "p_values = pd.DataFrame(columns=['source', \n",
    "                                 'feature', \n",
    "                                 'A', \n",
    "                                 'B', \n",
    "                                 'holm p-value'])\n",
    "\n",
    "for source, rows in data.groupby('source'):\n",
    "    print(source)\n",
    "    print()\n",
    "    nfeatures = len(rows['feature'].unique())\n",
    "    alpha = 1 - (1 - 0.05) ** (1.0 / nfeatures)\n",
    "    print(alpha)\n",
    "    for feature in rows['feature'].unique():\n",
    "        print(feature)\n",
    "        groups3 = []\n",
    "        for i, rows in data[data['feature'] == feature].groupby('cluster'):\n",
    "            groups3.append(list(rows['value'].values))\n",
    "    \n",
    "        try:\n",
    "            stat, pvalue = kruskal(*groups3)\n",
    "            print(feature, pvalue, pvalue < alpha)\n",
    "        \n",
    "        except:\n",
    "            continue\n",
    "    \n",
    "        if pvalue < alpha:\n",
    "            sigs[source].append(feature)\n",
    "            \n",
    "            res = sp.posthoc_mannwhitney(groups3, \n",
    "                                         p_adjust='holm')\n",
    "            \n",
    "            for i, j in itertools.combinations(range(len(groups3)),\n",
    "                                               2):\n",
    "                \n",
    "                if i == j:\n",
    "                    continue \n",
    "                    \n",
    "                p_values.loc[len(p_values), :] = [source,\n",
    "                                                  feature,\n",
    "                                                  i, \n",
    "                                                  j,\n",
    "                                                  res[i, j]]"
   ]
  },
  {
   "cell_type": "code",
   "execution_count": null,
   "metadata": {},
   "outputs": [],
   "source": [
    "mask = (data['source'] == 'xCell') #& (data['feature'].isin(sigs['xCell']))\n",
    "\n",
    "t = data[mask]\n",
    "\n",
    "g = sns.catplot(x='cluster', \n",
    "                y='value', \n",
    "                col='feature',\n",
    "                kind='box',\n",
    "                col_wrap=3,\n",
    "                sharex=False,\n",
    "                sharey=False,\n",
    "                data=t)\n",
    "\n",
    "for i in range(len(g.axes)):\n",
    "    g.axes[i].set_xlabel('Hydra Cluster')\n",
    "    g.axes[i].set_ylabel('xCell Enrichment Score')\n",
    "    \n",
    "plt.subplots_adjust(hspace=0.3, wspace=0.4)"
   ]
  },
  {
   "cell_type": "code",
   "execution_count": null,
   "metadata": {},
   "outputs": [],
   "source": [
    "sns.set(style='white', font_scale=1.5)\n",
    "\n",
    "mask = (data['source'] == 'xCell') & (data['feature'].isin(['Skeletal muscle']))\n",
    "\n",
    "t = data[mask]\n",
    "\n",
    "t.loc[t['cluster'].isin([1]), 'merge'] = 'Background'\n",
    "t.loc[t['cluster'].isin([2]), 'merge'] = 'Muscle Cluster'\n",
    "\n",
    "fig, ax = plt.subplots(1, \n",
    "                       figsize=(5, 5))\n",
    "\n",
    "g = sns.boxplot(x='merge',\n",
    "                y='value',\n",
    "                data=t,\n",
    "                color='white',\n",
    "                ax=ax)\n",
    "\n",
    "sns.swarmplot(x='merge',\n",
    "              y='value',\n",
    "              data=t,\n",
    "              color='k',\n",
    "              size=5,\n",
    "              ax=ax)\n",
    "\n",
    "plt.subplots_adjust(hspace=0.3, wspace=0.4)\n",
    "\n",
    "g.set_xlabel('')\n",
    "g.set_ylabel('xCell Score')\n",
    "\n",
    "pth = '../img/osteo-muscle-xcell.svg'\n",
    "plt.savefig(pth, format='svg', bbox_inches='tight')\n",
    "\n",
    "pth = '../img/osteo-muscle-xcell.png'\n",
    "plt.savefig(pth, format='png', bbox_inches='tight')"
   ]
  },
  {
   "cell_type": "code",
   "execution_count": null,
   "metadata": {},
   "outputs": [],
   "source": []
  },
  {
   "cell_type": "code",
   "execution_count": null,
   "metadata": {},
   "outputs": [],
   "source": []
  },
  {
   "cell_type": "code",
   "execution_count": null,
   "metadata": {},
   "outputs": [],
   "source": []
  }
 ],
 "metadata": {
  "kernelspec": {
   "display_name": "Python 3",
   "language": "python",
   "name": "python3"
  },
  "language_info": {
   "codemirror_mode": {
    "name": "ipython",
    "version": 3
   },
   "file_extension": ".py",
   "mimetype": "text/x-python",
   "name": "python",
   "nbconvert_exporter": "python",
   "pygments_lexer": "ipython3",
   "version": "3.7.6"
  }
 },
 "nbformat": 4,
 "nbformat_minor": 2
}
