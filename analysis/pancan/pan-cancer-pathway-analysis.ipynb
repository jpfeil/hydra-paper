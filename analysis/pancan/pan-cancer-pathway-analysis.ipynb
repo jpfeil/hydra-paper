{
 "cells": [
  {
   "cell_type": "code",
   "execution_count": null,
   "metadata": {},
   "outputs": [],
   "source": [
    "import pandas as pd"
   ]
  },
  {
   "cell_type": "code",
   "execution_count": null,
   "metadata": {},
   "outputs": [],
   "source": [
    "targets = {'Ewing sarcoma': '../ewing/data/TH-Ewing-Pathways-Enrichment.tsv',\n",
    "            'MYCN-NA Neuroblastoma': '../nbl/mycn-na/data/TARGET-MYCN-NA-Pathways-Enrichment.tsv',\n",
    "            'Osteosarcoma': '../osteo/treehouse/data/TH-Osteo-Pathways-Enrichment.tsv',\n",
    "            'eRMS': '../rhabdo/data/TH-eRMS-Pathways-Enrichment.tsv',\n",
    "            'aRMS': '../rhabdo/data/TH-aRMS-Pathways-Enrichment.tsv',\n",
    "            'Synovial sarcoma': '../synovial/data/micro-58-synovial-Pathways-Enrichment.tsv'}"
   ]
  },
  {
   "cell_type": "code",
   "execution_count": null,
   "metadata": {},
   "outputs": [],
   "source": [
    "theme = {'Osteosarcoma (cluster 0)': 'Osteosarcoma (Regulation of Translation)',\n",
    "         'Osteosarcoma (cluster 1)': 'Osteosarcoma (Wound Healing)',\n",
    "         'Osteosarcoma (cluster 2)': 'Osteosarcoma (Innate Immune)',\n",
    "         'Osteosarcoma (cluster 3)': 'Osteosarcoma (Complement/Humoral Immune)',\n",
    "         'Ewing sarcoma (cluster 0)': 'Ewing sarcoma (Cell Cycle)',\n",
    "         'Ewing sarcoma (cluster 1)': 'Ewing sarcoma (rRNA Processing)',\n",
    "         'Ewing sarcoma (cluster 2)': 'Ewing sarcoma (Wound Healing)',\n",
    "         'Ewing sarcoma (cluster 3)': 'Ewing sarcoma (Innate/Adaptive Immune)',\n",
    "         'Ewing sarcoma (cluster 4)': 'Ewing sarcoma (Myogenesis)',\n",
    "         'MYCN-NA Neuroblastoma (cluster 0)': 'MYCN-NA Neuroblastoma (Adaptive Immune)',\n",
    "         'MYCN-NA Neuroblastoma (cluster 1)': 'MYCN-NA Neuroblastoma (Regulation of Translation)',\n",
    "         'MYCN-NA Neuroblastoma (cluster 2)': 'MYCN-NA Neuroblastoma (Wound Healing)',\n",
    "         'eRMS (cluster 0)': 'Embryonal Rhabdomyosarcoma (Regulation of Translation)',\n",
    "         'eRMS (cluster 1)': 'Embryonal Rhabdomyosarcoma (Adaptive Immune)',\n",
    "         'aRMS (cluster 0)': 'Alveolar Rhabdomyosarcoma (Epithelial)',\n",
    "         'aRMS (cluster 1)': 'Alveolar Rhabdomyosarcoma (Adaptive Immune)',\n",
    "         'aRMS (cluster 2)': 'Alveolar Rhabdomyosarcoma (mRNA Processing)',\n",
    "         'Synovial sarcoma (cluster 0)': 'Synovial sarcoma (Regulation of Translation)',\n",
    "         'Synovial sarcoma (cluster 1)': 'Synovial sarcoma (Innate Immune)',\n",
    "         'Synovial sarcoma (cluster 2)': 'Synovial sarcoma (Neuronal)', \n",
    "         'Synovial sarcoma (cluster 3)': 'Synovial sarcoma (Cell Cycle)'}"
   ]
  },
  {
   "cell_type": "code",
   "execution_count": null,
   "metadata": {},
   "outputs": [],
   "source": [
    "pd.read_csv('../nbl/mycn-na/data/TARGET-MYCN-NA-Pathways-Enrichment.tsv', sep='\\t')"
   ]
  },
  {
   "cell_type": "code",
   "execution_count": null,
   "metadata": {},
   "outputs": [],
   "source": [
    "sigs = set()\n",
    "\n",
    "for disease, target in targets.items():\n",
    "    print(disease)\n",
    "    df = pd.read_csv(target, sep='\\t', index_col=[0], header=[0, 1])\n",
    "    for cluster, t in df.groupby(level=0, axis=1):\n",
    "        t = t[cluster]\n",
    "        hits = t[(t['NES'] > 0) & (t['padj'] < 0.05)].sort_values('NES', ascending=False).head(10).index.values\n",
    "        sigs.update(hits)"
   ]
  },
  {
   "cell_type": "code",
   "execution_count": null,
   "metadata": {},
   "outputs": [],
   "source": [
    "plot_df = pd.DataFrame(index=sigs)\n",
    "\n",
    "for disease, target in targets.items():\n",
    "    df = pd.read_csv(target, sep='\\t', index_col=[0], header=[0, 1])\n",
    "    for cluster, t in df.groupby(level=0, axis=1):\n",
    "        tag = '%s (cluster %s)' % (disease, cluster)\n",
    "        tag = theme[tag]\n",
    "        for p in plot_df.index.values:\n",
    "            try:\n",
    "                padj = t[cluster].loc[p, 'padj']\n",
    "                if padj < 0.05:\n",
    "                    NES = t[cluster].loc[p, 'NES']\n",
    "                \n",
    "                else:\n",
    "                    NES = 0.0\n",
    "            \n",
    "            except KeyError:\n",
    "                NES = 0.0\n",
    "                \n",
    "            plot_df.loc[p, tag] = NES"
   ]
  },
  {
   "cell_type": "code",
   "execution_count": null,
   "metadata": {},
   "outputs": [],
   "source": [
    "import seaborn as sns\n",
    "import matplotlib.pyplot as plt"
   ]
  },
  {
   "cell_type": "code",
   "execution_count": null,
   "metadata": {},
   "outputs": [],
   "source": [
    "sns.clustermap(plot_df,\n",
    "               cmap=sns.diverging_palette(240, 10, n=7))\n",
    "\n",
    "pth = 'img/pan-cancer-NES-heatmap.svg'\n",
    "plt.savefig(pth, format='svg', bbox_inches='tight')"
   ]
  },
  {
   "cell_type": "code",
   "execution_count": null,
   "metadata": {},
   "outputs": [],
   "source": [
    "sns.clustermap(plot_df,\n",
    "               cmap=sns.diverging_palette(240, 10, n=7),\n",
    "               figsize=(10, 40))\n",
    "\n",
    "pth = 'img/pan-cancer-NES-heatmap-long.svg'\n",
    "plt.savefig(pth, format='svg', bbox_inches='tight')"
   ]
  }
 ],
 "metadata": {
  "kernelspec": {
   "display_name": "Python 3",
   "language": "python",
   "name": "python3"
  },
  "language_info": {
   "codemirror_mode": {
    "name": "ipython",
    "version": 3
   },
   "file_extension": ".py",
   "mimetype": "text/x-python",
   "name": "python",
   "nbconvert_exporter": "python",
   "pygments_lexer": "ipython3",
   "version": "3.7.6"
  }
 },
 "nbformat": 4,
 "nbformat_minor": 2
}
