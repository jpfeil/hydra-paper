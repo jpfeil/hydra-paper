{
 "cells": [
  {
   "cell_type": "code",
   "execution_count": 1,
   "metadata": {},
   "outputs": [],
   "source": [
    "import sys\n",
    "import pandas as pd\n",
    "\n",
    "sys.path.append('/opt/hydra/')\n",
    "\n",
    "import library.analysis as hydra"
   ]
  },
  {
   "cell_type": "code",
   "execution_count": 9,
   "metadata": {},
   "outputs": [],
   "source": [
    "exp_path = '../data/treehouse-synovial-log2TPM1-V9.tsv'\n",
    "mm_path = '../data/synovial-output/MultiModalGenes'"
   ]
  },
  {
   "cell_type": "code",
   "execution_count": 5,
   "metadata": {},
   "outputs": [],
   "source": [
    "exp = pd.read_csv(exp_path, sep='\\t', index_col=0)"
   ]
  },
  {
   "cell_type": "code",
   "execution_count": 10,
   "metadata": {},
   "outputs": [
    {
     "name": "stdout",
     "output_type": "stream",
     "text": [
      "Min Prob:  0.2\n",
      "Num Genes:  53\n",
      "   Unnamed: 0          ID                                        Description  \\\n",
      "0  GO:0007389  GO:0007389                      pattern specification process   \n",
      "1  GO:0098742  GO:0098742  cell-cell adhesion via plasma-membrane adhesio...   \n",
      "2  GO:2000615  GO:2000615            regulation of histone H3-K9 acetylation   \n",
      "\n",
      "  GeneRatio    BgRatio        pvalue      p.adjust        qvalue  \\\n",
      "0    36/321  333/11960  7.848287e-13  2.655860e-09  2.442057e-09   \n",
      "1    14/321  147/11960  4.054792e-05  3.920405e-03  3.604801e-03   \n",
      "2     4/321   11/11960  1.447669e-04  1.042322e-02  9.584122e-03   \n",
      "\n",
      "                                              geneID  Count  \n",
      "0  IRX1/IRX2/GATA4/ZIC3/HOXB8/HOXB3/HOXB4/HOXC11/...     36  \n",
      "1  PCDH11X/ADGRL3/CDH8/CLDN4/AMIGO2/PCDHB7/PCDHGA...     14  \n",
      "2                          GATA3/NAP1L2/PIWIL2/KMT2A      4  \n",
      "\n",
      "Min Prob:  0.23\n",
      "Num Genes:  49\n",
      "   Unnamed: 0          ID                                        Description  \\\n",
      "0  GO:0007389  GO:0007389                      pattern specification process   \n",
      "1  GO:0098742  GO:0098742  cell-cell adhesion via plasma-membrane adhesio...   \n",
      "2  GO:2000615  GO:2000615            regulation of histone H3-K9 acetylation   \n",
      "\n",
      "  GeneRatio    BgRatio        pvalue      p.adjust        qvalue  \\\n",
      "0    32/210  333/11960  2.919368e-15  8.110004e-12  7.187791e-12   \n",
      "1    14/210  147/11960  2.929738e-07  5.749897e-05  5.096059e-05   \n",
      "2     4/210   11/11960  2.767431e-05  2.023138e-03  1.793081e-03   \n",
      "\n",
      "                                              geneID  Count  \n",
      "0  IRX1/IRX2/GATA4/ZIC3/HOXB8/HOXB3/HOXB4/HOXC11/...     32  \n",
      "1  PCDH11X/EPCAM/ADGRL3/CDH8/CLDN4/AMIGO2/PCDHB7/...     14  \n",
      "2                          GATA3/PIWIL2/NAP1L2/KMT2A      4  \n",
      "\n",
      "Min Prob:  0.26\n",
      "Num Genes:  40\n",
      "   Unnamed: 0          ID                                        Description  \\\n",
      "0  GO:0007389  GO:0007389                      pattern specification process   \n",
      "1  GO:0098742  GO:0098742  cell-cell adhesion via plasma-membrane adhesio...   \n",
      "2  GO:0032352  GO:0032352   positive regulation of hormone metabolic process   \n",
      "3  GO:2000615  GO:2000615            regulation of histone H3-K9 acetylation   \n",
      "\n",
      "  GeneRatio    BgRatio        pvalue      p.adjust        qvalue  \\\n",
      "0    26/158  333/11960  2.046166e-13  4.830997e-10  4.243102e-10   \n",
      "1    10/158  147/11960  2.452997e-05  1.447882e-03  1.271685e-03   \n",
      "2     3/158   10/11960  2.535886e-04  8.201681e-03  7.203599e-03   \n",
      "3     3/158   11/11960  3.453084e-04  1.019091e-02  8.950757e-03   \n",
      "\n",
      "                                              geneID  Count  \n",
      "0  NKX6-1/IRX1/IRX2/GATA4/NKX6-2/HOXD12/NKX2-2/HA...     26  \n",
      "1  PCDHGB7/PCDH11X/PCDHGB5/CLDN4/PCDHGA3/ADGRL3/T...     10  \n",
      "2                                     GATA3/PAX8/HPN      3  \n",
      "3                                GATA3/PIWIL2/NAP1L2      3  \n",
      "\n",
      "Min Prob:  0.29\n",
      "Num Genes:  35\n",
      "   Unnamed: 0          ID                                        Description  \\\n",
      "0  GO:0003002  GO:0003002                                    regionalization   \n",
      "1  GO:0007389  GO:0007389                      pattern specification process   \n",
      "2  GO:0098742  GO:0098742  cell-cell adhesion via plasma-membrane adhesio...   \n",
      "3  GO:0032352  GO:0032352   positive regulation of hormone metabolic process   \n",
      "\n",
      "  GeneRatio    BgRatio        pvalue      p.adjust        qvalue  \\\n",
      "0    23/114  266/11960  4.469013e-16  5.480935e-13  4.827643e-13   \n",
      "1    25/114  333/11960  5.644629e-16  5.480935e-13  4.827643e-13   \n",
      "2     8/114  147/11960  7.896519e-05  2.513941e-03  2.214296e-03   \n",
      "3     3/114   10/11960  9.640141e-05  2.925180e-03  2.576518e-03   \n",
      "\n",
      "                                              geneID  Count  \n",
      "0  IRX1/IRX2/GATA4/NKX6-2/NKX6-1/NKX2-2/ZIC3/HOXB...     23  \n",
      "1  IRX1/IRX2/GATA4/NKX6-2/NKX6-1/NKX2-2/ZIC3/HOXB...     25  \n",
      "2  PCDHGB7/PCDH11X/PCDHGB5/CLDN4/ADGRL3/PCDHGA3/E...      8  \n",
      "3                                     GATA3/PAX8/HPN      3  \n",
      "\n",
      "Min Prob:  0.31999999999999995\n",
      "Num Genes:  23\n",
      "   Unnamed: 0          ID                                       Description  \\\n",
      "0  GO:0007389  GO:0007389                     pattern specification process   \n",
      "1  GO:0032352  GO:0032352  positive regulation of hormone metabolic process   \n",
      "\n",
      "  GeneRatio    BgRatio        pvalue      p.adjust        qvalue  \\\n",
      "0     21/90  333/11960  3.464076e-14  6.103701e-11  5.272688e-11   \n",
      "1      3/90   10/11960  4.759832e-05  1.553116e-03  1.341660e-03   \n",
      "\n",
      "                                              geneID  Count  \n",
      "0  PAX8/IRX1/IRX2/GATA4/NKX6-2/NKX2-2/ZIC3/HOXB8/...     21  \n",
      "1                                     PAX8/GATA3/HPN      3  \n",
      "\n",
      "Min Prob:  0.35\n",
      "Num Genes:  15\n",
      "   Unnamed: 0          ID      Description GeneRatio    BgRatio        pvalue  \\\n",
      "0  GO:0003002  GO:0003002  regionalization     15/65  266/11960  8.340350e-12   \n",
      "\n",
      "       p.adjust        qvalue  \\\n",
      "0  9.574722e-09  8.612509e-09   \n",
      "\n",
      "                                              geneID  Count  \n",
      "0  IRX1/IRX2/NKX2-2/ZIC3/HOXB8/HOXC13/PAX8/HOXC11...     15  \n",
      "\n"
     ]
    }
   ],
   "source": [
    "import numpy as np\n",
    "\n",
    "sweep_terms = {}\n",
    "sweep_genes = {}\n",
    "for x in np.linspace(0.2, 0.35, 6):\n",
    "\n",
    "    mm = hydra.EnrichmentAnalysis(mm_path,\n",
    "                                  exp_path,\n",
    "                                  min_prob_filter=x,\n",
    "                                  gmt_path='GO')\n",
    "    \n",
    "    print 'Min Prob: ', x\n",
    "    print 'Num Genes: ', len(mm.get_enriched_term_genes())\n",
    "    print mm.get_enriched_terms()\n",
    "    print\n",
    "    \n",
    "    sweep_terms[x] = mm.get_enriched_terms()\n",
    "    sweep_genes[x] = mm.get_enriched_term_genes()"
   ]
  },
  {
   "cell_type": "code",
   "execution_count": 11,
   "metadata": {},
   "outputs": [
    {
     "data": {
      "text/plain": [
       "<seaborn.matrix.ClusterGrid at 0x7f6b8dbd0450>"
      ]
     },
     "execution_count": 11,
     "metadata": {},
     "output_type": "execute_result"
    },
    {
     "data": {
      "image/png": "[encoded data removed]",
      "text/plain": [
       "<Figure size 720x720 with 4 Axes>"
      ]
     },
     "metadata": {
      "needs_background": "light"
     },
     "output_type": "display_data"
    }
   ],
   "source": [
    "hclust = hydra.HClust(exp.reindex(sweep_genes[0.29]))\n",
    "hclust.plot()"
   ]
  },
  {
   "cell_type": "code",
   "execution_count": 12,
   "metadata": {},
   "outputs": [
    {
     "name": "stdout",
     "output_type": "stream",
     "text": [
      "DELETE @ lap 1.00: Disabled. Cannot delete before first complete lap, because SS that represents whole dataset is required.\n",
      "DELETE @ lap 2.00: 0/1 accepted. Ndiff 0.00.\n",
      "DELETE @ lap 3.00: 0/1 accepted. Ndiff 0.00.\n",
      "DELETE @ lap 4.00: 0/1 accepted. Ndiff 0.00.\n",
      "DELETE @ lap 5.00: Empty plan. 0 UIDs eligible as delete target. 0 too busy with other moves. 0 too big. 3 have past failures.\n",
      "DELETE @ lap 6.00: Empty plan. 0 UIDs eligible as delete target. 0 too busy with other moves. 0 too big. 3 have past failures.\n",
      "DELETE @ lap 7.00: Empty plan. 0 UIDs eligible as delete target. 0 too busy with other moves. 0 too big. 3 have past failures.\n",
      "DELETE @ lap 8.00: 0/1 accepted. Ndiff 0.00.\n",
      "DELETE @ lap 9.00: 0/1 accepted. Ndiff 0.00.\n",
      "DELETE @ lap 10.00: 0/1 accepted. Ndiff 0.00.\n",
      "DELETE @ lap 11.00: Empty plan. 0 UIDs eligible as delete target. 0 too busy with other moves. 0 too big. 3 have past failures.\n",
      "DELETE @ lap 12.00: Empty plan. 0 UIDs eligible as delete target. 0 too busy with other moves. 0 too big. 3 have past failures.\n",
      "DELETE @ lap 13.00: Empty plan. 0 UIDs eligible as delete target. 0 too busy with other moves. 0 too big. 3 have past failures.\n",
      "Min Prob:  0.29\n",
      "Num Genes:  35\n",
      "3\n",
      "DELETE @ lap 1.00: Disabled. Cannot delete before first complete lap, because SS that represents whole dataset is required.\n",
      "DELETE @ lap 2.00: 0/1 accepted. Ndiff 0.00.\n",
      "DELETE @ lap 3.00: 0/1 accepted. Ndiff 0.00.\n",
      "DELETE @ lap 4.00: Empty plan. 0 UIDs eligible as delete target. 0 too busy with other moves. 0 too big. 2 have past failures.\n",
      "DELETE @ lap 5.00: Empty plan. 0 UIDs eligible as delete target. 0 too busy with other moves. 0 too big. 2 have past failures.\n",
      "DELETE @ lap 6.00: Empty plan. 0 UIDs eligible as delete target. 0 too busy with other moves. 0 too big. 2 have past failures.\n",
      "DELETE @ lap 7.00: Empty plan. 0 UIDs eligible as delete target. 0 too busy with other moves. 0 too big. 2 have past failures.\n",
      "DELETE @ lap 8.00: 0/1 accepted. Ndiff 0.00.\n",
      "DELETE @ lap 9.00: 0/1 accepted. Ndiff 0.00.\n",
      "DELETE @ lap 10.00: Empty plan. 0 UIDs eligible as delete target. 0 too busy with other moves. 0 too big. 2 have past failures.\n",
      "DELETE @ lap 11.00: Empty plan. 0 UIDs eligible as delete target. 0 too busy with other moves. 0 too big. 2 have past failures.\n",
      "DELETE @ lap 12.00: Empty plan. 0 UIDs eligible as delete target. 0 too busy with other moves. 0 too big. 2 have past failures.\n",
      "DELETE @ lap 13.00: Empty plan. 0 UIDs eligible as delete target. 0 too busy with other moves. 0 too big. 2 have past failures.\n",
      "WARNING: Number of genes outnumbers samples. Consider more stringent filtering.\n",
      "Min Prob:  0.2\n",
      "Num Genes:  53\n",
      "2\n",
      "DELETE @ lap 1.00: Disabled. Cannot delete before first complete lap, because SS that represents whole dataset is required.\n",
      "DELETE @ lap 2.00: 0/1 accepted. Ndiff 0.00.\n",
      "DELETE @ lap 3.00: 0/1 accepted. Ndiff 0.00.\n",
      "DELETE @ lap 4.00: 0/1 accepted. Ndiff 0.00.\n",
      "DELETE @ lap 5.00: Empty plan. 0 UIDs eligible as delete target. 0 too busy with other moves. 0 too big. 3 have past failures.\n",
      "DELETE @ lap 6.00: Empty plan. 0 UIDs eligible as delete target. 0 too busy with other moves. 0 too big. 3 have past failures.\n",
      "DELETE @ lap 7.00: Empty plan. 0 UIDs eligible as delete target. 0 too busy with other moves. 0 too big. 3 have past failures.\n",
      "DELETE @ lap 8.00: 0/1 accepted. Ndiff 0.00.\n",
      "DELETE @ lap 9.00: 0/1 accepted. Ndiff 0.00.\n",
      "DELETE @ lap 10.00: 0/1 accepted. Ndiff 0.00.\n",
      "DELETE @ lap 11.00: Empty plan. 0 UIDs eligible as delete target. 0 too busy with other moves. 0 too big. 3 have past failures.\n",
      "DELETE @ lap 12.00: Empty plan. 0 UIDs eligible as delete target. 0 too busy with other moves. 0 too big. 3 have past failures.\n",
      "DELETE @ lap 13.00: Empty plan. 0 UIDs eligible as delete target. 0 too busy with other moves. 0 too big. 3 have past failures.\n",
      "WARNING: Number of genes outnumbers samples. Consider more stringent filtering.\n",
      "Min Prob:  0.26\n",
      "Num Genes:  40\n",
      "3\n",
      "DELETE @ lap 1.00: Disabled. Cannot delete before first complete lap, because SS that represents whole dataset is required.\n",
      "DELETE @ lap 2.00: Ineligible. Did not find >= 2 UIDs in entire model.\n",
      "DELETE @ lap 3.00: Ineligible. Did not find >= 2 UIDs in entire model.\n",
      "DELETE @ lap 4.00: Ineligible. Did not find >= 2 UIDs in entire model.\n",
      "DELETE @ lap 5.00: Ineligible. Did not find >= 2 UIDs in entire model.\n",
      "DELETE @ lap 6.00: Ineligible. Did not find >= 2 UIDs in entire model.\n",
      "DELETE @ lap 7.00: Ineligible. Did not find >= 2 UIDs in entire model.\n",
      "DELETE @ lap 8.00: Ineligible. Did not find >= 2 UIDs in entire model.\n",
      "DELETE @ lap 9.00: Ineligible. Did not find >= 2 UIDs in entire model.\n",
      "DELETE @ lap 10.00: Ineligible. Did not find >= 2 UIDs in entire model.\n",
      "DELETE @ lap 11.00: Ineligible. Did not find >= 2 UIDs in entire model.\n",
      "DELETE @ lap 12.00: Ineligible. Did not find >= 2 UIDs in entire model.\n",
      "DELETE @ lap 13.00: Ineligible. Did not find >= 2 UIDs in entire model.\n",
      "Min Prob:  0.35\n",
      "Num Genes:  15\n",
      "1\n",
      "DELETE @ lap 1.00: Disabled. Cannot delete before first complete lap, because SS that represents whole dataset is required.\n",
      "DELETE @ lap 2.00: 0/1 accepted. Ndiff 0.00.\n",
      "DELETE @ lap 3.00: 0/1 accepted. Ndiff 0.00.\n",
      "DELETE @ lap 4.00: 0/1 accepted. Ndiff 0.00.\n",
      "DELETE @ lap 5.00: Empty plan. 0 UIDs eligible as delete target. 0 too busy with other moves. 0 too big. 2 have past failures.\n",
      "DELETE @ lap 6.00: Empty plan. 0 UIDs eligible as delete target. 0 too busy with other moves. 0 too big. 2 have past failures.\n",
      "DELETE @ lap 7.00: Empty plan. 0 UIDs eligible as delete target. 0 too busy with other moves. 0 too big. 2 have past failures.\n",
      "DELETE @ lap 8.00: Empty plan. 0 UIDs eligible as delete target. 0 too busy with other moves. 0 too big. 2 have past failures.\n",
      "DELETE @ lap 9.00: 0/1 accepted. Ndiff 0.00.\n",
      "DELETE @ lap 10.00: 0/1 accepted. Ndiff 0.00.\n",
      "DELETE @ lap 11.00: Empty plan. 0 UIDs eligible as delete target. 0 too busy with other moves. 0 too big. 2 have past failures.\n",
      "DELETE @ lap 12.00: Empty plan. 0 UIDs eligible as delete target. 0 too busy with other moves. 0 too big. 2 have past failures.\n",
      "DELETE @ lap 13.00: Empty plan. 0 UIDs eligible as delete target. 0 too busy with other moves. 0 too big. 2 have past failures.\n",
      "WARNING: Number of genes outnumbers samples. Consider more stringent filtering.\n",
      "Min Prob:  0.23\n",
      "Num Genes:  49\n",
      "2\n",
      "DELETE @ lap 1.00: Disabled. Cannot delete before first complete lap, because SS that represents whole dataset is required.\n",
      "DELETE @ lap 2.00: Ineligible. Did not find >= 2 UIDs in entire model.\n",
      "DELETE @ lap 3.00: Ineligible. Did not find >= 2 UIDs in entire model.\n",
      "DELETE @ lap 4.00: Ineligible. Did not find >= 2 UIDs in entire model.\n",
      "DELETE @ lap 5.00: Ineligible. Did not find >= 2 UIDs in entire model.\n",
      "DELETE @ lap 6.00: Ineligible. Did not find >= 2 UIDs in entire model.\n",
      "DELETE @ lap 7.00: Ineligible. Did not find >= 2 UIDs in entire model.\n",
      "DELETE @ lap 8.00: Ineligible. Did not find >= 2 UIDs in entire model.\n",
      "DELETE @ lap 9.00: Ineligible. Did not find >= 2 UIDs in entire model.\n",
      "DELETE @ lap 10.00: Ineligible. Did not find >= 2 UIDs in entire model.\n",
      "DELETE @ lap 11.00: Ineligible. Did not find >= 2 UIDs in entire model.\n",
      "DELETE @ lap 12.00: Ineligible. Did not find >= 2 UIDs in entire model.\n",
      "DELETE @ lap 13.00: Ineligible. Did not find >= 2 UIDs in entire model.\n",
      "Min Prob:  0.31999999999999995\n",
      "Num Genes:  23\n",
      "1\n"
     ]
    }
   ],
   "source": [
    "sweep_assign = {}\n",
    "for key, genes in sweep_genes.items():\n",
    "    clus = hydra.MultivariateMixtureModel(data=exp.reindex(genes),\n",
    "                                          center=True,\n",
    "                                          gamma=5.0,\n",
    "                                          variance=2.0,\n",
    "                                          K=1)\n",
    "    \n",
    "    print 'Min Prob: ', key\n",
    "    print 'Num Genes: ', len(genes) \n",
    "    print len(clus.hmodel.allocModel.get_active_comp_probs())\n",
    "    sweep_assign[key] = clus.get_assignments(exp.reindex(genes))"
   ]
  },
  {
   "cell_type": "code",
   "execution_count": null,
   "metadata": {},
   "outputs": [
    {
     "name": "stdout",
     "output_type": "stream",
     "text": [
      "0.29\n"
     ]
    }
   ],
   "source": [
    "import uuid\n",
    "import subprocess\n",
    "from scipy.stats import ttest_ind\n",
    "\n",
    "sweep_cluster_gsea = {}\n",
    "for key, assign in sweep_assign.items():\n",
    "    print key\n",
    "    sweep_cluster_gsea[key] = {}\n",
    "    \n",
    "    if max(assign) == 0:\n",
    "        continue \n",
    "        \n",
    "    for group in sorted(list(set(assign))):\n",
    "        ins = []\n",
    "        outs = []\n",
    "        for sample, _assign in zip(exp.columns, assign):\n",
    "            if _assign == group:\n",
    "                ins.append(sample)\n",
    "            \n",
    "            else:\n",
    "                outs.append(sample)\n",
    "                \n",
    "        res = ttest_ind(exp[ins].values,\n",
    "                        exp[outs].values,\n",
    "                        axis=1).statistic\n",
    "        \n",
    "        tstats = pd.DataFrame(index=exp.index, \n",
    "                              data=res).dropna()\n",
    "            \n",
    "        tstats = tstats.sort_values(0, \n",
    "                                    ascending=False).reset_index()\n",
    "        \n",
    "        fname = '/tmp/%s' % str(uuid.uuid4())\n",
    "        rname = '/tmp/%s' % str(uuid.uuid4())\n",
    "        tstats.to_csv(fname,\n",
    "                      header=None,\n",
    "                      sep='\\t',\n",
    "                      index=False)\n",
    "            \n",
    "        cmd = [\"Rscript\",\n",
    "               \"/opt/hydra/bin/fgsea.R\",\n",
    "               \"/opt/hydra/gene-sets/Human_GOBP_AllPathways_no_GO_iea_December_01_2018_symbol.gmt\",\n",
    "               fname,\n",
    "               rname]\n",
    "                \n",
    "        subprocess.check_call(cmd)\n",
    "        fgsea = pd.read_csv(rname)\n",
    "        sweep_cluster_gsea[key][group] = fgsea[fgsea['padj'] < 0.05].sort_values('NES', ascending=False)"
   ]
  },
  {
   "cell_type": "code",
   "execution_count": null,
   "metadata": {},
   "outputs": [],
   "source": [
    "sweep_cluster_gsea[0.29][0].head(10)"
   ]
  },
  {
   "cell_type": "code",
   "execution_count": null,
   "metadata": {},
   "outputs": [],
   "source": [
    "sweep_cluster_gsea[0.29][1].head(20)"
   ]
  },
  {
   "cell_type": "code",
   "execution_count": null,
   "metadata": {},
   "outputs": [],
   "source": [
    "sweep_cluster_gsea[0.29][2].head(10)"
   ]
  },
  {
   "cell_type": "code",
   "execution_count": null,
   "metadata": {},
   "outputs": [],
   "source": [
    "assign = pd.DataFrame(columns=['sample', 'cluster'])\n",
    "for s, a in zip(exp.columns, sweep_assign[0.29]):\n",
    "    assign.loc[len(assign), :] = [s, a + 1]"
   ]
  },
  {
   "cell_type": "code",
   "execution_count": null,
   "metadata": {},
   "outputs": [],
   "source": [
    "assign.set_index('sample').to_csv('synovial-hydra-assignments.tsv',\n",
    "                                  sep='\\t')"
   ]
  },
  {
   "cell_type": "code",
   "execution_count": null,
   "metadata": {},
   "outputs": [],
   "source": [
    "pth = 'synovial-fusion.tsv'\n",
    "fusion = pd.read_csv(pth, sep='\\t', index_col=0)"
   ]
  },
  {
   "cell_type": "code",
   "execution_count": null,
   "metadata": {},
   "outputs": [],
   "source": [
    "m = [[0, 0, 0], [0, 0, 0]]\n",
    "for sample in assign.index.values:\n",
    "    if sample == 'TCGA-DX-A7EQ-01':\n",
    "        continue\n",
    "    c = assign.loc[sample, 'cluster']\n",
    "    f = fusion.loc[sample, 'fusion']\n",
    "    if f == 'SSX1':\n",
    "        m[1][c - 1] += 1\n",
    "        \n",
    "    elif f == 'SSX2':\n",
    "        m[0][c - 1] += 1\n",
    "    \n",
    "    else:\n",
    "        raise ValueError()"
   ]
  },
  {
   "cell_type": "code",
   "execution_count": null,
   "metadata": {},
   "outputs": [],
   "source": [
    "\"\"\"\n",
    "> library(stats)\n",
    "> library(base)\n",
    "> x <- rbind(c(4, 5, 2), c(13, 5, 6))\n",
    "> x\n",
    "     [,1] [,2] [,3]\n",
    "[1,]    4    5    2\n",
    "[2,]   13    5    6\n",
    "> fisher.test(x)\n",
    "\n",
    "\tFisher's Exact Test for Count Data\n",
    "\n",
    "data:  x\n",
    "p-value = 0.3237\n",
    "alternative hypothesis: two.sided\n",
    "\"\"\""
   ]
  },
  {
   "cell_type": "code",
   "execution_count": null,
   "metadata": {},
   "outputs": [],
   "source": [
    "fusion_samples = {'SSX1': [], 'SSX2': []}"
   ]
  }
 ],
 "metadata": {
  "kernelspec": {
   "display_name": "Python 3",
   "language": "python",
   "name": "python3"
  },
  "language_info": {
   "codemirror_mode": {
    "name": "ipython",
    "version": 3
   },
   "file_extension": ".py",
   "mimetype": "text/x-python",
   "name": "python",
   "nbconvert_exporter": "python",
   "pygments_lexer": "ipython3",
   "version": "3.7.3"
  }
 },
 "nbformat": 4,
 "nbformat_minor": 2
}
