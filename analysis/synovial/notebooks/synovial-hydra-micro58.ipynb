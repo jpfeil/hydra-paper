{
 "cells": [
  {
   "cell_type": "code",
   "execution_count": null,
   "metadata": {},
   "outputs": [],
   "source": [
    "import sys\n",
    "import pandas as pd\n",
    "import numpy as np\n",
    "\n",
    "sys.path.append('/opt/hydra/')\n",
    "\n",
    "import library.analysis as hydra"
   ]
  },
  {
   "cell_type": "code",
   "execution_count": null,
   "metadata": {},
   "outputs": [],
   "source": [
    "exp_path = '../data/synovial-microarray-58-processed.tsv'\n",
    "mm_path = '../data/micro-58-filter/MultiModalGenes'"
   ]
  },
  {
   "cell_type": "code",
   "execution_count": null,
   "metadata": {},
   "outputs": [],
   "source": [
    "exp = pd.read_csv(exp_path, sep='\\t', index_col=0)"
   ]
  },
  {
   "cell_type": "code",
   "execution_count": null,
   "metadata": {
    "scrolled": true
   },
   "outputs": [],
   "source": [
    "if False:\n",
    "    min_prob_range = [round(x, 2) for x in np.linspace(0.1, 0.15, 5)]\n",
    "    print(min_prob_range)\n",
    "    scan = hydra.ScanEnrichmentAnalysis(mm_path, \n",
    "                                        exp_path, \n",
    "                                        'GO', \n",
    "                                        min_prob_range=min_prob_range,\n",
    "                                        CPU=7).scan()"
   ]
  },
  {
   "cell_type": "code",
   "execution_count": null,
   "metadata": {},
   "outputs": [],
   "source": [
    "import numpy as np\n",
    "\n",
    "mm = hydra.EnrichmentAnalysis(mm_path,\n",
    "                              exp_path,\n",
    "                              min_prob_filter=0.14,\n",
    "                              gmt_path='GO')"
   ]
  },
  {
   "cell_type": "code",
   "execution_count": null,
   "metadata": {},
   "outputs": [],
   "source": [
    "clus = hydra.MultivariateMixtureModel(data=exp.reindex(mm.get_enriched_term_genes()),\n",
    "                                      center=True,\n",
    "                                      gamma=5.0,\n",
    "                                      variance=2.0,\n",
    "                                      K=1)"
   ]
  },
  {
   "cell_type": "code",
   "execution_count": null,
   "metadata": {},
   "outputs": [],
   "source": [
    "cfeat = clus.get_cluster_features(exp)"
   ]
  },
  {
   "cell_type": "code",
   "execution_count": null,
   "metadata": {},
   "outputs": [],
   "source": [
    "def format_pathway(x):\n",
    "    fields = x.split('%')\n",
    "    return '%s (%s)' % (fields[0], fields[1])\n",
    "\n",
    "pth = '../img/microarray-58-top-10-pathways-cluster-%d.tex'\n",
    "for key, values in cfeat.items():\n",
    "    with pd.option_context('display.precision', 2):\n",
    "        t = values.reset_index().reindex(['pathway', 'padj', 'NES'], axis=1)\n",
    "        t['pathway'] = t['pathway'].apply(format_pathway)\n",
    "        with open(pth % key, 'w') as f:\n",
    "            print(t[(t['NES'] > 0) & (t['padj'] < 0.05)].sort_values('NES', ascending=False).head(10).to_latex(index=False))\n",
    "            t[(t['NES'] > 0) & (t['padj'] < 0.05)].sort_values('NES', ascending=False).head(10).to_latex(f, index=False)"
   ]
  },
  {
   "cell_type": "code",
   "execution_count": null,
   "metadata": {},
   "outputs": [],
   "source": [
    "fgsea_df = None\n",
    "for key, values in cfeat.items():\n",
    "    if fgsea_df is None:\n",
    "        header = pd.MultiIndex.from_product([list(cfeat.keys()), \n",
    "                                             ['padj', 'NES']],\n",
    "                                           names=['cluster', 'feature'])\n",
    "        \n",
    "        fgsea_df = pd.DataFrame(index=values.index.values, columns=header)\n",
    "        \n",
    "    print 'Key: ', key,\n",
    "    t = values.reset_index().reindex(['pathway', 'padj', 'NES'], axis=1)\n",
    "    t['pathway'] = t['pathway'].apply(format_pathway) \n",
    "    print(t[(t['NES'] > 0) & (t['padj'] < 0.05)].sort_values('NES', ascending=False).head(10))\n",
    "    \n",
    "    fgsea_df[(key, 'padj')] = values.loc[fgsea_df.index, 'padj'].values\n",
    "    fgsea_df[(key, 'NES')] = values.loc[fgsea_df.index, 'NES'].values"
   ]
  },
  {
   "cell_type": "code",
   "execution_count": null,
   "metadata": {},
   "outputs": [],
   "source": [
    "pth = '../data/micro-58-synovial-Pathways-Enrichment.tsv'\n",
    "fgsea_df.to_csv(pth, sep='\\t')"
   ]
  },
  {
   "cell_type": "code",
   "execution_count": null,
   "metadata": {},
   "outputs": [],
   "source": [
    "cfeat[2].head()"
   ]
  },
  {
   "cell_type": "code",
   "execution_count": null,
   "metadata": {},
   "outputs": [],
   "source": [
    "pth = '../data/pdata-group-2.tsv'\n",
    "p2 = pd.read_csv(pth, sep='\\t', index_col=1)\n",
    "p2.head()"
   ]
  },
  {
   "cell_type": "code",
   "execution_count": null,
   "metadata": {},
   "outputs": [],
   "source": [
    "surv = pd.DataFrame(columns=['sample', 'cluster', 'fusion', 'metastasis', 'time'])\n",
    "\n",
    "for sample, assignment in zip(exp.columns, clus.get_assignments(exp)):\n",
    "    met = 1 if p2.loc[sample, 'metastasis:ch1'] == 'yes' else 0\n",
    "    surv.loc[len(surv), :] = [sample, assignment, p2.loc[sample, 'fusion transcrit:ch1'], met, p2.loc[sample, 'time:ch1']]"
   ]
  },
  {
   "cell_type": "code",
   "execution_count": null,
   "metadata": {},
   "outputs": [],
   "source": [
    "surv.to_csv(\"../data/micro-58-survival-data.tsv\", sep='\\t', index=False)"
   ]
  },
  {
   "cell_type": "code",
   "execution_count": null,
   "metadata": {},
   "outputs": [],
   "source": [
    "surv[surv['cluster'].isin([0, 1])].to_csv(\"../data/micro-58-cluster-0-or-1-survival-data.tsv\", \n",
    "                                         sep='\\t', \n",
    "                                         index=False)"
   ]
  }
 ],
 "metadata": {
  "kernelspec": {
   "display_name": "Python 2",
   "language": "python",
   "name": "python2"
  },
  "language_info": {
   "codemirror_mode": {
    "name": "ipython",
    "version": 2
   },
   "file_extension": ".py",
   "mimetype": "text/x-python",
   "name": "python",
   "nbconvert_exporter": "python",
   "pygments_lexer": "ipython2",
   "version": "2.7.16"
  }
 },
 "nbformat": 4,
 "nbformat_minor": 2
}
