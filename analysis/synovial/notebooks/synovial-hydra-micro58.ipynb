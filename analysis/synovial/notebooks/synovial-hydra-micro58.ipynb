{
 "cells": [
  {
   "cell_type": "code",
   "execution_count": 2,
   "metadata": {},
   "outputs": [],
   "source": [
    "import sys\n",
    "import pandas as pd\n",
    "import numpy as np\n",
    "\n",
    "sys.path.append('/opt/hydra/')\n",
    "\n",
    "import library.analysis as hydra"
   ]
  },
  {
   "cell_type": "code",
   "execution_count": 3,
   "metadata": {},
   "outputs": [],
   "source": [
    "exp_path = '../data/synovial-microarray-58-processed.tsv'\n",
    "mm_path = '../data/micro-58-filter/MultiModalGenes'"
   ]
  },
  {
   "cell_type": "code",
   "execution_count": 4,
   "metadata": {},
   "outputs": [],
   "source": [
    "exp = pd.read_csv(exp_path, sep='\\t', index_col=0)"
   ]
  },
  {
   "cell_type": "code",
   "execution_count": 5,
   "metadata": {},
   "outputs": [
    {
     "data": {
      "text/plain": [
       "(18834, 58)"
      ]
     },
     "execution_count": 5,
     "metadata": {},
     "output_type": "execute_result"
    }
   ],
   "source": [
    "exp.shape"
   ]
  },
  {
   "cell_type": "code",
   "execution_count": 5,
   "metadata": {},
   "outputs": [
    {
     "name": "stdout",
     "output_type": "stream",
     "text": [
      "Help on class ScanEnrichmentAnalysis in module library.analysis:\n",
      "\n",
      "class ScanEnrichmentAnalysis(__builtin__.object)\n",
      " |  Methods defined here:\n",
      " |  \n",
      " |  __init__(self, mm_path, exp_path, gmt_path, min_prob_range=None, min_effect_filter=1.0, **kwargs)\n",
      " |      Class to explore the function of multimodally expressed genes.\n",
      " |      \n",
      " |      :param min_prob_range (iterable): Iterable containing floats between 0 and 0.5\n",
      " |  \n",
      " |  plot(self)\n",
      " |  \n",
      " |  scan(self)\n",
      " |  \n",
      " |  ----------------------------------------------------------------------\n",
      " |  Data descriptors defined here:\n",
      " |  \n",
      " |  __dict__\n",
      " |      dictionary for instance variables (if defined)\n",
      " |  \n",
      " |  __weakref__\n",
      " |      list of weak references to the object (if defined)\n",
      "\n"
     ]
    }
   ],
   "source": [
    "help(hydra.ScanEnrichmentAnalysis)"
   ]
  },
  {
   "cell_type": "code",
   "execution_count": 6,
   "metadata": {
    "scrolled": true
   },
   "outputs": [],
   "source": [
    "if False:\n",
    "    min_prob_range = [round(x, 2) for x in np.linspace(0.1, 0.15, 5)]\n",
    "    print(min_prob_range)\n",
    "    scan = hydra.ScanEnrichmentAnalysis(mm_path, \n",
    "                                        exp_path, \n",
    "                                        'GO', \n",
    "                                        min_prob_range=min_prob_range,\n",
    "                                        CPU=7).scan()"
   ]
  },
  {
   "cell_type": "code",
   "execution_count": 7,
   "metadata": {},
   "outputs": [],
   "source": [
    "import numpy as np\n",
    "\n",
    "mm = hydra.EnrichmentAnalysis(mm_path,\n",
    "                              exp_path,\n",
    "                              min_prob_filter=0.14,\n",
    "                              gmt_path='GO')"
   ]
  },
  {
   "cell_type": "code",
   "execution_count": 8,
   "metadata": {},
   "outputs": [],
   "source": [
    "clus = hydra.MultivariateMixtureModel(data=exp.reindex(mm.get_enriched_term_genes()),\n",
    "                                      center=True,\n",
    "                                      gamma=5.0,\n",
    "                                      variance=2.0,\n",
    "                                      K=1)"
   ]
  },
  {
   "cell_type": "code",
   "execution_count": 9,
   "metadata": {},
   "outputs": [],
   "source": [
    "cfeat = clus.get_cluster_features(exp)"
   ]
  },
  {
   "cell_type": "code",
   "execution_count": 33,
   "metadata": {},
   "outputs": [
    {
     "name": "stdout",
     "output_type": "stream",
     "text": [
      "\\begin{tabular}{lrr}\n",
      "\\toprule\n",
      "                                           pathway &      padj &   NES \\\\\n",
      "\\midrule\n",
      "                            TRANSLATION (REACTOME) &  3.36e-03 &  4.52 \\\\\n",
      "                                TRANSLATION (GOBP) &  3.36e-03 &  4.42 \\\\\n",
      "                        RIBOSOME BIOGENESIS (GOBP) &  3.36e-03 &  4.42 \\\\\n",
      " RRNA PROCESSING (REACTOME DATABASE ID RELEASE 66) &  3.36e-03 &  4.29 \\\\\n",
      " RRNA PROCESSING IN THE NUCLEUS AND CYTOSOL (RE... &  3.36e-03 &  4.25 \\\\\n",
      " MAJOR PATHWAY OF RRNA PROCESSING IN THE NUCLEO... &  3.36e-03 &  4.22 \\\\\n",
      "               PEPTIDE BIOSYNTHETIC PROCESS (GOBP) &  3.36e-03 &  4.17 \\\\\n",
      "                            RRNA PROCESSING (GOBP) &  3.36e-03 &  4.16 \\\\\n",
      "                           NCRNA PROCESSING (GOBP) &  3.36e-03 &  4.16 \\\\\n",
      "               HALLMARK\\_MYC\\_TARGETS\\_V1 (MSIGDB\\_C2) &  3.36e-03 &  4.09 \\\\\n",
      "\\bottomrule\n",
      "\\end{tabular}\n",
      "\n",
      "\\begin{tabular}{lrr}\n",
      "\\toprule\n",
      "                                           pathway &      padj &   NES \\\\\n",
      "\\midrule\n",
      "    HALLMARK\\_INTERFERON\\_GAMMA\\_RESPONSE (MSIGDB\\_C2) &  1.77e-03 &  5.11 \\\\\n",
      "        HALLMARK\\_INFLAMMATORY\\_RESPONSE (MSIGDB\\_C2) &  1.77e-03 &  5.01 \\\\\n",
      "      HALLMARK\\_TNFA\\_SIGNALING\\_VIA\\_NFKB (MSIGDB\\_C2) &  1.77e-03 &  4.87 \\\\\n",
      "               RESPONSE TO INTERFERON-GAMMA (GOBP) &  1.77e-03 &  4.77 \\\\\n",
      "                      INFLAMMATORY RESPONSE (GOBP) &  1.77e-03 &  4.67 \\\\\n",
      "                        LEUKOCYTE MIGRATION (GOBP) &  1.77e-03 &  4.63 \\\\\n",
      "          HALLMARK\\_ALLOGRAFT\\_REJECTION (MSIGDB\\_C2) &  1.77e-03 &  4.60 \\\\\n",
      "      CELLULAR RESPONSE TO INTERFERON-GAMMA (GOBP) &  1.77e-03 &  4.57 \\\\\n",
      " IMMUNOREGULATORY INTERACTIONS BETWEEN A LYMPHO... &  1.77e-03 &  4.57 \\\\\n",
      " MYELOID CELL ACTIVATION INVOLVED IN IMMUNE RES... &  1.77e-03 &  4.56 \\\\\n",
      "\\bottomrule\n",
      "\\end{tabular}\n",
      "\n",
      "\\begin{tabular}{lrr}\n",
      "\\toprule\n",
      "                                           pathway &  padj &   NES \\\\\n",
      "\\midrule\n",
      "    POSITIVE REGULATION OF SYNAPSE ASSEMBLY (GOBP) &  0.01 &  2.57 \\\\\n",
      "              DENDRITIC SPINE MORPHOGENESIS (GOBP) &  0.01 &  2.50 \\\\\n",
      " CELL MORPHOGENESIS INVOLVED IN NEURON DIFFEREN... &  0.01 &  2.44 \\\\\n",
      "                DENDRITIC SPINE DEVELOPMENT (GOBP) &  0.01 &  2.43 \\\\\n",
      " CYTOSKELETON-DEPENDENT INTRACELLULAR TRANSPORT... &  0.01 &  2.42 \\\\\n",
      "                       DENDRITE DEVELOPMENT (GOBP) &  0.01 &  2.41 \\\\\n",
      "                TRANSPORT ALONG MICROTUBULE (GOBP) &  0.01 &  2.40 \\\\\n",
      "                MICROTUBULE-BASED TRANSPORT (GOBP) &  0.01 &  2.40 \\\\\n",
      "                 NON-MOTILE CILIUM ASSEMBLY (GOBP) &  0.01 &  2.39 \\\\\n",
      "                     DENDRITE MORPHOGENESIS (GOBP) &  0.01 &  2.36 \\\\\n",
      "\\bottomrule\n",
      "\\end{tabular}\n",
      "\n",
      "\\begin{tabular}{lrr}\n",
      "\\toprule\n",
      "                                           pathway &      padj &   NES \\\\\n",
      "\\midrule\n",
      "               HALLMARK\\_G2M\\_CHECKPOINT (MSIGDB\\_C2) &  3.12e-03 &  3.89 \\\\\n",
      "                  HALLMARK\\_E2F\\_TARGETS (MSIGDB\\_C2) &  3.12e-03 &  3.74 \\\\\n",
      " REGULATION OF G2/M TRANSITION OF MITOTIC CELL ... &  3.12e-03 &  3.71 \\\\\n",
      " REGULATION OF CELL CYCLE G2/M PHASE TRANSITION... &  3.12e-03 &  3.70 \\\\\n",
      " MITOTIC PROMETAPHASE (REACTOME DATABASE ID REL... &  3.12e-03 &  3.50 \\\\\n",
      "                    CELL CYCLE, MITOTIC (REACTOME) &  3.12e-03 &  3.42 \\\\\n",
      " SUMOYLATION OF CHROMATIN ORGANIZATION PROTEINS... &  3.12e-03 &  3.32 \\\\\n",
      "                 CELL CYCLE CHECKPOINTS (REACTOME) &  3.12e-03 &  3.31 \\\\\n",
      " NEGATIVE REGULATION OF CELL CYCLE G2/M PHASE T... &  3.12e-03 &  3.25 \\\\\n",
      "                                M PHASE (REACTOME) &  3.12e-03 &  3.24 \\\\\n",
      "\\bottomrule\n",
      "\\end{tabular}\n",
      "\n"
     ]
    }
   ],
   "source": [
    "def format_pathway(x):\n",
    "    fields = x.split('%')\n",
    "    return '%s (%s)' % (fields[0], fields[1])\n",
    "\n",
    "pth = '../img/microarray-58-top-10-pathways-cluster-%d.tex'\n",
    "for key, values in cfeat.items():\n",
    "    with pd.option_context('display.precision', 2):\n",
    "        t = values.reset_index().reindex(['pathway', 'padj', 'NES'], axis=1)\n",
    "        t['pathway'] = t['pathway'].apply(format_pathway)\n",
    "        with open(pth % key, 'w') as f:\n",
    "            print(t[(t['NES'] > 0) & (t['padj'] < 0.05)].sort_values('NES', ascending=False).head(10).to_latex(index=False))\n",
    "            t[(t['NES'] > 0) & (t['padj'] < 0.05)].sort_values('NES', ascending=False).head(10).to_latex(f, index=False)"
   ]
  },
  {
   "cell_type": "code",
   "execution_count": null,
   "metadata": {},
   "outputs": [],
   "source": []
  },
  {
   "cell_type": "code",
   "execution_count": 35,
   "metadata": {},
   "outputs": [
    {
     "name": "stdout",
     "output_type": "stream",
     "text": [
      "Key:  0                                              pathway      padj       NES\n",
      "0                             TRANSLATION (REACTOME)  0.003357  4.519679\n",
      "1                                 TRANSLATION (GOBP)  0.003357  4.424136\n",
      "2                         RIBOSOME BIOGENESIS (GOBP)  0.003357  4.417018\n",
      "3  RRNA PROCESSING (REACTOME DATABASE ID RELEASE 66)  0.003357  4.288639\n",
      "4  RRNA PROCESSING IN THE NUCLEUS AND CYTOSOL (RE...  0.003357  4.252425\n",
      "5  MAJOR PATHWAY OF RRNA PROCESSING IN THE NUCLEO...  0.003357  4.215953\n",
      "6                PEPTIDE BIOSYNTHETIC PROCESS (GOBP)  0.003357  4.174270\n",
      "7                             RRNA PROCESSING (GOBP)  0.003357  4.164961\n",
      "8                            NCRNA PROCESSING (GOBP)  0.003357  4.157995\n",
      "9                HALLMARK_MYC_TARGETS_V1 (MSIGDB_C2)  0.003357  4.088252\n",
      "Key:  1                                              pathway      padj       NES\n",
      "0     HALLMARK_INTERFERON_GAMMA_RESPONSE (MSIGDB_C2)  0.001768  5.112493\n",
      "1         HALLMARK_INFLAMMATORY_RESPONSE (MSIGDB_C2)  0.001768  5.009057\n",
      "2       HALLMARK_TNFA_SIGNALING_VIA_NFKB (MSIGDB_C2)  0.001768  4.872291\n",
      "3                RESPONSE TO INTERFERON-GAMMA (GOBP)  0.001768  4.769488\n",
      "4                       INFLAMMATORY RESPONSE (GOBP)  0.001768  4.672275\n",
      "5                         LEUKOCYTE MIGRATION (GOBP)  0.001768  4.634945\n",
      "6           HALLMARK_ALLOGRAFT_REJECTION (MSIGDB_C2)  0.001768  4.596306\n",
      "7       CELLULAR RESPONSE TO INTERFERON-GAMMA (GOBP)  0.001768  4.571965\n",
      "8  IMMUNOREGULATORY INTERACTIONS BETWEEN A LYMPHO...  0.001768  4.570671\n",
      "9  MYELOID CELL ACTIVATION INVOLVED IN IMMUNE RES...  0.001769  4.561737\n",
      "Key:  2                                              pathway      padj       NES\n",
      "0     POSITIVE REGULATION OF SYNAPSE ASSEMBLY (GOBP)  0.010205  2.567875\n",
      "1               DENDRITIC SPINE MORPHOGENESIS (GOBP)  0.010205  2.501744\n",
      "2  CELL MORPHOGENESIS INVOLVED IN NEURON DIFFEREN...  0.010205  2.440983\n",
      "3                 DENDRITIC SPINE DEVELOPMENT (GOBP)  0.010205  2.429497\n",
      "4  CYTOSKELETON-DEPENDENT INTRACELLULAR TRANSPORT...  0.010205  2.415050\n",
      "5                        DENDRITE DEVELOPMENT (GOBP)  0.010205  2.410528\n",
      "6                 TRANSPORT ALONG MICROTUBULE (GOBP)  0.010205  2.399332\n",
      "7                 MICROTUBULE-BASED TRANSPORT (GOBP)  0.010205  2.399332\n",
      "8                  NON-MOTILE CILIUM ASSEMBLY (GOBP)  0.011626  2.389802\n",
      "9                      DENDRITE MORPHOGENESIS (GOBP)  0.010205  2.357134\n",
      "Key:  3                                              pathway     padj       NES\n",
      "0                HALLMARK_G2M_CHECKPOINT (MSIGDB_C2)  0.00312  3.891237\n",
      "1                   HALLMARK_E2F_TARGETS (MSIGDB_C2)  0.00312  3.741924\n",
      "2  REGULATION OF G2/M TRANSITION OF MITOTIC CELL ...  0.00312  3.707361\n",
      "3  REGULATION OF CELL CYCLE G2/M PHASE TRANSITION...  0.00312  3.704569\n",
      "4  MITOTIC PROMETAPHASE (REACTOME DATABASE ID REL...  0.00312  3.501058\n",
      "5                     CELL CYCLE, MITOTIC (REACTOME)  0.00312  3.424333\n",
      "6  SUMOYLATION OF CHROMATIN ORGANIZATION PROTEINS...  0.00312  3.315095\n",
      "7                  CELL CYCLE CHECKPOINTS (REACTOME)  0.00312  3.310439\n",
      "8  NEGATIVE REGULATION OF CELL CYCLE G2/M PHASE T...  0.00312  3.254873\n",
      "9                                 M PHASE (REACTOME)  0.00312  3.240005\n"
     ]
    }
   ],
   "source": [
    "fgsea_df = None\n",
    "for key, values in cfeat.items():\n",
    "    if fgsea_df is None:\n",
    "        header = pd.MultiIndex.from_product([list(cfeat.keys()), \n",
    "                                             ['padj', 'NES']],\n",
    "                                           names=['cluster', 'feature'])\n",
    "        \n",
    "        fgsea_df = pd.DataFrame(index=values.index.values, columns=header)\n",
    "        \n",
    "    print 'Key: ', key,\n",
    "    t = values.reset_index().reindex(['pathway', 'padj', 'NES'], axis=1)\n",
    "    t['pathway'] = t['pathway'].apply(format_pathway) \n",
    "    print(t[(t['NES'] > 0) & (t['padj'] < 0.05)].sort_values('NES', ascending=False).head(10))\n",
    "    \n",
    "    fgsea_df[(key, 'padj')] = values.loc[fgsea_df.index, 'padj'].values\n",
    "    fgsea_df[(key, 'NES')] = values.loc[fgsea_df.index, 'NES'].values"
   ]
  },
  {
   "cell_type": "code",
   "execution_count": 36,
   "metadata": {},
   "outputs": [],
   "source": [
    "pth = '../data/micro-58-synovial-Pathways-Enrichment.tsv'\n",
    "fgsea_df.to_csv(pth, sep='\\t')"
   ]
  },
  {
   "cell_type": "code",
   "execution_count": 39,
   "metadata": {},
   "outputs": [
    {
     "data": {
      "text/html": [
       "<div>\n",
       "<style scoped>\n",
       "    .dataframe tbody tr th:only-of-type {\n",
       "        vertical-align: middle;\n",
       "    }\n",
       "\n",
       "    .dataframe tbody tr th {\n",
       "        vertical-align: top;\n",
       "    }\n",
       "\n",
       "    .dataframe thead th {\n",
       "        text-align: right;\n",
       "    }\n",
       "</style>\n",
       "<table border=\"1\" class=\"dataframe\">\n",
       "  <thead>\n",
       "    <tr style=\"text-align: right;\">\n",
       "      <th></th>\n",
       "      <th>pval</th>\n",
       "      <th>padj</th>\n",
       "      <th>ES</th>\n",
       "      <th>NES</th>\n",
       "      <th>nMoreExtreme</th>\n",
       "      <th>size</th>\n",
       "      <th>leadingEdge</th>\n",
       "    </tr>\n",
       "    <tr>\n",
       "      <th>pathway</th>\n",
       "      <th></th>\n",
       "      <th></th>\n",
       "      <th></th>\n",
       "      <th></th>\n",
       "      <th></th>\n",
       "      <th></th>\n",
       "      <th></th>\n",
       "    </tr>\n",
       "  </thead>\n",
       "  <tbody>\n",
       "    <tr>\n",
       "      <th>POSITIVE REGULATION OF SYNAPSE ASSEMBLY%GOBP%GO:0051965</th>\n",
       "      <td>0.000123</td>\n",
       "      <td>0.010205</td>\n",
       "      <td>0.601092</td>\n",
       "      <td>2.567875</td>\n",
       "      <td>0</td>\n",
       "      <td>24</td>\n",
       "      <td>NLGN3|CLSTN2|EPHB3|CUX2|CLSTN1|BHLHB9|IL1RAPL1...</td>\n",
       "    </tr>\n",
       "    <tr>\n",
       "      <th>DENDRITIC SPINE MORPHOGENESIS%GOBP%GO:0060997</th>\n",
       "      <td>0.000124</td>\n",
       "      <td>0.010205</td>\n",
       "      <td>0.683882</td>\n",
       "      <td>2.501744</td>\n",
       "      <td>0</td>\n",
       "      <td>15</td>\n",
       "      <td>PAK3|SHANK1|SHANK2|EPHB3|ZNF365|WNT7A|EPHB1|EP...</td>\n",
       "    </tr>\n",
       "    <tr>\n",
       "      <th>CELL MORPHOGENESIS INVOLVED IN NEURON DIFFERENTIATION%GOBP%GO:0048667</th>\n",
       "      <td>0.000107</td>\n",
       "      <td>0.010205</td>\n",
       "      <td>0.316988</td>\n",
       "      <td>2.440983</td>\n",
       "      <td>0</td>\n",
       "      <td>256</td>\n",
       "      <td>NLGN3|PAK3|NRP2|SPTBN4|EPHA4|CDHR1|APP|ADGRB1|...</td>\n",
       "    </tr>\n",
       "    <tr>\n",
       "      <th>DENDRITIC SPINE DEVELOPMENT%GOBP%GO:0060996</th>\n",
       "      <td>0.000122</td>\n",
       "      <td>0.010205</td>\n",
       "      <td>0.622953</td>\n",
       "      <td>2.429497</td>\n",
       "      <td>0</td>\n",
       "      <td>18</td>\n",
       "      <td>PAK3|SHANK1|SHANK2|EPHB3|ZNF365|ARF4|WNT7A|EPH...</td>\n",
       "    </tr>\n",
       "    <tr>\n",
       "      <th>CYTOSKELETON-DEPENDENT INTRACELLULAR TRANSPORT%GOBP%GO:0030705</th>\n",
       "      <td>0.000112</td>\n",
       "      <td>0.010205</td>\n",
       "      <td>0.352694</td>\n",
       "      <td>2.415050</td>\n",
       "      <td>0</td>\n",
       "      <td>137</td>\n",
       "      <td>DLG2|KIF3B|APP|CLUAP1|MAP6|IFT88|SSX2IP|KIF3A|...</td>\n",
       "    </tr>\n",
       "  </tbody>\n",
       "</table>\n",
       "</div>"
      ],
      "text/plain": [
       "                                                        pval      padj  \\\n",
       "pathway                                                                  \n",
       "POSITIVE REGULATION OF SYNAPSE ASSEMBLY%GOBP%GO...  0.000123  0.010205   \n",
       "DENDRITIC SPINE MORPHOGENESIS%GOBP%GO:0060997       0.000124  0.010205   \n",
       "CELL MORPHOGENESIS INVOLVED IN NEURON DIFFERENT...  0.000107  0.010205   \n",
       "DENDRITIC SPINE DEVELOPMENT%GOBP%GO:0060996         0.000122  0.010205   \n",
       "CYTOSKELETON-DEPENDENT INTRACELLULAR TRANSPORT%...  0.000112  0.010205   \n",
       "\n",
       "                                                          ES       NES  \\\n",
       "pathway                                                                  \n",
       "POSITIVE REGULATION OF SYNAPSE ASSEMBLY%GOBP%GO...  0.601092  2.567875   \n",
       "DENDRITIC SPINE MORPHOGENESIS%GOBP%GO:0060997       0.683882  2.501744   \n",
       "CELL MORPHOGENESIS INVOLVED IN NEURON DIFFERENT...  0.316988  2.440983   \n",
       "DENDRITIC SPINE DEVELOPMENT%GOBP%GO:0060996         0.622953  2.429497   \n",
       "CYTOSKELETON-DEPENDENT INTRACELLULAR TRANSPORT%...  0.352694  2.415050   \n",
       "\n",
       "                                                    nMoreExtreme  size  \\\n",
       "pathway                                                                  \n",
       "POSITIVE REGULATION OF SYNAPSE ASSEMBLY%GOBP%GO...             0    24   \n",
       "DENDRITIC SPINE MORPHOGENESIS%GOBP%GO:0060997                  0    15   \n",
       "CELL MORPHOGENESIS INVOLVED IN NEURON DIFFERENT...             0   256   \n",
       "DENDRITIC SPINE DEVELOPMENT%GOBP%GO:0060996                    0    18   \n",
       "CYTOSKELETON-DEPENDENT INTRACELLULAR TRANSPORT%...             0   137   \n",
       "\n",
       "                                                                                          leadingEdge  \n",
       "pathway                                                                                                \n",
       "POSITIVE REGULATION OF SYNAPSE ASSEMBLY%GOBP%GO...  NLGN3|CLSTN2|EPHB3|CUX2|CLSTN1|BHLHB9|IL1RAPL1...  \n",
       "DENDRITIC SPINE MORPHOGENESIS%GOBP%GO:0060997       PAK3|SHANK1|SHANK2|EPHB3|ZNF365|WNT7A|EPHB1|EP...  \n",
       "CELL MORPHOGENESIS INVOLVED IN NEURON DIFFERENT...  NLGN3|PAK3|NRP2|SPTBN4|EPHA4|CDHR1|APP|ADGRB1|...  \n",
       "DENDRITIC SPINE DEVELOPMENT%GOBP%GO:0060996         PAK3|SHANK1|SHANK2|EPHB3|ZNF365|ARF4|WNT7A|EPH...  \n",
       "CYTOSKELETON-DEPENDENT INTRACELLULAR TRANSPORT%...  DLG2|KIF3B|APP|CLUAP1|MAP6|IFT88|SSX2IP|KIF3A|...  "
      ]
     },
     "execution_count": 39,
     "metadata": {},
     "output_type": "execute_result"
    }
   ],
   "source": [
    "cfeat[2].head()"
   ]
  },
  {
   "cell_type": "code",
   "execution_count": 1,
   "metadata": {},
   "outputs": [
    {
     "ename": "NameError",
     "evalue": "name 'pd' is not defined",
     "output_type": "error",
     "traceback": [
      "\u001b[0;31m\u001b[0m",
      "\u001b[0;31mNameError\u001b[0mTraceback (most recent call last)",
      "\u001b[0;32m<ipython-input-1-43d34f45cd06>\u001b[0m in \u001b[0;36m<module>\u001b[0;34m()\u001b[0m\n\u001b[1;32m      1\u001b[0m \u001b[0mpth\u001b[0m \u001b[0;34m=\u001b[0m \u001b[0;34m'../data/pdata-group-2.tsv'\u001b[0m\u001b[0;34m\u001b[0m\u001b[0m\n\u001b[0;32m----> 2\u001b[0;31m \u001b[0mp2\u001b[0m \u001b[0;34m=\u001b[0m \u001b[0mpd\u001b[0m\u001b[0;34m.\u001b[0m\u001b[0mread_csv\u001b[0m\u001b[0;34m(\u001b[0m\u001b[0mpth\u001b[0m\u001b[0;34m,\u001b[0m \u001b[0msep\u001b[0m\u001b[0;34m=\u001b[0m\u001b[0;34m'\\t'\u001b[0m\u001b[0;34m,\u001b[0m \u001b[0mindex_col\u001b[0m\u001b[0;34m=\u001b[0m\u001b[0;36m1\u001b[0m\u001b[0;34m)\u001b[0m\u001b[0;34m\u001b[0m\u001b[0m\n\u001b[0m\u001b[1;32m      3\u001b[0m \u001b[0mp2\u001b[0m\u001b[0;34m.\u001b[0m\u001b[0mhead\u001b[0m\u001b[0;34m(\u001b[0m\u001b[0;34m)\u001b[0m\u001b[0;34m\u001b[0m\u001b[0m\n",
      "\u001b[0;31mNameError\u001b[0m: name 'pd' is not defined"
     ]
    }
   ],
   "source": [
    "pth = '../data/pdata-group-2.tsv'\n",
    "p2 = pd.read_csv(pth, sep='\\t', index_col=1)\n",
    "p2.head()"
   ]
  },
  {
   "cell_type": "code",
   "execution_count": 16,
   "metadata": {},
   "outputs": [],
   "source": [
    "surv = pd.DataFrame(columns=['sample', 'cluster', 'fusion', 'metastasis', 'time'])\n",
    "\n",
    "for sample, assignment in zip(exp.columns, clus.get_assignments(exp)):\n",
    "    met = 1 if p2.loc[sample, 'metastasis:ch1'] == 'yes' else 0\n",
    "    surv.loc[len(surv), :] = [sample, assignment, p2.loc[sample, 'fusion transcrit:ch1'], met, p2.loc[sample, 'time:ch1']]"
   ]
  },
  {
   "cell_type": "code",
   "execution_count": 18,
   "metadata": {},
   "outputs": [],
   "source": [
    "surv.to_csv(\"../data/micro-58-survival-data.tsv\", sep='\\t', index=False)"
   ]
  },
  {
   "cell_type": "code",
   "execution_count": 21,
   "metadata": {},
   "outputs": [],
   "source": [
    "surv[surv['cluster'].isin([0, 1])].to_csv(\"../data/micro-58-cluster-0-or-1-survival-data.tsv\", \n",
    "                                         sep='\\t', \n",
    "                                         index=False)"
   ]
  },
  {
   "cell_type": "code",
   "execution_count": null,
   "metadata": {},
   "outputs": [],
   "source": []
  }
 ],
 "metadata": {
  "kernelspec": {
   "display_name": "Python 2",
   "language": "python",
   "name": "python2"
  },
  "language_info": {
   "codemirror_mode": {
    "name": "ipython",
    "version": 2
   },
   "file_extension": ".py",
   "mimetype": "text/x-python",
   "name": "python",
   "nbconvert_exporter": "python",
   "pygments_lexer": "ipython2",
   "version": "2.7.16"
  }
 },
 "nbformat": 4,
 "nbformat_minor": 2
}
