{
 "cells": [
  {
   "cell_type": "code",
   "execution_count": null,
   "metadata": {},
   "outputs": [],
   "source": [
    "library(survival)\n",
    "library(survminer)\n",
    "library(tidyverse)\n",
    "library(dplyr)"
   ]
  },
  {
   "cell_type": "code",
   "execution_count": null,
   "metadata": {},
   "outputs": [],
   "source": [
    "p2 <- '../data/micro-58-cluster-0-or-1-survival-data.tsv'\n",
    "d2 <- read.table(p2, sep='\\t', header=T)\n",
    "d2 <- as_tibble(d2)\n",
    "head(d2)"
   ]
  },
  {
   "cell_type": "code",
   "execution_count": null,
   "metadata": {},
   "outputs": [],
   "source": [
    "fit2 <- survfit(Surv(time, metastasis) ~ cluster, data=d2)\n",
    "g <- ggsurvplot(fit2, conf.int=F, pval=T, risk.table=TRUE)\n",
    "ggsave( \"../img/Immune-Proliferative-survival.png\", \n",
    "       print(g), \n",
    "       dpi = 1000 )\n",
    "g"
   ]
  }
 ],
 "metadata": {
  "kernelspec": {
   "display_name": "R",
   "language": "R",
   "name": "ir"
  },
  "language_info": {
   "codemirror_mode": "r",
   "file_extension": ".r",
   "mimetype": "text/x-r-source",
   "name": "R",
   "pygments_lexer": "r",
   "version": "3.4.4"
  }
 },
 "nbformat": 4,
 "nbformat_minor": 2
}
