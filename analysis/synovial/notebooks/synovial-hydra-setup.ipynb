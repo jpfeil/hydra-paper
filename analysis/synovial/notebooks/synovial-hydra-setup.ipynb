{
 "cells": [
  {
   "cell_type": "code",
   "execution_count": 3,
   "metadata": {},
   "outputs": [],
   "source": [
    "import pandas as pd"
   ]
  },
  {
   "cell_type": "code",
   "execution_count": 4,
   "metadata": {},
   "outputs": [],
   "source": [
    "pth = '/home/jpfeil/work/references/clinical_v9_2019-03-08.tsv'\n",
    "\n",
    "clinical = pd.read_csv(pth, sep='\\t', index_col=0)"
   ]
  },
  {
   "cell_type": "code",
   "execution_count": 6,
   "metadata": {},
   "outputs": [],
   "source": [
    "clinical[clinical['disease'].str.contains('synovial sarcoma')].to_csv('/tmp/synovial-sarcoma-meta.tsv',\n",
    "                                                                      sep='\\t')"
   ]
  },
  {
   "cell_type": "code",
   "execution_count": 3,
   "metadata": {},
   "outputs": [],
   "source": [
    "samples = clinical[clinical['disease'].str.contains('synovial sarcoma')].index.values"
   ]
  },
  {
   "cell_type": "code",
   "execution_count": 4,
   "metadata": {},
   "outputs": [
    {
     "data": {
      "text/plain": [
       "36"
      ]
     },
     "execution_count": 4,
     "metadata": {},
     "output_type": "execute_result"
    }
   ],
   "source": [
    "len(samples)"
   ]
  },
  {
   "cell_type": "code",
   "execution_count": 5,
   "metadata": {},
   "outputs": [],
   "source": [
    "pth = '/home/jpfeil/treehouse/compendium/v9/v9_hugo_log2tpm_58581genes_2019-03-08.hd5'\n",
    "\n",
    "exp = pd.read_hdf(pth)"
   ]
  },
  {
   "cell_type": "code",
   "execution_count": 6,
   "metadata": {},
   "outputs": [],
   "source": [
    "exp = exp.reindex(samples, axis=1)\n",
    "\n",
    "pth = 'treehouse-synovial-log2TPM1-V9.tsv'\n",
    "\n",
    "exp[exp.mean(axis=1) > 1.0].to_csv(pth, sep='\\t')"
   ]
  },
  {
   "cell_type": "code",
   "execution_count": null,
   "metadata": {},
   "outputs": [],
   "source": []
  }
 ],
 "metadata": {
  "kernelspec": {
   "display_name": "Python 3",
   "language": "python",
   "name": "python3"
  },
  "language_info": {
   "codemirror_mode": {
    "name": "ipython",
    "version": 3
   },
   "file_extension": ".py",
   "mimetype": "text/x-python",
   "name": "python",
   "nbconvert_exporter": "python",
   "pygments_lexer": "ipython3",
   "version": "3.7.3"
  }
 },
 "nbformat": 4,
 "nbformat_minor": 2
}
