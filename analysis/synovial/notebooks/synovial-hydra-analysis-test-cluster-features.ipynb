{
 "cells": [
  {
   "cell_type": "code",
   "execution_count": 1,
   "metadata": {},
   "outputs": [],
   "source": [
    "import sys\n",
    "import pandas as pd\n",
    "\n",
    "sys.path.append('/opt/hydra/')\n",
    "\n",
    "import library.analysis as hydra"
   ]
  },
  {
   "cell_type": "code",
   "execution_count": 2,
   "metadata": {},
   "outputs": [
    {
     "name": "stdout",
     "output_type": "stream",
     "text": [
      "outlier-correlation-analysis.ipynb\r\n",
      "synovial-hydra-analysis.ipynb\r\n",
      "synovial-hydra-analysis-test-cluster-features.ipynb\r\n",
      "synovial-hydra-setup.ipynb\r\n"
     ]
    }
   ],
   "source": [
    "!ls"
   ]
  },
  {
   "cell_type": "code",
   "execution_count": 3,
   "metadata": {},
   "outputs": [],
   "source": [
    "exp_path = '../data/treehouse-synovial-log2TPM1-V9.tsv'\n",
    "mm_path = '../data/synovial-output/MultiModalGenes'"
   ]
  },
  {
   "cell_type": "code",
   "execution_count": 4,
   "metadata": {},
   "outputs": [],
   "source": [
    "exp = pd.read_csv(exp_path, sep='\\t', index_col=0)"
   ]
  },
  {
   "cell_type": "code",
   "execution_count": 5,
   "metadata": {},
   "outputs": [],
   "source": [
    "mm = hydra.EnrichmentAnalysis(mm_path,\n",
    "                              exp_path,\n",
    "                              min_prob_filter=0.29,\n",
    "                              gmt_path='GO')"
   ]
  },
  {
   "cell_type": "code",
   "execution_count": 6,
   "metadata": {
    "scrolled": true
   },
   "outputs": [
    {
     "data": {
      "text/plain": [
       "35"
      ]
     },
     "execution_count": 6,
     "metadata": {},
     "output_type": "execute_result"
    }
   ],
   "source": [
    "genes = mm.get_enriched_term_genes()\n",
    "len(genes)"
   ]
  },
  {
   "cell_type": "code",
   "execution_count": 7,
   "metadata": {
    "scrolled": true
   },
   "outputs": [
    {
     "name": "stdout",
     "output_type": "stream",
     "text": [
      "DELETE @ lap 1.00: Disabled. Cannot delete before first complete lap, because SS that represents whole dataset is required.\n",
      "DELETE @ lap 2.00: 0/1 accepted. Ndiff 0.00.\n",
      "DELETE @ lap 3.00: 0/1 accepted. Ndiff 0.00.\n",
      "DELETE @ lap 4.00: 0/1 accepted. Ndiff 0.00.\n",
      "DELETE @ lap 5.00: Empty plan. 0 UIDs eligible as delete target. 0 too busy with other moves. 0 too big. 3 have past failures.\n",
      "DELETE @ lap 6.00: Empty plan. 0 UIDs eligible as delete target. 0 too busy with other moves. 0 too big. 3 have past failures.\n",
      "DELETE @ lap 7.00: Empty plan. 0 UIDs eligible as delete target. 0 too busy with other moves. 0 too big. 3 have past failures.\n",
      "DELETE @ lap 8.00: 0/1 accepted. Ndiff 0.00.\n",
      "DELETE @ lap 9.00: 0/1 accepted. Ndiff 0.00.\n",
      "DELETE @ lap 10.00: 0/1 accepted. Ndiff 0.00.\n",
      "DELETE @ lap 11.00: Empty plan. 0 UIDs eligible as delete target. 0 too busy with other moves. 0 too big. 3 have past failures.\n",
      "DELETE @ lap 12.00: Empty plan. 0 UIDs eligible as delete target. 0 too busy with other moves. 0 too big. 3 have past failures.\n",
      "DELETE @ lap 13.00: Empty plan. 0 UIDs eligible as delete target. 0 too busy with other moves. 0 too big. 3 have past failures.\n"
     ]
    }
   ],
   "source": [
    "clus = hydra.MultivariateMixtureModel(data=exp.reindex(genes),\n",
    "                                      center=True,\n",
    "                                      gamma=5.0,\n",
    "                                      variance=2.0,\n",
    "                                      K=1)"
   ]
  },
  {
   "cell_type": "code",
   "execution_count": 8,
   "metadata": {},
   "outputs": [],
   "source": [
    "cf = clus.get_cluster_features(exp=exp, gmt=\"/opt/hydra/gene-sets/Human_GOBP_AllPathways_no_GO_iea_December_01_2018_symbol.gmt\")"
   ]
  },
  {
   "cell_type": "code",
   "execution_count": 9,
   "metadata": {},
   "outputs": [
    {
     "data": {
      "text/html": [
       "<div>\n",
       "<style scoped>\n",
       "    .dataframe tbody tr th:only-of-type {\n",
       "        vertical-align: middle;\n",
       "    }\n",
       "\n",
       "    .dataframe tbody tr th {\n",
       "        vertical-align: top;\n",
       "    }\n",
       "\n",
       "    .dataframe thead th {\n",
       "        text-align: right;\n",
       "    }\n",
       "</style>\n",
       "<table border=\"1\" class=\"dataframe\">\n",
       "  <thead>\n",
       "    <tr style=\"text-align: right;\">\n",
       "      <th></th>\n",
       "      <th>pval</th>\n",
       "      <th>padj</th>\n",
       "      <th>ES</th>\n",
       "      <th>NES</th>\n",
       "      <th>nMoreExtreme</th>\n",
       "      <th>size</th>\n",
       "      <th>leadingEdge</th>\n",
       "    </tr>\n",
       "    <tr>\n",
       "      <th>pathway</th>\n",
       "      <th></th>\n",
       "      <th></th>\n",
       "      <th></th>\n",
       "      <th></th>\n",
       "      <th></th>\n",
       "      <th></th>\n",
       "      <th></th>\n",
       "    </tr>\n",
       "  </thead>\n",
       "  <tbody>\n",
       "    <tr>\n",
       "      <th>EYE MORPHOGENESIS%GOBP%GO:0048592</th>\n",
       "      <td>0.000069</td>\n",
       "      <td>0.009724</td>\n",
       "      <td>0.468137</td>\n",
       "      <td>2.326318</td>\n",
       "      <td>0</td>\n",
       "      <td>55</td>\n",
       "      <td>PAX6|EFEMP1|FBN2|TULP1|TENM3|PROX1|COL5A2|DLL1...</td>\n",
       "    </tr>\n",
       "    <tr>\n",
       "      <th>GOLGI ORGANIZATION%GOBP%GO:0007030</th>\n",
       "      <td>0.000067</td>\n",
       "      <td>0.009724</td>\n",
       "      <td>0.413815</td>\n",
       "      <td>2.290823</td>\n",
       "      <td>0</td>\n",
       "      <td>104</td>\n",
       "      <td>PRKD1|RAB30|GORASP2|RAB2A|NSFL1C|TBC1D20|GBF1|...</td>\n",
       "    </tr>\n",
       "    <tr>\n",
       "      <th>CARDIAC SEPTUM DEVELOPMENT%GOBP%GO:0003279</th>\n",
       "      <td>0.000069</td>\n",
       "      <td>0.009724</td>\n",
       "      <td>0.459835</td>\n",
       "      <td>2.285061</td>\n",
       "      <td>0</td>\n",
       "      <td>55</td>\n",
       "      <td>GATA3|ROBO2|SEMA3C|ZFPM2|CITED2|SALL1|NRP1|PRO...</td>\n",
       "    </tr>\n",
       "    <tr>\n",
       "      <th>HALLMARK_TGF_BETA_SIGNALING%MSIGDB_C2%HALLMARK_TGF_BETA_SIGNALING</th>\n",
       "      <td>0.000069</td>\n",
       "      <td>0.009724</td>\n",
       "      <td>0.447502</td>\n",
       "      <td>2.208079</td>\n",
       "      <td>0</td>\n",
       "      <td>53</td>\n",
       "      <td>ID2|ID1|BMP2|ID3|SMAD7|PMEPA1|NCOR2|TJP1|IFNGR...</td>\n",
       "    </tr>\n",
       "    <tr>\n",
       "      <th>NABA_CORE_MATRISOME%MSIGDB_C2%NABA_CORE_MATRISOME</th>\n",
       "      <td>0.000067</td>\n",
       "      <td>0.009724</td>\n",
       "      <td>0.365253</td>\n",
       "      <td>2.178109</td>\n",
       "      <td>0</td>\n",
       "      <td>197</td>\n",
       "      <td>NELL2|SPOCK3|EFEMP1|FBN2|SPON2|VCAN|COL3A1|NEL...</td>\n",
       "    </tr>\n",
       "  </tbody>\n",
       "</table>\n",
       "</div>"
      ],
      "text/plain": [
       "                                                        pval      padj  \\\n",
       "pathway                                                                  \n",
       "EYE MORPHOGENESIS%GOBP%GO:0048592                   0.000069  0.009724   \n",
       "GOLGI ORGANIZATION%GOBP%GO:0007030                  0.000067  0.009724   \n",
       "CARDIAC SEPTUM DEVELOPMENT%GOBP%GO:0003279          0.000069  0.009724   \n",
       "HALLMARK_TGF_BETA_SIGNALING%MSIGDB_C2%HALLMARK_...  0.000069  0.009724   \n",
       "NABA_CORE_MATRISOME%MSIGDB_C2%NABA_CORE_MATRISOME   0.000067  0.009724   \n",
       "\n",
       "                                                          ES       NES  \\\n",
       "pathway                                                                  \n",
       "EYE MORPHOGENESIS%GOBP%GO:0048592                   0.468137  2.326318   \n",
       "GOLGI ORGANIZATION%GOBP%GO:0007030                  0.413815  2.290823   \n",
       "CARDIAC SEPTUM DEVELOPMENT%GOBP%GO:0003279          0.459835  2.285061   \n",
       "HALLMARK_TGF_BETA_SIGNALING%MSIGDB_C2%HALLMARK_...  0.447502  2.208079   \n",
       "NABA_CORE_MATRISOME%MSIGDB_C2%NABA_CORE_MATRISOME   0.365253  2.178109   \n",
       "\n",
       "                                                    nMoreExtreme  size  \\\n",
       "pathway                                                                  \n",
       "EYE MORPHOGENESIS%GOBP%GO:0048592                              0    55   \n",
       "GOLGI ORGANIZATION%GOBP%GO:0007030                             0   104   \n",
       "CARDIAC SEPTUM DEVELOPMENT%GOBP%GO:0003279                     0    55   \n",
       "HALLMARK_TGF_BETA_SIGNALING%MSIGDB_C2%HALLMARK_...             0    53   \n",
       "NABA_CORE_MATRISOME%MSIGDB_C2%NABA_CORE_MATRISOME              0   197   \n",
       "\n",
       "                                                                                          leadingEdge  \n",
       "pathway                                                                                                \n",
       "EYE MORPHOGENESIS%GOBP%GO:0048592                   PAX6|EFEMP1|FBN2|TULP1|TENM3|PROX1|COL5A2|DLL1...  \n",
       "GOLGI ORGANIZATION%GOBP%GO:0007030                  PRKD1|RAB30|GORASP2|RAB2A|NSFL1C|TBC1D20|GBF1|...  \n",
       "CARDIAC SEPTUM DEVELOPMENT%GOBP%GO:0003279          GATA3|ROBO2|SEMA3C|ZFPM2|CITED2|SALL1|NRP1|PRO...  \n",
       "HALLMARK_TGF_BETA_SIGNALING%MSIGDB_C2%HALLMARK_...  ID2|ID1|BMP2|ID3|SMAD7|PMEPA1|NCOR2|TJP1|IFNGR...  \n",
       "NABA_CORE_MATRISOME%MSIGDB_C2%NABA_CORE_MATRISOME   NELL2|SPOCK3|EFEMP1|FBN2|SPON2|VCAN|COL3A1|NEL...  "
      ]
     },
     "execution_count": 9,
     "metadata": {},
     "output_type": "execute_result"
    }
   ],
   "source": [
    "cf[0].head()"
   ]
  },
  {
   "cell_type": "code",
   "execution_count": null,
   "metadata": {},
   "outputs": [],
   "source": []
  },
  {
   "cell_type": "code",
   "execution_count": null,
   "metadata": {},
   "outputs": [],
   "source": []
  }
 ],
 "metadata": {
  "kernelspec": {
   "display_name": "Python 2",
   "language": "python",
   "name": "python2"
  },
  "language_info": {
   "codemirror_mode": {
    "name": "ipython",
    "version": 2
   },
   "file_extension": ".py",
   "mimetype": "text/x-python",
   "name": "python",
   "nbconvert_exporter": "python",
   "pygments_lexer": "ipython2",
   "version": "2.7.16"
  }
 },
 "nbformat": 4,
 "nbformat_minor": 2
}
