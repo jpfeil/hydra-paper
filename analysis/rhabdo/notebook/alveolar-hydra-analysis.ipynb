{
 "cells": [
  {
   "cell_type": "code",
   "execution_count": null,
   "metadata": {},
   "outputs": [],
   "source": [
    "import sys\n",
    "import pandas as pd\n",
    "import numpy as np\n",
    "\n",
    "sys.path.append('/opt/hydra/')\n",
    "\n",
    "import library.analysis as hydra"
   ]
  },
  {
   "cell_type": "code",
   "execution_count": null,
   "metadata": {},
   "outputs": [],
   "source": [
    "exp_path = '../data/TH-ALVEOLAR-log2TPM1.tsv'\n",
    "mm_path = '../data/hydra-alveolar/MultiModalGenes'"
   ]
  },
  {
   "cell_type": "code",
   "execution_count": null,
   "metadata": {},
   "outputs": [],
   "source": [
    "exp = pd.read_csv(exp_path, sep='\\t', index_col=0)"
   ]
  },
  {
   "cell_type": "code",
   "execution_count": null,
   "metadata": {},
   "outputs": [],
   "source": [
    "scan = hydra.ScanEnrichmentAnalysis(mm_path, \n",
    "                                    exp_path, \n",
    "                                    'GO',\n",
    "                                     #min_prob_range=[0.25, 0.33, 0.35],\n",
    "                                     min_prob_range=np.linspace(0.2, 0.4, 15),\n",
    "                                     K=5).scan()"
   ]
  },
  {
   "cell_type": "code",
   "execution_count": null,
   "metadata": {},
   "outputs": [],
   "source": [
    "scan"
   ]
  },
  {
   "cell_type": "code",
   "execution_count": null,
   "metadata": {},
   "outputs": [],
   "source": [
    "en = hydra.EnrichmentAnalysis(exp_path=exp_path,\n",
    "                              mm_path=mm_path,\n",
    "                              gmt_path='GO',\n",
    "                              min_prob_filter=0.33)"
   ]
  },
  {
   "cell_type": "code",
   "execution_count": null,
   "metadata": {},
   "outputs": [],
   "source": [
    "en.get_enriched_terms()"
   ]
  },
  {
   "cell_type": "code",
   "execution_count": null,
   "metadata": {
    "scrolled": false
   },
   "outputs": [],
   "source": [
    "hclust = hydra.HClust(exp.reindex(en.get_enriched_term_genes()))\n",
    "hclust.plot()"
   ]
  },
  {
   "cell_type": "code",
   "execution_count": null,
   "metadata": {},
   "outputs": [],
   "source": [
    "clust = hydra.MultivariateMixtureModel(data=exp.reindex(en.get_enriched_term_genes()),\n",
    "                                       center=True,\n",
    "                                       gamma=5.0,\n",
    "                                       variance=2.0,\n",
    "                                       K=1)"
   ]
  },
  {
   "cell_type": "code",
   "execution_count": null,
   "metadata": {},
   "outputs": [],
   "source": [
    "fgsea = clust.get_cluster_features(exp=exp,\n",
    "                                   gmt='/opt/hydra/gene-sets/Human_GOBP_AllPathways_no_GO_iea_December_01_2018_symbol.gmt')"
   ]
  },
  {
   "cell_type": "code",
   "execution_count": null,
   "metadata": {},
   "outputs": [],
   "source": [
    "def format_pathway(x):\n",
    "    fields = x.split('%')\n",
    "    return '%s (%s)' % (fields[0], fields[1])"
   ]
  },
  {
   "cell_type": "code",
   "execution_count": null,
   "metadata": {},
   "outputs": [],
   "source": [
    "fgsea_df = None\n",
    "for key, values in fgsea.items():\n",
    "    if fgsea_df is None:\n",
    "        header = pd.MultiIndex.from_product([list(fgsea.keys()), \n",
    "                                             ['padj', 'NES']],\n",
    "                                           names=['cluster', 'feature'])\n",
    "        \n",
    "        fgsea_df = pd.DataFrame(index=values.index.values, columns=header)\n",
    "        \n",
    "    print 'Key: ', key,\n",
    "    t = values.reset_index().reindex(['pathway', 'padj', 'NES'], axis=1)\n",
    "    t['pathway'] = t['pathway'].apply(format_pathway) \n",
    "    print(t[(t['NES'] > 0) & (t['padj'] < 0.05)].sort_values('NES', ascending=False).head(10))\n",
    "    \n",
    "    fgsea_df[(key, 'padj')] = values.loc[fgsea_df.index, 'padj'].values\n",
    "    fgsea_df[(key, 'NES')] = values.loc[fgsea_df.index, 'NES'].values"
   ]
  },
  {
   "cell_type": "code",
   "execution_count": null,
   "metadata": {},
   "outputs": [],
   "source": [
    "pth = '../data/TH-aRMS-Pathways-Enrichment.tsv'\n",
    "fgsea_df.to_csv(pth, sep='\\t')"
   ]
  },
  {
   "cell_type": "code",
   "execution_count": null,
   "metadata": {},
   "outputs": [],
   "source": [
    "cpth = '../img/TH-aRMS-top-10-pathways-cluster-%d.tex'\n",
    "for key, values in fgsea.items():\n",
    "    with pd.option_context('display.precision', 2):\n",
    "        t = values.reset_index().reindex(['pathway', 'padj', 'NES'], axis=1)\n",
    "        t['pathway'] = t['pathway'].apply(format_pathway)\n",
    "        with open(pth % key, 'w') as f:\n",
    "            print(t[(t['NES'] > 0) & (t['padj'] < 0.05)].sort_values('NES', ascending=False).head(10).to_latex(index=False))\n",
    "            t[(t['NES'] > 0) & (t['padj'] < 0.05)].sort_values('NES', ascending=False).head(10).to_latex(f, index=False)"
   ]
  },
  {
   "cell_type": "code",
   "execution_count": null,
   "metadata": {},
   "outputs": [],
   "source": [
    "assignments = clust.get_assignments(exp.reindex(en.get_enriched_term_genes()))\n",
    "\n",
    "assign = pd.DataFrame(index=exp.columns,\n",
    "                      columns=[1])\n",
    "\n",
    "for sample, assignment in zip(exp.columns, assignments):\n",
    "    assign.loc[sample, 1] = assignment + 1"
   ]
  },
  {
   "cell_type": "code",
   "execution_count": null,
   "metadata": {},
   "outputs": [],
   "source": [
    "import seaborn as sns\n",
    "import matplotlib.pyplot as plt\n",
    "\n",
    "col_order = assign.sort_values(1).index.values\n",
    "cmap = sns.color_palette(\"Set2\", max(assign[1].values))\n",
    "col_colors = [cmap[x - 1] for x in assign.sort_values(1)[1].values]\n",
    "\n",
    "g = sns.clustermap(exp.reindex(en.get_enriched_term_genes()).reindex(col_order, axis=1),\n",
    "                   col_cluster=False,\n",
    "                   col_colors=col_colors,\n",
    "                   z_score=0,\n",
    "                   method='ward',\n",
    "                   center=0,\n",
    "                   cmap=sns.diverging_palette(240, 10, n=7),\n",
    "                   figsize=(10, 10))\n",
    "\n",
    "ax = g.ax_heatmap\n",
    "\n",
    "ax.set_xticklabels([])\n",
    "ax.set_xticks([])\n",
    "ax.set_yticklabels([])\n",
    "ax.set_yticks([])\n",
    "\n",
    "pth = '../img/aRMS-expression-heatmap.svg'\n",
    "plt.savefig(pth, format='svg', bbox_inches='tight')\n",
    "\n",
    "pth = '../img/aRMS-expression-heatmap.png'\n",
    "plt.savefig(pth, format='png', bbox_inches='tight')"
   ]
  },
  {
   "cell_type": "code",
   "execution_count": null,
   "metadata": {},
   "outputs": [],
   "source": [
    "def format_pathway(x):\n",
    "    fields = x.split('%')\n",
    "    return '%s (%s)' % (fields[0], fields[1])"
   ]
  },
  {
   "cell_type": "code",
   "execution_count": null,
   "metadata": {},
   "outputs": [],
   "source": [
    "for key, values in fgsea.items():\n",
    "    print 'Key: ', key,\n",
    "    t = values.reset_index().reindex(['pathway', 'padj', 'NES'], axis=1)\n",
    "    t['pathway'] = t['pathway'].apply(format_pathway) \n",
    "    print(t[(t['NES'] > 0) & (t['padj'] < 0.05)].sort_values('NES', ascending=False).head(10))"
   ]
  },
  {
   "cell_type": "code",
   "execution_count": null,
   "metadata": {},
   "outputs": [],
   "source": [
    "pth = '../img/TH-aRMS-top-10-pathways-cluster-%d.tex'\n",
    "for key, values in fgsea.items():\n",
    "    with pd.option_context('display.precision', 2):\n",
    "        t = values.reset_index().reindex(['pathway', 'padj', 'NES'], axis=1)\n",
    "        t['pathway'] = t['pathway'].apply(format_pathway)\n",
    "        with open(pth % key, 'w') as f:\n",
    "            print(t[(t['NES'] > 0) & (t['padj'] < 0.05)].sort_values('NES', ascending=False).head(10).to_latex(index=False))\n",
    "            t[(t['NES'] > 0) & (t['padj'] < 0.05)].sort_values('NES', ascending=False).head(10).to_latex(f, index=False)"
   ]
  }
 ],
 "metadata": {
  "kernelspec": {
   "display_name": "Python 2",
   "language": "python",
   "name": "python2"
  },
  "language_info": {
   "codemirror_mode": {
    "name": "ipython",
    "version": 2
   },
   "file_extension": ".py",
   "mimetype": "text/x-python",
   "name": "python",
   "nbconvert_exporter": "python",
   "pygments_lexer": "ipython2",
   "version": "2.7.16"
  }
 },
 "nbformat": 4,
 "nbformat_minor": 2
}
