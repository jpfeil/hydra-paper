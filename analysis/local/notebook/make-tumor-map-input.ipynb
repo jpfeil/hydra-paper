{
 "cells": [
  {
   "cell_type": "code",
   "execution_count": null,
   "metadata": {},
   "outputs": [],
   "source": [
    "import pandas as pd\n",
    "from collections import Counter"
   ]
  },
  {
   "cell_type": "code",
   "execution_count": null,
   "metadata": {},
   "outputs": [],
   "source": [
    "meta = pd.read_csv('/home/jpfeil/work/references/clinical_v10_polya_2019-07-29.tsv',\n",
    "                   sep='\\t')"
   ]
  },
  {
   "cell_type": "code",
   "execution_count": null,
   "metadata": {},
   "outputs": [],
   "source": [
    "exp = pd.read_hdf('/home/jpfeil/work/references/TumorCompendium_v10_PolyA_hugo_log2tpm_58581genes_2019-07-25.hd5')"
   ]
  },
  {
   "cell_type": "code",
   "execution_count": null,
   "metadata": {},
   "outputs": [],
   "source": [
    "diseases = ['neuroblastoma',\n",
    "            'osteosarcoma',\n",
    "            'embryonal rhabdomyosarcoma',\n",
    "            'alveolar rhabdomyosarcoma',\n",
    "            'synovial sarcoma',\n",
    "            'Ewing sarcoma']\n",
    "\n",
    "\n",
    "mask = (meta['disease'].isin(diseases))\n",
    "clinical = meta.loc[mask, :]"
   ]
  },
  {
   "cell_type": "code",
   "execution_count": null,
   "metadata": {},
   "outputs": [],
   "source": [
    "mask = (meta['disease'] == 'neuroblastoma') & (meta['th_sampleid'].str.startswith('TARGET'))\n",
    "meta.loc[mask, :]"
   ]
  },
  {
   "cell_type": "code",
   "execution_count": null,
   "metadata": {},
   "outputs": [],
   "source": [
    "pth = '../../nbl/mycn-na/data/expression/target-high-risk-nbl-mycn-na-exp-2018-11-12.tsv'\n",
    "nbl = pd.read_csv(pth, sep='\\t', index_col=0)"
   ]
  },
  {
   "cell_type": "code",
   "execution_count": null,
   "metadata": {},
   "outputs": [],
   "source": [
    "# Add TARGET neuroblastoma\n",
    "samples = set()\n",
    "for sample in clinical['th_sampleid'].values:\n",
    "    if sample.startswith('TARGET-30'):\n",
    "        if sample in nbl.columns.values:\n",
    "            samples.add(sample)\n",
    "    else:     \n",
    "        samples.add(sample)"
   ]
  },
  {
   "cell_type": "code",
   "execution_count": null,
   "metadata": {},
   "outputs": [],
   "source": [
    "attrs = pd.DataFrame(index=samples, columns=['disease'])\n",
    "for sample in samples:\n",
    "    try:\n",
    "        disease = clinical.loc[clinical['th_sampleid'] == sample, 'disease'].item()\n",
    "        attrs.loc[sample, 'disease'] = disease\n",
    "        \n",
    "    except:\n",
    "        print( clinical.loc[clinical['th_sampleid'] == sample].shape )\n",
    "        \n",
    "attrs = attrs.sort_values('disease')"
   ]
  },
  {
   "cell_type": "code",
   "execution_count": null,
   "metadata": {},
   "outputs": [],
   "source": [
    "attrs.to_csv(\"../data/blue-round-cell-tumors-attrs.tsv\", sep='\\t')"
   ]
  },
  {
   "cell_type": "code",
   "execution_count": null,
   "metadata": {},
   "outputs": [],
   "source": [
    "exp = exp.reindex(samples, axis=1)\n",
    "exp[exp.mean(axis=1) > 1.0].to_csv('../data/blue-round-cell-tumors-exp.tsv', sep='\\t')"
   ]
  },
  {
   "cell_type": "code",
   "execution_count": null,
   "metadata": {},
   "outputs": [],
   "source": [
    "count = 0\n",
    "for sample in exp.columns:\n",
    "    if sample.startswith('TARGET-30'):\n",
    "        count += 1\n",
    "        \n",
    "count"
   ]
  },
  {
   "cell_type": "code",
   "execution_count": null,
   "metadata": {},
   "outputs": [],
   "source": []
  }
 ],
 "metadata": {
  "kernelspec": {
   "display_name": "Python 2",
   "language": "python",
   "name": "python2"
  },
  "language_info": {
   "codemirror_mode": {
    "name": "ipython",
    "version": 2
   },
   "file_extension": ".py",
   "mimetype": "text/x-python",
   "name": "python",
   "nbconvert_exporter": "python",
   "pygments_lexer": "ipython2",
   "version": "2.7.16"
  }
 },
 "nbformat": 4,
 "nbformat_minor": 2
}
